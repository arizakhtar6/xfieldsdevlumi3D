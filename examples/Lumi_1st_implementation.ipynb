{
 "cells": [
  {
   "cell_type": "markdown",
   "metadata": {},
   "source": [
    "st implementation done without any arc or beam beam effects"
   ]
  },
  {
   "cell_type": "code",
   "execution_count": 1,
   "metadata": {},
   "outputs": [],
   "source": [
    "import numpy as np\n",
    "from matplotlib import pyplot as plt\n",
    "import xobjects as xo\n",
    "import xtrack as xt\n",
    "import xfields as xf\n",
    "import xpart as xp\n",
    "from numpy.random import rand\n",
    "from xobjects import ContextCpu, ContextCupy, ContextPyopencl\n",
    "from xfields import TriLinearInterpolatedFieldMap\n",
    "import time"
   ]
  },
  {
   "cell_type": "code",
   "execution_count": 2,
   "metadata": {},
   "outputs": [],
   "source": [
    "context = xo.ContextCpu()\n",
    "#context = ContextCupy(default_block_size=256)\n",
    "#context = ContextPyopencl()"
   ]
  },
  {
   "cell_type": "code",
   "execution_count": 3,
   "metadata": {},
   "outputs": [
    {
     "name": "stdout",
     "output_type": "stream",
     "text": [
      "<xobjects.context_cpu.ContextCpu object at 0x147fd3d40>\n"
     ]
    }
   ],
   "source": [
    "print(repr(context))"
   ]
  },
  {
   "cell_type": "code",
   "execution_count": 11,
   "metadata": {},
   "outputs": [],
   "source": [
    "p0c = 6500e9\n",
    "bunch_intensity = 0.7825E11\n",
    "physemit_x = (2.946E-6*xp.PROTON_MASS_EV)/p0c \n",
    "physemit_y = (2.946E-6*xp.PROTON_MASS_EV)/p0c \n",
    "beta_x = 19.17\n",
    "beta_y = 19.17\n",
    "sigma_z = 0.08\n",
    "sigma_delta = 1E-4\n",
    "beta_s = sigma_z/sigma_delta\n",
    "Qx = 64.31\n",
    "Qy = 59.32\n",
    "Qs = 2.1E-3\n",
    "frev = 11245.5 \n",
    "nTurn = 10\n",
    "n_macroparticles = int(1e7)\n",
    "sigma = np.sqrt(physemit_x*beta_x)\n",
    "nxs = [1500, 2000]\n",
    "lumis = []"
   ]
  },
  {
   "cell_type": "code",
   "execution_count": 12,
   "metadata": {},
   "outputs": [],
   "source": [
    "def Lumi_analytical(Nb, N1, N2, frev, Delta_i, sig_i, sig_x, sig_y):\n",
    "    W = np.exp(-Delta_i**2/(4*sig_i**2))\n",
    "    return ((Nb * N1 * N2 * frev * W)/(4 * np.pi * sig_x * sig_y))"
   ]
  },
  {
   "cell_type": "code",
   "execution_count": 6,
   "metadata": {},
   "outputs": [],
   "source": [
    "def compute_lumi_integral(lumigrid_mybeam, lumigrid_other_beam, beam_intensity, other_beam_intensity, frev):\n",
    "        sum1 = np.sum(lumigrid_mybeam.rho[:,:,1])\n",
    "        sum2 = np.sum(lumigrid_other_beam.rho[:,:,1])\n",
    "        dx = lumigrid_mybeam.dx\n",
    "        dy = lumigrid_mybeam.dy\n",
    "        nx = lumigrid_mybeam.nx\n",
    "        ny = lumigrid_mybeam.ny\n",
    "        scale1 = 1.0/(sum1*dx*dy)\n",
    "        scale2 = 1.0/(sum2*dx*dy)\n",
    "        h1_scaled = lumigrid_mybeam.rho[:,:,1]*scale1\n",
    "        h2_scaled = lumigrid_other_beam.rho[:,:,1]*scale2\n",
    "        h_multiplied = h1_scaled*h2_scaled\n",
    "        integral = 0.25*dx*dy*(h_multiplied[0,0]+h_multiplied[nx-1,0]+h_multiplied[0,ny-1]+h_multiplied[nx-1,ny-1])\n",
    "        secondPart = 0\n",
    "        thirdPart = 0\n",
    "        fourthPart = 0\n",
    "        for i in range(nx-1):\n",
    "                for j in range(ny-1):\n",
    "                        secondPart += h_multiplied[i+1,j+1]\n",
    "        for i in range(nx-1):\n",
    "                thirdPart += h_multiplied[i+1,0]+h_multiplied[i+1,ny-1]\n",
    "        for i in range(ny-1): \n",
    "                fourthPart += h_multiplied[0,i+1]+h_multiplied[nx-1,i+1]\n",
    "                \n",
    "        integralf= integral + 0.25*dx*dy*(4*secondPart+2*thirdPart+2*fourthPart)\n",
    "        numerical_luminosity = beam_intensity*other_beam_intensity*frev*integralf\n",
    "        return numerical_luminosity"
   ]
  },
  {
   "cell_type": "code",
   "execution_count": 7,
   "metadata": {},
   "outputs": [
    {
     "name": "stdout",
     "output_type": "stream",
     "text": [
      "Compiling ContextCpu kernels...\n",
      "Done compiling ContextCpu kernels.\n",
      "Compiling ContextCpu kernels...\n",
      "Done compiling ContextCpu kernels.\n",
      "Time: 3.47e+00\n",
      "Time: 2.83e+00\n",
      "Time: 2.82e+00\n",
      "Time: 2.87e+00\n",
      "Time: 3.39e+00\n",
      "Time: 3.06e+00\n",
      "Time: 2.43e+00\n",
      "Time: 2.95e+00\n",
      "fmap_b1: [[[0. 0. 0.]\n",
      "  [0. 0. 0.]\n",
      "  [0. 0. 0.]\n",
      "  ...\n",
      "  [0. 0. 0.]\n",
      "  [0. 0. 0.]\n",
      "  [0. 0. 0.]]\n",
      "\n",
      " [[0. 0. 0.]\n",
      "  [0. 0. 0.]\n",
      "  [0. 0. 0.]\n",
      "  ...\n",
      "  [0. 0. 0.]\n",
      "  [0. 0. 0.]\n",
      "  [0. 0. 0.]]\n",
      "\n",
      " [[0. 0. 0.]\n",
      "  [0. 0. 0.]\n",
      "  [0. 0. 0.]\n",
      "  ...\n",
      "  [0. 0. 0.]\n",
      "  [0. 0. 0.]\n",
      "  [0. 0. 0.]]\n",
      "\n",
      " ...\n",
      "\n",
      " [[0. 0. 0.]\n",
      "  [0. 0. 0.]\n",
      "  [0. 0. 0.]\n",
      "  ...\n",
      "  [0. 0. 0.]\n",
      "  [0. 0. 0.]\n",
      "  [0. 0. 0.]]\n",
      "\n",
      " [[0. 0. 0.]\n",
      "  [0. 0. 0.]\n",
      "  [0. 0. 0.]\n",
      "  ...\n",
      "  [0. 0. 0.]\n",
      "  [0. 0. 0.]\n",
      "  [0. 0. 0.]]\n",
      "\n",
      " [[0. 0. 0.]\n",
      "  [0. 0. 0.]\n",
      "  [0. 0. 0.]\n",
      "  ...\n",
      "  [0. 0. 0.]\n",
      "  [0. 0. 0.]\n",
      "  [0. 0. 0.]]]\n",
      "fmap_b2: [[[0. 0. 0.]\n",
      "  [0. 0. 0.]\n",
      "  [0. 0. 0.]\n",
      "  ...\n",
      "  [0. 0. 0.]\n",
      "  [0. 0. 0.]\n",
      "  [0. 0. 0.]]\n",
      "\n",
      " [[0. 0. 0.]\n",
      "  [0. 0. 0.]\n",
      "  [0. 0. 0.]\n",
      "  ...\n",
      "  [0. 0. 0.]\n",
      "  [0. 0. 0.]\n",
      "  [0. 0. 0.]]\n",
      "\n",
      " [[0. 0. 0.]\n",
      "  [0. 0. 0.]\n",
      "  [0. 0. 0.]\n",
      "  ...\n",
      "  [0. 0. 0.]\n",
      "  [0. 0. 0.]\n",
      "  [0. 0. 0.]]\n",
      "\n",
      " ...\n",
      "\n",
      " [[0. 0. 0.]\n",
      "  [0. 0. 0.]\n",
      "  [0. 0. 0.]\n",
      "  ...\n",
      "  [0. 0. 0.]\n",
      "  [0. 0. 0.]\n",
      "  [0. 0. 0.]]\n",
      "\n",
      " [[0. 0. 0.]\n",
      "  [0. 0. 0.]\n",
      "  [0. 0. 0.]\n",
      "  ...\n",
      "  [0. 0. 0.]\n",
      "  [0. 0. 0.]\n",
      "  [0. 0. 0.]]\n",
      "\n",
      " [[0. 0. 0.]\n",
      "  [0. 0. 0.]\n",
      "  [0. 0. 0.]\n",
      "  ...\n",
      "  [0. 0. 0.]\n",
      "  [0. 0. 0.]\n",
      "  [0. 0. 0.]]]\n",
      "fmap_b1: 5.29999350855522e+22\n",
      "fmap_b2: 5.299993508555219e+22\n",
      "fmap_b1: 5.299993508555216e+22\n",
      "fmap_b2: 5.299993508555219e+22\n"
     ]
    }
   ],
   "source": [
    "for nx in nxs:\n",
    "        \n",
    "        particles_b1 = xp.Particles(_context=context,\n",
    "                p0c=p0c,\n",
    "                x=np.sqrt(physemit_x*beta_x)*(np.random.randn(n_macroparticles)),\n",
    "                px=np.sqrt(physemit_x/beta_x)*np.random.randn(n_macroparticles),\n",
    "                y=np.sqrt(physemit_y*beta_y)*(np.random.randn(n_macroparticles)),\n",
    "                py=np.sqrt(physemit_y/beta_y)*np.random.randn(n_macroparticles),\n",
    "                zeta=sigma_z*np.random.randn(n_macroparticles),\n",
    "                delta=sigma_delta*np.random.randn(n_macroparticles),\n",
    "                weight=bunch_intensity/n_macroparticles\n",
    "        )\n",
    "        particles_b2 = xp.Particles(_context=context,\n",
    "                p0c=p0c,\n",
    "                x=np.sqrt(physemit_x*beta_x)*(np.random.randn(n_macroparticles)),\n",
    "                px=np.sqrt(physemit_x/beta_x)*np.random.randn(n_macroparticles),\n",
    "                y=np.sqrt(physemit_y*beta_y)*(np.random.randn(n_macroparticles)),\n",
    "                py=np.sqrt(physemit_y/beta_y)*np.random.randn(n_macroparticles),\n",
    "                zeta=sigma_z*np.random.randn(n_macroparticles),\n",
    "                delta=sigma_delta*np.random.randn(n_macroparticles),\n",
    "                weight=bunch_intensity/n_macroparticles\n",
    "        )\n",
    "        # PIC\n",
    "        x_lim = (-12*sigma, 12*sigma)\n",
    "        y_lim = (-12*sigma, 12*sigma)\n",
    "        z_lim = (-1*sigma, 1*sigma)\n",
    "        nx = nx\n",
    "        ny = nx\n",
    "        nz = 3\n",
    "\n",
    "        #Do I need to make this GPU friendly?\n",
    "\n",
    "        ###############\n",
    "        # Actual test #\n",
    "        ###############\n",
    "\n",
    "        # Build fieldmap object\n",
    "        fmap_b1 = TriLinearInterpolatedFieldMap(\n",
    "                x_range=x_lim, nx=nx,\n",
    "                y_range=y_lim, ny=ny,\n",
    "                z_range=z_lim, nz=nz,\n",
    "                solver='FFTSolver3D')\n",
    "        fmap_b2 = TriLinearInterpolatedFieldMap(\n",
    "                _context=context,\n",
    "                x_range=x_lim, nx=nx,\n",
    "                y_range=y_lim, ny=ny,\n",
    "                z_range=z_lim, nz=nz,\n",
    "                solver='FFTSolver3D')\n",
    "\n",
    "        # Compute potential\n",
    "        n_rep = 4\n",
    "        for _ in range(n_rep):\n",
    "                t1 = time.time()\n",
    "                fmap_b1.update_from_particles(x_p=particles_b1.x, y_p=particles_b1.y, z_p=np.zeros(n_macroparticles),\n",
    "                        ncharges_p=np.ones(n_macroparticles), q0_coulomb=1.)\n",
    "                t2 = time.time()\n",
    "                print(f'Time: {t2-t1:.2e}')\n",
    "        for _ in range(n_rep):\n",
    "                t3 = time.time()\n",
    "                fmap_b2.update_from_particles(x_p=particles_b2.x, y_p=particles_b2.y, z_p=np.zeros(n_macroparticles),\n",
    "                        ncharges_p=np.ones(n_macroparticles), q0_coulomb=1.)\n",
    "                t4 = time.time()\n",
    "                print(f'Time: {t4-t3:.2e}')\n",
    "        ####################\n",
    "        # Plots and checks #\n",
    "        ####################\n",
    "        print('fmap_b1:',fmap_b1.rho)\n",
    "        print('fmap_b2:',fmap_b2.rho)\n",
    "        print('fmap_b1:',np.sum(fmap_b1.rho))\n",
    "        print('fmap_b2:',np.sum(fmap_b2.rho))\n",
    "        print('fmap_b1:',np.sum(fmap_b1.rho[:,:,1]))\n",
    "        print('fmap_b2:',np.sum(fmap_b2.rho[:,:,1]))"
   ]
  },
  {
   "cell_type": "code",
   "execution_count": 13,
   "metadata": {},
   "outputs": [
    {
     "name": "stdout",
     "output_type": "stream",
     "text": [
      "analytical: 6.72151700827703e+32\n",
      "numerical: 6.72449075632042e+32\n"
     ]
    }
   ],
   "source": [
    "        print('analytical:',Lumi_analytical(1, bunch_intensity, bunch_intensity, frev, 0 ,np.sqrt(physemit_x*beta_x), np.sqrt(physemit_x*beta_x), np.sqrt(physemit_y*beta_x)))\n",
    "        print('numerical:',compute_lumi_integral(fmap_b1, fmap_b2, bunch_intensity, bunch_intensity, frev))\n",
    "        lumis.append(np.sum(fmap_b1.rho))"
   ]
  },
  {
   "cell_type": "code",
   "execution_count": 14,
   "metadata": {},
   "outputs": [
    {
     "ename": "ValueError",
     "evalue": "x and y must have same first dimension, but have shapes (2,) and (1,)",
     "output_type": "error",
     "traceback": [
      "\u001b[0;31m---------------------------------------------------------------------------\u001b[0m",
      "\u001b[0;31mValueError\u001b[0m                                Traceback (most recent call last)",
      "Cell \u001b[0;32mIn[14], line 1\u001b[0m\n\u001b[0;32m----> 1\u001b[0m \u001b[43mplt\u001b[49m\u001b[38;5;241;43m.\u001b[39;49m\u001b[43mplot\u001b[49m\u001b[43m(\u001b[49m\u001b[43mnxs\u001b[49m\u001b[43m,\u001b[49m\u001b[43m \u001b[49m\u001b[43mlumis\u001b[49m\u001b[43m)\u001b[49m\n\u001b[1;32m      2\u001b[0m plt\u001b[38;5;241m.\u001b[39mshow()\n",
      "File \u001b[0;32m~/miniforge3/lib/python3.12/site-packages/matplotlib/pyplot.py:3829\u001b[0m, in \u001b[0;36mplot\u001b[0;34m(scalex, scaley, data, *args, **kwargs)\u001b[0m\n\u001b[1;32m   3821\u001b[0m \u001b[38;5;129m@_copy_docstring_and_deprecators\u001b[39m(Axes\u001b[38;5;241m.\u001b[39mplot)\n\u001b[1;32m   3822\u001b[0m \u001b[38;5;28;01mdef\u001b[39;00m\u001b[38;5;250m \u001b[39m\u001b[38;5;21mplot\u001b[39m(\n\u001b[1;32m   3823\u001b[0m     \u001b[38;5;241m*\u001b[39margs: \u001b[38;5;28mfloat\u001b[39m \u001b[38;5;241m|\u001b[39m ArrayLike \u001b[38;5;241m|\u001b[39m \u001b[38;5;28mstr\u001b[39m,\n\u001b[0;32m   (...)\u001b[0m\n\u001b[1;32m   3827\u001b[0m     \u001b[38;5;241m*\u001b[39m\u001b[38;5;241m*\u001b[39mkwargs,\n\u001b[1;32m   3828\u001b[0m ) \u001b[38;5;241m-\u001b[39m\u001b[38;5;241m>\u001b[39m \u001b[38;5;28mlist\u001b[39m[Line2D]:\n\u001b[0;32m-> 3829\u001b[0m     \u001b[38;5;28;01mreturn\u001b[39;00m \u001b[43mgca\u001b[49m\u001b[43m(\u001b[49m\u001b[43m)\u001b[49m\u001b[38;5;241;43m.\u001b[39;49m\u001b[43mplot\u001b[49m\u001b[43m(\u001b[49m\n\u001b[1;32m   3830\u001b[0m \u001b[43m        \u001b[49m\u001b[38;5;241;43m*\u001b[39;49m\u001b[43margs\u001b[49m\u001b[43m,\u001b[49m\n\u001b[1;32m   3831\u001b[0m \u001b[43m        \u001b[49m\u001b[43mscalex\u001b[49m\u001b[38;5;241;43m=\u001b[39;49m\u001b[43mscalex\u001b[49m\u001b[43m,\u001b[49m\n\u001b[1;32m   3832\u001b[0m \u001b[43m        \u001b[49m\u001b[43mscaley\u001b[49m\u001b[38;5;241;43m=\u001b[39;49m\u001b[43mscaley\u001b[49m\u001b[43m,\u001b[49m\n\u001b[1;32m   3833\u001b[0m \u001b[43m        \u001b[49m\u001b[38;5;241;43m*\u001b[39;49m\u001b[38;5;241;43m*\u001b[39;49m\u001b[43m(\u001b[49m\u001b[43m{\u001b[49m\u001b[38;5;124;43m\"\u001b[39;49m\u001b[38;5;124;43mdata\u001b[39;49m\u001b[38;5;124;43m\"\u001b[39;49m\u001b[43m:\u001b[49m\u001b[43m \u001b[49m\u001b[43mdata\u001b[49m\u001b[43m}\u001b[49m\u001b[43m \u001b[49m\u001b[38;5;28;43;01mif\u001b[39;49;00m\u001b[43m \u001b[49m\u001b[43mdata\u001b[49m\u001b[43m \u001b[49m\u001b[38;5;129;43;01mis\u001b[39;49;00m\u001b[43m \u001b[49m\u001b[38;5;129;43;01mnot\u001b[39;49;00m\u001b[43m \u001b[49m\u001b[38;5;28;43;01mNone\u001b[39;49;00m\u001b[43m \u001b[49m\u001b[38;5;28;43;01melse\u001b[39;49;00m\u001b[43m \u001b[49m\u001b[43m{\u001b[49m\u001b[43m}\u001b[49m\u001b[43m)\u001b[49m\u001b[43m,\u001b[49m\n\u001b[1;32m   3834\u001b[0m \u001b[43m        \u001b[49m\u001b[38;5;241;43m*\u001b[39;49m\u001b[38;5;241;43m*\u001b[39;49m\u001b[43mkwargs\u001b[49m\u001b[43m,\u001b[49m\n\u001b[1;32m   3835\u001b[0m \u001b[43m    \u001b[49m\u001b[43m)\u001b[49m\n",
      "File \u001b[0;32m~/miniforge3/lib/python3.12/site-packages/matplotlib/axes/_axes.py:1777\u001b[0m, in \u001b[0;36mAxes.plot\u001b[0;34m(self, scalex, scaley, data, *args, **kwargs)\u001b[0m\n\u001b[1;32m   1534\u001b[0m \u001b[38;5;250m\u001b[39m\u001b[38;5;124;03m\"\"\"\u001b[39;00m\n\u001b[1;32m   1535\u001b[0m \u001b[38;5;124;03mPlot y versus x as lines and/or markers.\u001b[39;00m\n\u001b[1;32m   1536\u001b[0m \n\u001b[0;32m   (...)\u001b[0m\n\u001b[1;32m   1774\u001b[0m \u001b[38;5;124;03m(``'green'``) or hex strings (``'#008000'``).\u001b[39;00m\n\u001b[1;32m   1775\u001b[0m \u001b[38;5;124;03m\"\"\"\u001b[39;00m\n\u001b[1;32m   1776\u001b[0m kwargs \u001b[38;5;241m=\u001b[39m cbook\u001b[38;5;241m.\u001b[39mnormalize_kwargs(kwargs, mlines\u001b[38;5;241m.\u001b[39mLine2D)\n\u001b[0;32m-> 1777\u001b[0m lines \u001b[38;5;241m=\u001b[39m [\u001b[38;5;241m*\u001b[39m\u001b[38;5;28mself\u001b[39m\u001b[38;5;241m.\u001b[39m_get_lines(\u001b[38;5;28mself\u001b[39m, \u001b[38;5;241m*\u001b[39margs, data\u001b[38;5;241m=\u001b[39mdata, \u001b[38;5;241m*\u001b[39m\u001b[38;5;241m*\u001b[39mkwargs)]\n\u001b[1;32m   1778\u001b[0m \u001b[38;5;28;01mfor\u001b[39;00m line \u001b[38;5;129;01min\u001b[39;00m lines:\n\u001b[1;32m   1779\u001b[0m     \u001b[38;5;28mself\u001b[39m\u001b[38;5;241m.\u001b[39madd_line(line)\n",
      "File \u001b[0;32m~/miniforge3/lib/python3.12/site-packages/matplotlib/axes/_base.py:297\u001b[0m, in \u001b[0;36m_process_plot_var_args.__call__\u001b[0;34m(self, axes, data, return_kwargs, *args, **kwargs)\u001b[0m\n\u001b[1;32m    295\u001b[0m     this \u001b[38;5;241m+\u001b[39m\u001b[38;5;241m=\u001b[39m args[\u001b[38;5;241m0\u001b[39m],\n\u001b[1;32m    296\u001b[0m     args \u001b[38;5;241m=\u001b[39m args[\u001b[38;5;241m1\u001b[39m:]\n\u001b[0;32m--> 297\u001b[0m \u001b[38;5;28;01myield from\u001b[39;00m \u001b[38;5;28;43mself\u001b[39;49m\u001b[38;5;241;43m.\u001b[39;49m\u001b[43m_plot_args\u001b[49m\u001b[43m(\u001b[49m\n\u001b[1;32m    298\u001b[0m \u001b[43m    \u001b[49m\u001b[43maxes\u001b[49m\u001b[43m,\u001b[49m\u001b[43m \u001b[49m\u001b[43mthis\u001b[49m\u001b[43m,\u001b[49m\u001b[43m \u001b[49m\u001b[43mkwargs\u001b[49m\u001b[43m,\u001b[49m\u001b[43m \u001b[49m\u001b[43mambiguous_fmt_datakey\u001b[49m\u001b[38;5;241;43m=\u001b[39;49m\u001b[43mambiguous_fmt_datakey\u001b[49m\u001b[43m,\u001b[49m\n\u001b[1;32m    299\u001b[0m \u001b[43m    \u001b[49m\u001b[43mreturn_kwargs\u001b[49m\u001b[38;5;241;43m=\u001b[39;49m\u001b[43mreturn_kwargs\u001b[49m\n\u001b[1;32m    300\u001b[0m \u001b[43m\u001b[49m\u001b[43m)\u001b[49m\n",
      "File \u001b[0;32m~/miniforge3/lib/python3.12/site-packages/matplotlib/axes/_base.py:494\u001b[0m, in \u001b[0;36m_process_plot_var_args._plot_args\u001b[0;34m(self, axes, tup, kwargs, return_kwargs, ambiguous_fmt_datakey)\u001b[0m\n\u001b[1;32m    491\u001b[0m     axes\u001b[38;5;241m.\u001b[39myaxis\u001b[38;5;241m.\u001b[39mupdate_units(y)\n\u001b[1;32m    493\u001b[0m \u001b[38;5;28;01mif\u001b[39;00m x\u001b[38;5;241m.\u001b[39mshape[\u001b[38;5;241m0\u001b[39m] \u001b[38;5;241m!=\u001b[39m y\u001b[38;5;241m.\u001b[39mshape[\u001b[38;5;241m0\u001b[39m]:\n\u001b[0;32m--> 494\u001b[0m     \u001b[38;5;28;01mraise\u001b[39;00m \u001b[38;5;167;01mValueError\u001b[39;00m(\u001b[38;5;124mf\u001b[39m\u001b[38;5;124m\"\u001b[39m\u001b[38;5;124mx and y must have same first dimension, but \u001b[39m\u001b[38;5;124m\"\u001b[39m\n\u001b[1;32m    495\u001b[0m                      \u001b[38;5;124mf\u001b[39m\u001b[38;5;124m\"\u001b[39m\u001b[38;5;124mhave shapes \u001b[39m\u001b[38;5;132;01m{\u001b[39;00mx\u001b[38;5;241m.\u001b[39mshape\u001b[38;5;132;01m}\u001b[39;00m\u001b[38;5;124m and \u001b[39m\u001b[38;5;132;01m{\u001b[39;00my\u001b[38;5;241m.\u001b[39mshape\u001b[38;5;132;01m}\u001b[39;00m\u001b[38;5;124m\"\u001b[39m)\n\u001b[1;32m    496\u001b[0m \u001b[38;5;28;01mif\u001b[39;00m x\u001b[38;5;241m.\u001b[39mndim \u001b[38;5;241m>\u001b[39m \u001b[38;5;241m2\u001b[39m \u001b[38;5;129;01mor\u001b[39;00m y\u001b[38;5;241m.\u001b[39mndim \u001b[38;5;241m>\u001b[39m \u001b[38;5;241m2\u001b[39m:\n\u001b[1;32m    497\u001b[0m     \u001b[38;5;28;01mraise\u001b[39;00m \u001b[38;5;167;01mValueError\u001b[39;00m(\u001b[38;5;124mf\u001b[39m\u001b[38;5;124m\"\u001b[39m\u001b[38;5;124mx and y can be no greater than 2D, but have \u001b[39m\u001b[38;5;124m\"\u001b[39m\n\u001b[1;32m    498\u001b[0m                      \u001b[38;5;124mf\u001b[39m\u001b[38;5;124m\"\u001b[39m\u001b[38;5;124mshapes \u001b[39m\u001b[38;5;132;01m{\u001b[39;00mx\u001b[38;5;241m.\u001b[39mshape\u001b[38;5;132;01m}\u001b[39;00m\u001b[38;5;124m and \u001b[39m\u001b[38;5;132;01m{\u001b[39;00my\u001b[38;5;241m.\u001b[39mshape\u001b[38;5;132;01m}\u001b[39;00m\u001b[38;5;124m\"\u001b[39m)\n",
      "\u001b[0;31mValueError\u001b[0m: x and y must have same first dimension, but have shapes (2,) and (1,)"
     ]
    },
    {
     "data": {
      "image/png": "[encoded data removed]",
      "text/plain": [
       "<Figure size 640x480 with 1 Axes>"
      ]
     },
     "metadata": {},
     "output_type": "display_data"
    }
   ],
   "source": [
    "plt.plot(nxs, lumis)\n",
    "plt.show()"
   ]
  },
  {
   "cell_type": "code",
   "execution_count": 16,
   "metadata": {},
   "outputs": [
    {
     "name": "stdout",
     "output_type": "stream",
     "text": [
      "[np.float64(5.29999350855522e+22)]\n"
     ]
    }
   ],
   "source": [
    "print(lumis)"
   ]
  },
  {
   "cell_type": "code",
   "execution_count": null,
   "metadata": {},
   "outputs": [],
   "source": []
  },
  {
   "cell_type": "code",
   "execution_count": null,
   "metadata": {},
   "outputs": [],
   "source": []
  }
 ],
 "metadata": {
  "kernelspec": {
   "display_name": "Python 3 (ipykernel)",
   "language": "python",
   "name": "python3"
  },
  "language_info": {
   "codemirror_mode": {
    "name": "ipython",
    "version": 3
   },
   "file_extension": ".py",
   "mimetype": "text/x-python",
   "name": "python",
   "nbconvert_exporter": "python",
   "pygments_lexer": "ipython3",
   "version": "3.12.8"
  }
 },
 "nbformat": 4,
 "nbformat_minor": 4
}
