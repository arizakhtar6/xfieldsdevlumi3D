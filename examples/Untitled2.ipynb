{
 "cells": [
  {
   "cell_type": "code",
   "execution_count": 2,
   "id": "08796b03-3f2c-4ffd-881d-7d9d167565ae",
   "metadata": {},
   "outputs": [
    {
     "name": "stdout",
     "output_type": "stream",
     "text": [
      "Compiling ContextCpu kernels...\n",
      "Done compiling ContextCpu kernels.\n"
     ]
    },
    {
     "ename": "AssertionError",
     "evalue": "",
     "output_type": "error",
     "traceback": [
      "\u001b[0;31m---------------------------------------------------------------------------\u001b[0m",
      "\u001b[0;31mAssertionError\u001b[0m                            Traceback (most recent call last)",
      "Cell \u001b[0;32mIn[2], line 28\u001b[0m\n\u001b[1;32m     15\u001b[0m particles_b1 \u001b[38;5;241m=\u001b[39m xp\u001b[38;5;241m.\u001b[39mParticles(\n\u001b[1;32m     16\u001b[0m     _context\u001b[38;5;241m=\u001b[39mcontext, p0c\u001b[38;5;241m=\u001b[39mp0c,\n\u001b[1;32m     17\u001b[0m     x\u001b[38;5;241m=\u001b[39mnp\u001b[38;5;241m.\u001b[39msqrt(physemit_x \u001b[38;5;241m*\u001b[39m beta_x) \u001b[38;5;241m*\u001b[39m np\u001b[38;5;241m.\u001b[39mrandom\u001b[38;5;241m.\u001b[39mrandn(n_macroparticles),\n\u001b[0;32m   (...)\u001b[0m\n\u001b[1;32m     23\u001b[0m     weight\u001b[38;5;241m=\u001b[39mbunch_intensity \u001b[38;5;241m/\u001b[39m n_macroparticles\n\u001b[1;32m     24\u001b[0m )\n\u001b[1;32m     26\u001b[0m slicer \u001b[38;5;241m=\u001b[39m xf\u001b[38;5;241m.\u001b[39mTempSlicer(sigma_z\u001b[38;5;241m=\u001b[39msigma_z, n_slices\u001b[38;5;241m=\u001b[39m\u001b[38;5;241m30\u001b[39m, mode\u001b[38;5;241m=\u001b[39m\u001b[38;5;124m'\u001b[39m\u001b[38;5;124mshatilov\u001b[39m\u001b[38;5;124m'\u001b[39m)\n\u001b[0;32m---> 28\u001b[0m bbeam_b1 \u001b[38;5;241m=\u001b[39m \u001b[43mxf\u001b[49m\u001b[38;5;241;43m.\u001b[39;49m\u001b[43mBeamBeamBiGaussian3D\u001b[49m\u001b[43m(\u001b[49m\n\u001b[1;32m     29\u001b[0m \u001b[43m    \u001b[49m\u001b[43m_context\u001b[49m\u001b[38;5;241;43m=\u001b[39;49m\u001b[43mcontext\u001b[49m\u001b[43m,\u001b[49m\n\u001b[1;32m     30\u001b[0m \u001b[43m    \u001b[49m\u001b[43mother_beam_q0\u001b[49m\u001b[38;5;241;43m=\u001b[39;49m\u001b[43mparticles_b1\u001b[49m\u001b[38;5;241;43m.\u001b[39;49m\u001b[43mq0\u001b[49m\u001b[43m,\u001b[49m\u001b[43m  \u001b[49m\u001b[38;5;66;43;03m# Dummy self-interaction\u001b[39;49;00m\n\u001b[1;32m     31\u001b[0m \u001b[43m    \u001b[49m\u001b[43mconfig_for_update\u001b[49m\u001b[38;5;241;43m=\u001b[39;49m\u001b[38;5;28;43;01mNone\u001b[39;49;00m\u001b[43m,\u001b[49m\n\u001b[1;32m     32\u001b[0m \u001b[43m    \u001b[49m\u001b[43mflag_luminosity\u001b[49m\u001b[38;5;241;43m=\u001b[39;49m\u001b[38;5;241;43m1\u001b[39;49m\u001b[43m,\u001b[49m\n\u001b[1;32m     33\u001b[0m \u001b[43m    \u001b[49m\u001b[43mn_lumigrid_cells\u001b[49m\u001b[38;5;241;43m=\u001b[39;49m\u001b[38;5;241;43m1500\u001b[39;49m\u001b[43m,\u001b[49m\n\u001b[1;32m     34\u001b[0m \u001b[43m    \u001b[49m\u001b[43msig_lumigrid_cells\u001b[49m\u001b[38;5;241;43m=\u001b[39;49m\u001b[43mnp\u001b[49m\u001b[38;5;241;43m.\u001b[39;49m\u001b[43msqrt\u001b[49m\u001b[43m(\u001b[49m\u001b[43mphysemit_x\u001b[49m\u001b[43m \u001b[49m\u001b[38;5;241;43m*\u001b[39;49m\u001b[43m \u001b[49m\u001b[43mbeta_x\u001b[49m\u001b[43m)\u001b[49m\u001b[43m,\u001b[49m\n\u001b[1;32m     35\u001b[0m \u001b[43m    \u001b[49m\u001b[43mrange_lumigrid_cells\u001b[49m\u001b[38;5;241;43m=\u001b[39;49m\u001b[38;5;241;43m24\u001b[39;49m\u001b[43m,\u001b[49m\n\u001b[1;32m     36\u001b[0m \u001b[43m    \u001b[49m\u001b[43mupdate_lumigrid_sum\u001b[49m\u001b[38;5;241;43m=\u001b[39;49m\u001b[38;5;241;43m1\u001b[39;49m\n\u001b[1;32m     37\u001b[0m \u001b[43m)\u001b[49m\n\u001b[1;32m     39\u001b[0m line \u001b[38;5;241m=\u001b[39m xt\u001b[38;5;241m.\u001b[39mLine(elements\u001b[38;5;241m=\u001b[39m[bbeam_b1])\n\u001b[1;32m     40\u001b[0m line\u001b[38;5;241m.\u001b[39mbuild_tracker()\n",
      "File \u001b[0;32m~/Documents/Ariz/Physics_MSci/Year_3/Masters_Project/xfieldsdevlumi/xfieldsdevlumi/beam_elements/beambeam3d.py:353\u001b[0m, in \u001b[0;36mBeamBeamBiGaussian3D.__init__\u001b[0;34m(self, phi, alpha, other_beam_q0, scale_strength, beam_intensity, other_beam_intensity, frev, slices_other_beam_num_particles, slices_other_beam_x_center, slices_other_beam_px_center, slices_other_beam_y_center, slices_other_beam_py_center, slices_other_beam_zeta_center, slices_other_beam_pzeta_center, flag_beamstrahlung, slices_other_beam_zeta_bin_width_beamstrahlung, slices_other_beam_zeta_bin_width_star_beamstrahlung, slices_other_beam_sqrtSigma_11_beamstrahlung, slices_other_beam_sqrtSigma_33_beamstrahlung, slices_other_beam_sqrtSigma_55_beamstrahlung, flag_bhabha, compt_x_min, flag_beamsize_effect, flag_luminosity, flag_numerical_luminosity, n_lumigrid_cells, sig_lumigrid_cells, range_lumigrid_cells, n_macroparticles, nTurn, update_lumigrid_sum, slices_other_beam_x_center_star, slices_other_beam_px_center_star, slices_other_beam_y_center_star, slices_other_beam_py_center_star, slices_other_beam_zeta_center_star, slices_other_beam_pzeta_center_star, slices_other_beam_Sigma_11, slices_other_beam_Sigma_12, slices_other_beam_Sigma_13, slices_other_beam_Sigma_14, slices_other_beam_Sigma_22, slices_other_beam_Sigma_23, slices_other_beam_Sigma_24, slices_other_beam_Sigma_33, slices_other_beam_Sigma_34, slices_other_beam_Sigma_44, slices_other_beam_Sigma_11_star, slices_other_beam_Sigma_12_star, slices_other_beam_Sigma_13_star, slices_other_beam_Sigma_14_star, slices_other_beam_Sigma_22_star, slices_other_beam_Sigma_23_star, slices_other_beam_Sigma_24_star, slices_other_beam_Sigma_33_star, slices_other_beam_Sigma_34_star, slices_other_beam_Sigma_44_star, ref_shift_x, ref_shift_px, ref_shift_y, ref_shift_py, ref_shift_zeta, ref_shift_pzeta, other_beam_shift_x, other_beam_shift_px, other_beam_shift_y, other_beam_shift_py, other_beam_shift_zeta, other_beam_shift_pzeta, post_subtract_x, post_subtract_px, post_subtract_y, post_subtract_py, post_subtract_zeta, post_subtract_pzeta, min_sigma_diff, threshold_singular, old_interface, config_for_update, _sin_phi, _cos_phi, _tan_phi, _sin_alpha, _cos_alpha, **kwargs)\u001b[0m\n\u001b[1;32m    350\u001b[0m     \u001b[38;5;28mself\u001b[39m\u001b[38;5;241m.\u001b[39m_init_from_old_interface(old_interface\u001b[38;5;241m=\u001b[39mold_interface, \u001b[38;5;241m*\u001b[39m\u001b[38;5;241m*\u001b[39mkwargs)\n\u001b[1;32m    351\u001b[0m     \u001b[38;5;28;01mreturn\u001b[39;00m\n\u001b[0;32m--> 353\u001b[0m \u001b[38;5;28;01massert\u001b[39;00m (slices_other_beam_zeta_center \u001b[38;5;129;01mis\u001b[39;00m \u001b[38;5;129;01mnot\u001b[39;00m \u001b[38;5;28;01mNone\u001b[39;00m\n\u001b[1;32m    354\u001b[0m         \u001b[38;5;129;01mor\u001b[39;00m slices_other_beam_zeta_center_star \u001b[38;5;129;01mis\u001b[39;00m \u001b[38;5;129;01mnot\u001b[39;00m \u001b[38;5;28;01mNone\u001b[39;00m)\n\u001b[1;32m    355\u001b[0m \u001b[38;5;28;01massert\u001b[39;00m slices_other_beam_num_particles \u001b[38;5;129;01mis\u001b[39;00m \u001b[38;5;129;01mnot\u001b[39;00m \u001b[38;5;28;01mNone\u001b[39;00m\n\u001b[1;32m    357\u001b[0m \u001b[38;5;28;01massert\u001b[39;00m \u001b[38;5;129;01mnot\u001b[39;00m np\u001b[38;5;241m.\u001b[39misscalar(slices_other_beam_num_particles), (\n\u001b[1;32m    358\u001b[0m                 \u001b[38;5;124m'\u001b[39m\u001b[38;5;124mslices_other_beam_num_particles must be an array\u001b[39m\u001b[38;5;124m'\u001b[39m)\n",
      "\u001b[0;31mAssertionError\u001b[0m: "
     ]
    }
   ],
   "source": [
    "import xfieldsdevlumi as xf\n",
    "import xtrack as xt\n",
    "import xpart as xp\n",
    "import xobjects as xo\n",
    "import numpy as np\n",
    "\n",
    "context = xo.ContextCpu()\n",
    "p0c = 6500e9\n",
    "n_macroparticles = 1000\n",
    "beta_x, beta_y = 19.17, 19.17\n",
    "physemit_x, physemit_y = (2.946E-6 * xp.PROTON_MASS_EV) / p0c, (2.946E-6 * xp.PROTON_MASS_EV) / p0c\n",
    "sigma_z, sigma_delta = 0.08, 1E-4\n",
    "bunch_intensity = 0.7825E11\n",
    "\n",
    "particles_b1 = xp.Particles(\n",
    "    _context=context, p0c=p0c,\n",
    "    x=np.sqrt(physemit_x * beta_x) * np.random.randn(n_macroparticles),\n",
    "    px=np.sqrt(physemit_x / beta_x) * np.random.randn(n_macroparticles),\n",
    "    y=np.sqrt(physemit_y * beta_y) * np.random.randn(n_macroparticles),\n",
    "    py=np.sqrt(physemit_y / beta_y) * np.random.randn(n_macroparticles),\n",
    "    zeta=sigma_z * np.random.randn(n_macroparticles),\n",
    "    delta=sigma_delta * np.random.randn(n_macroparticles),\n",
    "    weight=bunch_intensity / n_macroparticles\n",
    ")\n",
    "\n",
    "slicer = xf.TempSlicer(sigma_z=sigma_z, n_slices=30, mode='shatilov')\n",
    "\n",
    "bbeam_b1 = xf.BeamBeamBiGaussian3D(\n",
    "    _context=context,\n",
    "    other_beam_q0=particles_b1.q0,  # Dummy self-interaction\n",
    "    config_for_update=None,\n",
    "    flag_luminosity=1,\n",
    "    n_lumigrid_cells=1500,\n",
    "    sig_lumigrid_cells=np.sqrt(physemit_x * beta_x),\n",
    "    range_lumigrid_cells=24,\n",
    "    update_lumigrid_sum=1\n",
    ")\n",
    "\n",
    "line = xt.Line(elements=[bbeam_b1])\n",
    "line.build_tracker()\n",
    "\n",
    "record = line.start_internal_logging_for_elements_of_type(xf.BeamBeamBiGaussian3D, \n",
    "    capacity={\"lumitable\": 10})\n",
    "\n",
    "line.track(particles_b1, num_turns=3)\n",
    "line.stop_internal_logging_for_elements_of_type(xf.BeamBeamBiGaussian3D)\n",
    "\n",
    "print(record.lumitable.to_dict())  # Should show recorded values\n"
   ]
  },
  {
   "cell_type": "code",
   "execution_count": null,
   "id": "28d7b918-63a1-4e54-8309-9388d7672e92",
   "metadata": {},
   "outputs": [],
   "source": []
  }
 ],
 "metadata": {
  "kernelspec": {
   "display_name": "Python 3 (ipykernel)",
   "language": "python",
   "name": "python3"
  },
  "language_info": {
   "codemirror_mode": {
    "name": "ipython",
    "version": 3
   },
   "file_extension": ".py",
   "mimetype": "text/x-python",
   "name": "python",
   "nbconvert_exporter": "python",
   "pygments_lexer": "ipython3",
   "version": "3.12.8"
  }
 },
 "nbformat": 4,
 "nbformat_minor": 5
}
