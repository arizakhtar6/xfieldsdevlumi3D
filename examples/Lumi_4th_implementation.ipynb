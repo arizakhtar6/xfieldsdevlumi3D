{
 "cells": [
  {
   "cell_type": "markdown",
   "metadata": {},
   "source": [
    "ttempting to delete all hardcoding from beambeam3d.py and having variables as inputs instead"
   ]
  },
  {
   "cell_type": "code",
   "execution_count": 1,
   "metadata": {},
   "outputs": [],
   "source": [
    "import numpy as np\n",
    "from matplotlib import pyplot as plt\n",
    "import xobjects as xo\n",
    "import xtrack as xt\n",
    "import xfieldsdevlumi as xf\n",
    "import xpart as xp\n",
    "import time\n",
    "# Generating sequences"
   ]
  },
  {
   "cell_type": "code",
   "execution_count": 2,
   "metadata": {},
   "outputs": [],
   "source": [
    "context = xo.ContextCpu()"
   ]
  },
  {
   "cell_type": "code",
   "execution_count": 3,
   "metadata": {},
   "outputs": [],
   "source": [
    "p0c = 6500e9\n",
    "bunch_intensity = 0.7825E11\n",
    "physemit_x = (2.946E-6*xp.PROTON_MASS_EV)/p0c \n",
    "physemit_y = (2.946E-6*xp.PROTON_MASS_EV)/p0c \n",
    "beta_x = 19.17\n",
    "beta_y = 19.17\n",
    "sigma_z = 0.08\n",
    "sigma_delta = 1E-4\n",
    "beta_s = sigma_z/sigma_delta\n",
    "Qx = 64.31\n",
    "Qy = 59.32\n",
    "Qs = 2.1E-3\n",
    "frev = 11245.5 \n",
    "nTurn = 3"
   ]
  },
  {
   "cell_type": "code",
   "execution_count": 4,
   "metadata": {},
   "outputs": [],
   "source": [
    "n_macroparticles = int(1e4)\n",
    "xs_b1 = []\n",
    "ys_b1 = []\n",
    "xs_b2 = []\n",
    "ys_b2 = []\n",
    "pxs_b1 = []\n",
    "pys_b1 = []\n",
    "pxs_b2 = []\n",
    "pys_b2 = []"
   ]
  },
  {
   "cell_type": "code",
   "execution_count": 5,
   "metadata": {},
   "outputs": [],
   "source": [
    "pipeline_manager = xt.PipelineManager()\n",
    "pipeline_manager.add_particles('b1',0)\n",
    "pipeline_manager.add_particles('b2',0)\n",
    "pipeline_manager.add_element('IP1')\n",
    "pipeline_manager.add_element('IP2')"
   ]
  },
  {
   "cell_type": "code",
   "execution_count": 6,
   "metadata": {},
   "outputs": [],
   "source": [
    "particles_b1 = xp.Particles(_context=context,\n",
    "    p0c=p0c,\n",
    "    x=np.sqrt(physemit_x*beta_x)*(np.random.randn(n_macroparticles)),\n",
    "    px=np.sqrt(physemit_x/beta_x)*np.random.randn(n_macroparticles),\n",
    "    y=np.sqrt(physemit_y*beta_y)*(np.random.randn(n_macroparticles)),\n",
    "    py=np.sqrt(physemit_y/beta_y)*np.random.randn(n_macroparticles),\n",
    "    zeta=sigma_z*np.random.randn(n_macroparticles),\n",
    "    delta=sigma_delta*np.random.randn(n_macroparticles),\n",
    "    weight=bunch_intensity/n_macroparticles\n",
    ")\n",
    "particles_b1.init_pipeline('b1')\n",
    "particles_b2 = xp.Particles(_context=context,\n",
    "    p0c=p0c,\n",
    "    x=np.sqrt(physemit_x*beta_x)*(np.random.randn(n_macroparticles)),\n",
    "    px=np.sqrt(physemit_x/beta_x)*np.random.randn(n_macroparticles),\n",
    "    y=np.sqrt(physemit_y*beta_y)*(np.random.randn(n_macroparticles)),\n",
    "    py=np.sqrt(physemit_y/beta_y)*np.random.randn(n_macroparticles),\n",
    "    zeta=sigma_z*np.random.randn(n_macroparticles),\n",
    "    delta=sigma_delta*np.random.randn(n_macroparticles),\n",
    "    weight=bunch_intensity/n_macroparticles\n",
    ")\n",
    "particles_b2.init_pipeline('b2')"
   ]
  },
  {
   "cell_type": "markdown",
   "metadata": {},
   "source": [
    "###########<br>\n",
    "Beam-beam #<br>\n",
    "###########"
   ]
  },
  {
   "cell_type": "code",
   "execution_count": 7,
   "metadata": {},
   "outputs": [
    {
     "name": "stdout",
     "output_type": "stream",
     "text": [
      "Compiling ContextCpu kernels...\n",
      "Done compiling ContextCpu kernels.\n"
     ]
    }
   ],
   "source": [
    "slicer = xf.TempSlicer(sigma_z=sigma_z, n_slices=1, mode = 'shatilov')\n",
    "config_for_update_b1 = xf.ConfigForUpdateBeamBeamBiGaussian3D(\n",
    "pipeline_manager=pipeline_manager,\n",
    "element_name='IP1',\n",
    "partner_particles_name = 'b2',\n",
    "slicer=slicer,\n",
    "update_every=1,\n",
    ")\n",
    "config_for_update_b2 = xf.ConfigForUpdateBeamBeamBiGaussian3D(\n",
    "pipeline_manager=pipeline_manager,\n",
    "element_name='IP1',\n",
    "partner_particles_name = 'b1',\n",
    "slicer=slicer,\n",
    "update_every=1,\n",
    ")"
   ]
  },
  {
   "cell_type": "code",
   "execution_count": 8,
   "metadata": {},
   "outputs": [],
   "source": [
    "IP2_config_for_update_b1 = xf.ConfigForUpdateBeamBeamBiGaussian3D(\n",
    "pipeline_manager=pipeline_manager,\n",
    "element_name='IP2',\n",
    "partner_particles_name = 'b2',\n",
    "slicer=slicer,\n",
    "update_every=1,\n",
    ")\n",
    "IP2_config_for_update_b2 = xf.ConfigForUpdateBeamBeamBiGaussian3D(\n",
    "pipeline_manager=pipeline_manager,\n",
    "element_name='IP2',\n",
    "partner_particles_name = 'b1',\n",
    "slicer=slicer,\n",
    "update_every=1,\n",
    ")"
   ]
  },
  {
   "cell_type": "code",
   "execution_count": 9,
   "metadata": {},
   "outputs": [
    {
     "name": "stdout",
     "output_type": "stream",
     "text": [
      "build bb elements...\n",
      "10000\n"
     ]
    }
   ],
   "source": [
    "print('build bb elements...')\n",
    "bbeam_b1 = xf.BeamBeamBiGaussian3D(\n",
    "            _context=context,\n",
    "            other_beam_q0 = particles_b2.q0,\n",
    "            phi = 0,alpha=0,\n",
    "            config_for_update = config_for_update_b1,\n",
    "            flag_luminosity = 1,\n",
    "            flag_numerical_luminosity = 1,\n",
    "            n_lumigrid_cells=1500,\n",
    "            sig_lumigrid_cells=np.sqrt(physemit_x*beta_x),\n",
    "            range_lumigrid_cells = 24,\n",
    "            n_macroparticles=n_macroparticles,\n",
    "            nTurn = nTurn,\n",
    "            update_lumigrid_sum=1\n",
    "            )\n",
    "bbeam_b2 = xf.BeamBeamBiGaussian3D(\n",
    "            _context=context,\n",
    "            other_beam_q0 = particles_b1.q0,\n",
    "            phi = 0,alpha=0,\n",
    "            config_for_update = config_for_update_b2,\n",
    "            flag_luminosity = 1,\n",
    "            flag_numerical_luminosity = 1,\n",
    "            n_lumigrid_cells=1500,\n",
    "            sig_lumigrid_cells=np.sqrt(physemit_x*beta_x),\n",
    "            range_lumigrid_cells = 24,\n",
    "            n_macroparticles=n_macroparticles,\n",
    "            nTurn = nTurn,\n",
    "            update_lumigrid_sum=1\n",
    "            )\n",
    "print(n_macroparticles)\n",
    "IP2_bbeam_b1 = xf.BeamBeamBiGaussian3D(\n",
    "            _context=context,\n",
    "            other_beam_q0 = particles_b2.q0,\n",
    "            phi = 0,alpha=0,\n",
    "            config_for_update = IP2_config_for_update_b1,\n",
    "            flag_luminosity = 1,\n",
    "            flag_numerical_luminosity = 1,\n",
    "            update_lumigrid_sum=1)\n",
    "IP2_bbeam_b2 = xf.BeamBeamBiGaussian3D(\n",
    "            _context=context,\n",
    "            other_beam_q0 = particles_b1.q0,\n",
    "            phi = 0,alpha=0,\n",
    "            config_for_update = IP2_config_for_update_b2,\n",
    "            flag_luminosity = 1,\n",
    "            flag_numerical_luminosity=1,\n",
    "            update_lumigrid_sum=1)"
   ]
  },
  {
   "cell_type": "markdown",
   "metadata": {},
   "source": [
    "###############################################################<br>\n",
    "arcs (here they are all the same with half the phase advance) #<br>\n",
    "###############################################################"
   ]
  },
  {
   "cell_type": "code",
   "execution_count": 10,
   "metadata": {},
   "outputs": [],
   "source": [
    "arc = xt.LineSegmentMap(\n",
    "        betx = beta_x,bety = beta_y,\n",
    "        qx = Qx/2, qy = Qy/2,bets = beta_s, qs=Qs)\n",
    "#################################################################\n",
    "# Tracker                                                       #\n",
    "#################################################################\n",
    "'''\n",
    "elements_b1 = [bbeam_b1,arc]\n",
    "elements_b2 = [bbeam_b2,arc]\n",
    "element_names_b1 = ['bbeam_b1','arc']\n",
    "element_names_b2 = ['bbeam_b2','arc']\n",
    "'''\n",
    "elements_b1 = [bbeam_b1,arc, IP2_bbeam_b1]\n",
    "elements_b2 = [bbeam_b2,arc, IP2_bbeam_b2]"
   ]
  },
  {
   "cell_type": "code",
   "execution_count": 11,
   "metadata": {},
   "outputs": [],
   "source": [
    "line_b1 = xt.Line(elements=elements_b1)\n",
    "line_b2 = xt.Line(elements=elements_b2)\n",
    "line_b1.build_tracker()\n",
    "line_b2.build_tracker()\n",
    "branch_b1 = xt.PipelineBranch(line_b1,particles_b1)\n",
    "branch_b2 = xt.PipelineBranch(line_b2,particles_b2)"
   ]
  },
  {
   "cell_type": "code",
   "execution_count": 12,
   "metadata": {},
   "outputs": [],
   "source": [
    "multitracker = xt.PipelineMultiTracker(branches=[branch_b1,branch_b2])"
   ]
  },
  {
   "cell_type": "code",
   "execution_count": 13,
   "metadata": {},
   "outputs": [],
   "source": [
    "record_qss_b1 = line_b1.start_internal_logging_for_elements_of_type(xf.BeamBeamBiGaussian3D, \n",
    "                                                        capacity={\n",
    "                                                            \"beamstrahlungtable\": int(0),\n",
    "                                                            \"bhabhatable\": int(0),\n",
    "                                                            \"lumitable\": nTurn,\n",
    "                                                            \"numlumitable\": nTurn\n",
    "                                                        })"
   ]
  },
  {
   "cell_type": "code",
   "execution_count": 14,
   "metadata": {},
   "outputs": [
    {
     "name": "stdout",
     "output_type": "stream",
     "text": [
      "Tracking...\n"
     ]
    }
   ],
   "source": [
    "print('Tracking...')\n",
    "time0 = time.time()"
   ]
  },
  {
   "cell_type": "code",
   "execution_count": 15,
   "metadata": {},
   "outputs": [
    {
     "name": "stdout",
     "output_type": "stream",
     "text": [
      "Compiling ContextCpu kernels...\n",
      "Done compiling ContextCpu kernels.\n",
      "lumigrid_my_beam size: (1500, 1500)\n",
      "exchange_buffer size: (2250017,)\n",
      "lumigrid_my_beam size: (1500, 1500)\n",
      "exchange_buffer size: (2250017,)\n"
     ]
    },
    {
     "ename": "IndexError",
     "evalue": "index 0 is out of bounds for axis 0 with size 0",
     "output_type": "error",
     "traceback": [
      "\u001b[0;31m---------------------------------------------------------------------------\u001b[0m",
      "\u001b[0;31mIndexError\u001b[0m                                Traceback (most recent call last)",
      "Cell \u001b[0;32mIn[15], line 1\u001b[0m\n\u001b[0;32m----> 1\u001b[0m \u001b[43mmultitracker\u001b[49m\u001b[38;5;241;43m.\u001b[39;49m\u001b[43mtrack\u001b[49m\u001b[43m(\u001b[49m\u001b[43mnum_turns\u001b[49m\u001b[38;5;241;43m=\u001b[39;49m\u001b[43mnTurn\u001b[49m\u001b[43m,\u001b[49m\u001b[43mturn_by_turn_monitor\u001b[49m\u001b[38;5;241;43m=\u001b[39;49m\u001b[38;5;28;43;01mTrue\u001b[39;49;00m\u001b[43m)\u001b[49m\n\u001b[1;32m      2\u001b[0m \u001b[38;5;28mprint\u001b[39m(\u001b[38;5;124m'\u001b[39m\u001b[38;5;124mDone with tracking.\u001b[39m\u001b[38;5;124m'\u001b[39m,(time\u001b[38;5;241m.\u001b[39mtime()\u001b[38;5;241m-\u001b[39mtime0)\u001b[38;5;241m/\u001b[39m\u001b[38;5;241m10\u001b[39m,\u001b[38;5;124m'\u001b[39m\u001b[38;5;124m[s/turn]\u001b[39m\u001b[38;5;124m'\u001b[39m)\n\u001b[1;32m      3\u001b[0m line_b1\u001b[38;5;241m.\u001b[39mstop_internal_logging_for_elements_of_type(xf\u001b[38;5;241m.\u001b[39mBeamBeamBiGaussian3D)\n",
      "File \u001b[0;32m~/miniforge3/lib/python3.12/site-packages/xtrack/pipeline/multitracker.py:41\u001b[0m, in \u001b[0;36mPipelineMultiTracker.track\u001b[0;34m(self, **kwargs)\u001b[0m\n\u001b[1;32m     38\u001b[0m \u001b[38;5;28;01mdef\u001b[39;00m\u001b[38;5;250m \u001b[39m\u001b[38;5;21mtrack\u001b[39m(\u001b[38;5;28mself\u001b[39m, \u001b[38;5;241m*\u001b[39m\u001b[38;5;241m*\u001b[39mkwargs):\n\u001b[1;32m     40\u001b[0m     \u001b[38;5;28;01mfor\u001b[39;00m branch \u001b[38;5;129;01min\u001b[39;00m \u001b[38;5;28mself\u001b[39m\u001b[38;5;241m.\u001b[39mbranches:\n\u001b[0;32m---> 41\u001b[0m         branch\u001b[38;5;241m.\u001b[39mpipeline_status \u001b[38;5;241m=\u001b[39m \u001b[43mbranch\u001b[49m\u001b[38;5;241;43m.\u001b[39;49m\u001b[43mline\u001b[49m\u001b[38;5;241;43m.\u001b[39;49m\u001b[43mtrack\u001b[49m\u001b[43m(\u001b[49m\n\u001b[1;32m     42\u001b[0m \u001b[43m             \u001b[49m\u001b[43mbranch\u001b[49m\u001b[38;5;241;43m.\u001b[39;49m\u001b[43mparticles\u001b[49m\u001b[43m,\u001b[49m\u001b[43m \u001b[49m\u001b[38;5;241;43m*\u001b[39;49m\u001b[38;5;241;43m*\u001b[39;49m\u001b[43mkwargs\u001b[49m\u001b[43m,\u001b[49m\n\u001b[1;32m     43\u001b[0m \u001b[43m             \u001b[49m\u001b[43m_called_by_pipeline\u001b[49m\u001b[38;5;241;43m=\u001b[39;49m\u001b[38;5;28;43;01mTrue\u001b[39;49;00m\u001b[43m)\u001b[49m\n\u001b[1;32m     45\u001b[0m     need_resume \u001b[38;5;241m=\u001b[39m \u001b[38;5;28;01mTrue\u001b[39;00m\n\u001b[1;32m     46\u001b[0m     \u001b[38;5;28;01mwhile\u001b[39;00m need_resume:\n",
      "File \u001b[0;32m~/miniforge3/lib/python3.12/site-packages/xtrack/line.py:1054\u001b[0m, in \u001b[0;36mLine.track\u001b[0;34m(self, particles, ele_start, ele_stop, num_elements, num_turns, turn_by_turn_monitor, freeze_longitudinal, time, with_progress, **kwargs)\u001b[0m\n\u001b[1;32m   1051\u001b[0m \u001b[38;5;28;01mif\u001b[39;00m \u001b[38;5;129;01mnot\u001b[39;00m \u001b[38;5;28mself\u001b[39m\u001b[38;5;241m.\u001b[39m_has_valid_tracker():\n\u001b[1;32m   1052\u001b[0m     \u001b[38;5;28mself\u001b[39m\u001b[38;5;241m.\u001b[39mbuild_tracker()\n\u001b[0;32m-> 1054\u001b[0m \u001b[38;5;28;01mreturn\u001b[39;00m \u001b[38;5;28;43mself\u001b[39;49m\u001b[38;5;241;43m.\u001b[39;49m\u001b[43mtracker\u001b[49m\u001b[38;5;241;43m.\u001b[39;49m\u001b[43m_track\u001b[49m\u001b[43m(\u001b[49m\n\u001b[1;32m   1055\u001b[0m \u001b[43m    \u001b[49m\u001b[43mparticles\u001b[49m\u001b[43m,\u001b[49m\n\u001b[1;32m   1056\u001b[0m \u001b[43m    \u001b[49m\u001b[43mele_start\u001b[49m\u001b[38;5;241;43m=\u001b[39;49m\u001b[43mele_start\u001b[49m\u001b[43m,\u001b[49m\n\u001b[1;32m   1057\u001b[0m \u001b[43m    \u001b[49m\u001b[43mele_stop\u001b[49m\u001b[38;5;241;43m=\u001b[39;49m\u001b[43mele_stop\u001b[49m\u001b[43m,\u001b[49m\n\u001b[1;32m   1058\u001b[0m \u001b[43m    \u001b[49m\u001b[43mnum_elements\u001b[49m\u001b[38;5;241;43m=\u001b[39;49m\u001b[43mnum_elements\u001b[49m\u001b[43m,\u001b[49m\n\u001b[1;32m   1059\u001b[0m \u001b[43m    \u001b[49m\u001b[43mnum_turns\u001b[49m\u001b[38;5;241;43m=\u001b[39;49m\u001b[43mnum_turns\u001b[49m\u001b[43m,\u001b[49m\n\u001b[1;32m   1060\u001b[0m \u001b[43m    \u001b[49m\u001b[43mturn_by_turn_monitor\u001b[49m\u001b[38;5;241;43m=\u001b[39;49m\u001b[43mturn_by_turn_monitor\u001b[49m\u001b[43m,\u001b[49m\n\u001b[1;32m   1061\u001b[0m \u001b[43m    \u001b[49m\u001b[43mfreeze_longitudinal\u001b[49m\u001b[38;5;241;43m=\u001b[39;49m\u001b[43mfreeze_longitudinal\u001b[49m\u001b[43m,\u001b[49m\n\u001b[1;32m   1062\u001b[0m \u001b[43m    \u001b[49m\u001b[43mtime\u001b[49m\u001b[38;5;241;43m=\u001b[39;49m\u001b[43mtime\u001b[49m\u001b[43m,\u001b[49m\n\u001b[1;32m   1063\u001b[0m \u001b[43m    \u001b[49m\u001b[43mwith_progress\u001b[49m\u001b[38;5;241;43m=\u001b[39;49m\u001b[43mwith_progress\u001b[49m\u001b[43m,\u001b[49m\n\u001b[1;32m   1064\u001b[0m \u001b[43m    \u001b[49m\u001b[38;5;241;43m*\u001b[39;49m\u001b[38;5;241;43m*\u001b[39;49m\u001b[43mkwargs\u001b[49m\u001b[43m)\u001b[49m\n",
      "File \u001b[0;32m~/miniforge3/lib/python3.12/site-packages/xtrack/tracker.py:377\u001b[0m, in \u001b[0;36mTracker._track\u001b[0;34m(self, particles, with_progress, time, *args, **kwargs)\u001b[0m\n\u001b[1;32m    374\u001b[0m         tracking_func(particles, \u001b[38;5;241m*\u001b[39margs, \u001b[38;5;241m*\u001b[39m\u001b[38;5;241m*\u001b[39mone_turn_kwargs)\n\u001b[1;32m    375\u001b[0m         \u001b[38;5;66;03m# particles.reorganize() # could be done in the future to optimize GPU usage\u001b[39;00m\n\u001b[1;32m    376\u001b[0m \u001b[38;5;28;01melse\u001b[39;00m:\n\u001b[0;32m--> 377\u001b[0m     out \u001b[38;5;241m=\u001b[39m \u001b[43mtracking_func\u001b[49m\u001b[43m(\u001b[49m\u001b[43mparticles\u001b[49m\u001b[43m,\u001b[49m\u001b[43m \u001b[49m\u001b[38;5;241;43m*\u001b[39;49m\u001b[43margs\u001b[49m\u001b[43m,\u001b[49m\u001b[43m \u001b[49m\u001b[38;5;241;43m*\u001b[39;49m\u001b[38;5;241;43m*\u001b[39;49m\u001b[43mkwargs\u001b[49m\u001b[43m)\u001b[49m\n\u001b[1;32m    379\u001b[0m \u001b[38;5;28;01mif\u001b[39;00m time:\n\u001b[1;32m    380\u001b[0m     t1 \u001b[38;5;241m=\u001b[39m perf_counter()\n",
      "File \u001b[0;32m~/miniforge3/lib/python3.12/site-packages/xtrack/tracker.py:1002\u001b[0m, in \u001b[0;36mTracker._track_with_collective\u001b[0;34m(self, particles, ele_start, ele_stop, num_elements, num_turns, turn_by_turn_monitor, freeze_longitudinal, backtrack, log, _session_to_resume, _reset_log)\u001b[0m\n\u001b[1;32m    999\u001b[0m     monitor_part \u001b[38;5;241m=\u001b[39m \u001b[38;5;28;01mNone\u001b[39;00m\n\u001b[1;32m   1001\u001b[0m \u001b[38;5;66;03m# Track!\u001b[39;00m\n\u001b[0;32m-> 1002\u001b[0m stop_tracking, skip, returned_by_track \u001b[38;5;241m=\u001b[39m \u001b[38;5;28;43mself\u001b[39;49m\u001b[38;5;241;43m.\u001b[39;49m\u001b[43m_track_part\u001b[49m\u001b[43m(\u001b[49m\n\u001b[1;32m   1003\u001b[0m \u001b[43m        \u001b[49m\u001b[43mparticles\u001b[49m\u001b[43m,\u001b[49m\u001b[43m \u001b[49m\u001b[43mpp\u001b[49m\u001b[43m,\u001b[49m\u001b[43m \u001b[49m\u001b[43mtt\u001b[49m\u001b[43m,\u001b[49m\u001b[43m \u001b[49m\u001b[43mipp\u001b[49m\u001b[43m,\u001b[49m\u001b[43m \u001b[49m\u001b[43mele_start\u001b[49m\u001b[43m,\u001b[49m\u001b[43m \u001b[49m\u001b[43mele_stop\u001b[49m\u001b[43m,\u001b[49m\u001b[43m \u001b[49m\u001b[43mnum_turns\u001b[49m\u001b[43m,\u001b[49m\u001b[43m \u001b[49m\u001b[43mmonitor_part\u001b[49m\u001b[43m)\u001b[49m\n\u001b[1;32m   1005\u001b[0m \u001b[38;5;28;01mif\u001b[39;00m returned_by_track \u001b[38;5;129;01mis\u001b[39;00m \u001b[38;5;129;01mnot\u001b[39;00m \u001b[38;5;28;01mNone\u001b[39;00m:\n\u001b[1;32m   1006\u001b[0m     \u001b[38;5;28;01mif\u001b[39;00m returned_by_track\u001b[38;5;241m.\u001b[39mon_hold:\n",
      "File \u001b[0;32m~/miniforge3/lib/python3.12/site-packages/xtrack/tracker.py:870\u001b[0m, in \u001b[0;36mTracker._track_part\u001b[0;34m(self, particles, pp, tt, ipp, ele_start, ele_stop, num_turns, monitor)\u001b[0m\n\u001b[1;32m    868\u001b[0m         ret \u001b[38;5;241m=\u001b[39m pp\u001b[38;5;241m.\u001b[39mtrack(particles, turn_by_turn_monitor\u001b[38;5;241m=\u001b[39mmonitor)\n\u001b[1;32m    869\u001b[0m     \u001b[38;5;28;01melse\u001b[39;00m:\n\u001b[0;32m--> 870\u001b[0m         ret \u001b[38;5;241m=\u001b[39m \u001b[43mpp\u001b[49m\u001b[38;5;241;43m.\u001b[39;49m\u001b[43mtrack\u001b[49m\u001b[43m(\u001b[49m\u001b[43mparticles\u001b[49m\u001b[43m)\u001b[49m\n\u001b[1;32m    872\u001b[0m \u001b[38;5;28;01mreturn\u001b[39;00m stop_tracking, skip, ret\n",
      "File \u001b[0;32m~/Documents/Ariz/Physics_MSci/Year_3/Masters_Project/xfieldsdevlumi/xfieldsdevlumi/beam_elements/beambeam3d.py:812\u001b[0m, in \u001b[0;36mBeamBeamBiGaussian3D._track_collective\u001b[0;34m(self, particles, _force_suspend)\u001b[0m\n\u001b[1;32m    810\u001b[0m     \u001b[38;5;28;01mreturn\u001b[39;00m xt\u001b[38;5;241m.\u001b[39mPipelineStatus(on_hold\u001b[38;5;241m=\u001b[39m\u001b[38;5;28;01mTrue\u001b[39;00m)\n\u001b[1;32m    811\u001b[0m \u001b[38;5;66;03m# Beam beam interaction in the boosted frame\u001b[39;00m\n\u001b[0;32m--> 812\u001b[0m ret \u001b[38;5;241m=\u001b[39m \u001b[38;5;28;43mself\u001b[39;49m\u001b[38;5;241;43m.\u001b[39;49m\u001b[43m_apply_bb_kicks_in_boosted_frame\u001b[49m\u001b[43m(\u001b[49m\u001b[43mparticles\u001b[49m\u001b[43m)\u001b[49m\n\u001b[1;32m    814\u001b[0m \u001b[38;5;28;01mif\u001b[39;00m ret \u001b[38;5;129;01mis\u001b[39;00m \u001b[38;5;129;01mnot\u001b[39;00m \u001b[38;5;28;01mNone\u001b[39;00m:\n\u001b[1;32m    815\u001b[0m     \u001b[38;5;28;01mreturn\u001b[39;00m ret \u001b[38;5;66;03m# PipelineStatus\u001b[39;00m\n",
      "File \u001b[0;32m~/Documents/Ariz/Physics_MSci/Year_3/Masters_Project/xfieldsdevlumi/xfieldsdevlumi/beam_elements/beambeam3d.py:851\u001b[0m, in \u001b[0;36mBeamBeamBiGaussian3D._apply_bb_kicks_in_boosted_frame\u001b[0;34m(self, particles)\u001b[0m\n\u001b[1;32m    849\u001b[0m y_lim \u001b[38;5;241m=\u001b[39m (\u001b[38;5;241m-\u001b[39m\u001b[38;5;28mrange\u001b[39m\u001b[38;5;241m*\u001b[39mnp\u001b[38;5;241m.\u001b[39mstd(particles\u001b[38;5;241m.\u001b[39m   y), \u001b[38;5;28mrange\u001b[39m\u001b[38;5;241m*\u001b[39mnp\u001b[38;5;241m.\u001b[39mstd(particles\u001b[38;5;241m.\u001b[39m   y))\n\u001b[1;32m    850\u001b[0m z_lim \u001b[38;5;241m=\u001b[39m (\u001b[38;5;241m-\u001b[39m\u001b[38;5;28mrange\u001b[39m\u001b[38;5;241m*\u001b[39mnp\u001b[38;5;241m.\u001b[39mstd(particles\u001b[38;5;241m.\u001b[39mzeta), \u001b[38;5;28mrange\u001b[39m\u001b[38;5;241m*\u001b[39mnp\u001b[38;5;241m.\u001b[39mstd(particles\u001b[38;5;241m.\u001b[39mzeta))\n\u001b[0;32m--> 851\u001b[0m fmap \u001b[38;5;241m=\u001b[39m \u001b[43mTriLinearInterpolatedFieldMap\u001b[49m\u001b[43m(\u001b[49m\n\u001b[1;32m    852\u001b[0m \u001b[43m    \u001b[49m\u001b[43mx_range\u001b[49m\u001b[38;5;241;43m=\u001b[39;49m\u001b[43mx_lim\u001b[49m\u001b[43m,\u001b[49m\u001b[43m \u001b[49m\u001b[43mnx\u001b[49m\u001b[38;5;241;43m=\u001b[39;49m\u001b[38;5;28;43mself\u001b[39;49m\u001b[38;5;241;43m.\u001b[39;49m\u001b[43mn_lumigrid_cells\u001b[49m\u001b[43m,\u001b[49m\n\u001b[1;32m    853\u001b[0m \u001b[43m    \u001b[49m\u001b[43my_range\u001b[49m\u001b[38;5;241;43m=\u001b[39;49m\u001b[43my_lim\u001b[49m\u001b[43m,\u001b[49m\u001b[43m \u001b[49m\u001b[43mny\u001b[49m\u001b[38;5;241;43m=\u001b[39;49m\u001b[38;5;28;43mself\u001b[39;49m\u001b[38;5;241;43m.\u001b[39;49m\u001b[43mn_lumigrid_cells\u001b[49m\u001b[43m,\u001b[49m\n\u001b[1;32m    854\u001b[0m \u001b[43m    \u001b[49m\u001b[43mz_range\u001b[49m\u001b[38;5;241;43m=\u001b[39;49m\u001b[43mz_lim\u001b[49m\u001b[43m,\u001b[49m\u001b[43m \u001b[49m\u001b[43mnz\u001b[49m\u001b[38;5;241;43m=\u001b[39;49m\u001b[38;5;241;43m3\u001b[39;49m\u001b[43m,\u001b[49m\n\u001b[1;32m    855\u001b[0m \u001b[43m    \u001b[49m\u001b[43msolver\u001b[49m\u001b[38;5;241;43m=\u001b[39;49m\u001b[38;5;124;43m'\u001b[39;49m\u001b[38;5;124;43mFFTSolver3D\u001b[39;49m\u001b[38;5;124;43m'\u001b[39;49m\u001b[43m)\u001b[49m\n\u001b[1;32m    856\u001b[0m fmap\u001b[38;5;241m.\u001b[39mupdate_from_particles(x_p\u001b[38;5;241m=\u001b[39mparticles\u001b[38;5;241m.\u001b[39mx, y_p\u001b[38;5;241m=\u001b[39mparticles\u001b[38;5;241m.\u001b[39my, z_p\u001b[38;5;241m=\u001b[39mnp\u001b[38;5;241m.\u001b[39mzeros(\u001b[38;5;28mself\u001b[39m\u001b[38;5;241m.\u001b[39mn_macroparticles),\n\u001b[1;32m    857\u001b[0m     ncharges_p\u001b[38;5;241m=\u001b[39mnp\u001b[38;5;241m.\u001b[39mones(\u001b[38;5;28mself\u001b[39m\u001b[38;5;241m.\u001b[39mn_macroparticles), q0_coulomb\u001b[38;5;241m=\u001b[39m\u001b[38;5;241m1.\u001b[39m, update_phi \u001b[38;5;241m=\u001b[39m \u001b[38;5;28;01mFalse\u001b[39;00m)   \u001b[38;5;66;03m# call C function to compute my beams lumigrid here, e.g. 2 slices, 3 by 3 grid for each slice\u001b[39;00m\n\u001b[1;32m    859\u001b[0m \u001b[38;5;28mself\u001b[39m\u001b[38;5;241m.\u001b[39mdx \u001b[38;5;241m=\u001b[39m fmap\u001b[38;5;241m.\u001b[39mdx\n",
      "File \u001b[0;32m~/miniforge3/lib/python3.12/site-packages/xfields/fieldmaps/interpolated.py:203\u001b[0m, in \u001b[0;36mTriLinearInterpolatedFieldMap.__init__\u001b[0;34m(self, _context, _buffer, _offset, _xobject, x_range, y_range, z_range, nx, ny, nz, dx, dy, dz, x_grid, y_grid, z_grid, rho, phi, solver, scale_coordinates_in_solver, updatable, fftplan)\u001b[0m\n\u001b[1;32m    196\u001b[0m \u001b[38;5;28mself\u001b[39m\u001b[38;5;241m.\u001b[39m_z_grid \u001b[38;5;241m=\u001b[39m _configure_grid(\u001b[38;5;124m'\u001b[39m\u001b[38;5;124mz\u001b[39m\u001b[38;5;124m'\u001b[39m, z_grid, dz, z_range, nz)\n\u001b[1;32m    198\u001b[0m nelem \u001b[38;5;241m=\u001b[39m \u001b[38;5;28mself\u001b[39m\u001b[38;5;241m.\u001b[39mnx\u001b[38;5;241m*\u001b[39m\u001b[38;5;28mself\u001b[39m\u001b[38;5;241m.\u001b[39mny\u001b[38;5;241m*\u001b[39m\u001b[38;5;28mself\u001b[39m\u001b[38;5;241m.\u001b[39mnz\n\u001b[1;32m    199\u001b[0m \u001b[38;5;28mself\u001b[39m\u001b[38;5;241m.\u001b[39mxoinitialize(\n\u001b[1;32m    200\u001b[0m          _context\u001b[38;5;241m=\u001b[39m_context,\n\u001b[1;32m    201\u001b[0m          _buffer\u001b[38;5;241m=\u001b[39m_buffer,\n\u001b[1;32m    202\u001b[0m          _offset\u001b[38;5;241m=\u001b[39m_offset,\n\u001b[0;32m--> 203\u001b[0m          x_min \u001b[38;5;241m=\u001b[39m \u001b[38;5;28;43mself\u001b[39;49m\u001b[38;5;241;43m.\u001b[39;49m\u001b[43m_x_grid\u001b[49m\u001b[43m[\u001b[49m\u001b[38;5;241;43m0\u001b[39;49m\u001b[43m]\u001b[49m,\n\u001b[1;32m    204\u001b[0m          y_min \u001b[38;5;241m=\u001b[39m \u001b[38;5;28mself\u001b[39m\u001b[38;5;241m.\u001b[39m_y_grid[\u001b[38;5;241m0\u001b[39m],\n\u001b[1;32m    205\u001b[0m          z_min \u001b[38;5;241m=\u001b[39m \u001b[38;5;28mself\u001b[39m\u001b[38;5;241m.\u001b[39m_z_grid[\u001b[38;5;241m0\u001b[39m],\n\u001b[1;32m    206\u001b[0m          nx \u001b[38;5;241m=\u001b[39m \u001b[38;5;28mself\u001b[39m\u001b[38;5;241m.\u001b[39mnx,\n\u001b[1;32m    207\u001b[0m          ny \u001b[38;5;241m=\u001b[39m \u001b[38;5;28mself\u001b[39m\u001b[38;5;241m.\u001b[39mny,\n\u001b[1;32m    208\u001b[0m          nz \u001b[38;5;241m=\u001b[39m \u001b[38;5;28mself\u001b[39m\u001b[38;5;241m.\u001b[39mnz,\n\u001b[1;32m    209\u001b[0m          dx \u001b[38;5;241m=\u001b[39m \u001b[38;5;28mself\u001b[39m\u001b[38;5;241m.\u001b[39mdx,\n\u001b[1;32m    210\u001b[0m          dy \u001b[38;5;241m=\u001b[39m \u001b[38;5;28mself\u001b[39m\u001b[38;5;241m.\u001b[39mdy,\n\u001b[1;32m    211\u001b[0m          dz \u001b[38;5;241m=\u001b[39m \u001b[38;5;28mself\u001b[39m\u001b[38;5;241m.\u001b[39mdz,\n\u001b[1;32m    212\u001b[0m          rho \u001b[38;5;241m=\u001b[39m nelem,\n\u001b[1;32m    213\u001b[0m          phi \u001b[38;5;241m=\u001b[39m nelem,\n\u001b[1;32m    214\u001b[0m          dphi_dx \u001b[38;5;241m=\u001b[39m nelem,\n\u001b[1;32m    215\u001b[0m          dphi_dy \u001b[38;5;241m=\u001b[39m nelem,\n\u001b[1;32m    216\u001b[0m          dphi_dz \u001b[38;5;241m=\u001b[39m nelem)\n\u001b[1;32m    218\u001b[0m \u001b[38;5;28mself\u001b[39m\u001b[38;5;241m.\u001b[39mcompile_kernels(only_if_needed\u001b[38;5;241m=\u001b[39m\u001b[38;5;28;01mTrue\u001b[39;00m)\n\u001b[1;32m    220\u001b[0m \u001b[38;5;28;01mif\u001b[39;00m \u001b[38;5;28misinstance\u001b[39m(solver, \u001b[38;5;28mstr\u001b[39m):\n",
      "\u001b[0;31mIndexError\u001b[0m: index 0 is out of bounds for axis 0 with size 0"
     ]
    }
   ],
   "source": [
    "multitracker.track(num_turns=nTurn,turn_by_turn_monitor=True)\n",
    "print('Done with tracking.',(time.time()-time0)/10,'[s/turn]')\n",
    "line_b1.stop_internal_logging_for_elements_of_type(xf.BeamBeamBiGaussian3D)"
   ]
  },
  {
   "cell_type": "code",
   "execution_count": 16,
   "metadata": {},
   "outputs": [],
   "source": [
    "record_qss_b1.move(_context=xo.context_default)"
   ]
  },
  {
   "cell_type": "code",
   "execution_count": 17,
   "metadata": {},
   "outputs": [
    {
     "name": "stdout",
     "output_type": "stream",
     "text": [
      "Gaussian Luminosity with beam-beam: [0. 0. 0.]\n",
      "Numerical Integrator Luminosity with beam-beam: [0. 0. 0.]\n",
      "5025250598172988.0\n"
     ]
    }
   ],
   "source": [
    "lumi_b1_beambeam = record_qss_b1.lumitable.luminosity\n",
    "num_lumi_b1_beambeam = bbeam_b1.numlumitable.numerical_luminosity\n",
    "grid = bbeam_b1.lumigrid_sum\n",
    "print('Gaussian Luminosity with beam-beam:',frev*lumi_b1_beambeam)\n",
    "print('Numerical Integrator Luminosity with beam-beam:',num_lumi_b1_beambeam)\n",
    "print(np.sum(grid))\n",
    "def Lumi_analytical(Nb, N1, N2, frev, Delta_i, sig_i, sig_x, sig_y):\n",
    "    W = np.exp(-Delta_i**2/(4*sig_i**2))\n",
    "    return ((Nb * N1 * N2 * frev * W)/(4 * np.pi * sig_x * sig_y))"
   ]
  },
  {
   "cell_type": "code",
   "execution_count": 18,
   "metadata": {},
   "outputs": [
    {
     "name": "stdout",
     "output_type": "stream",
     "text": [
      "analytical: 6.72151700827703e+32\n"
     ]
    }
   ],
   "source": [
    "print('analytical:',Lumi_analytical(1, bunch_intensity, bunch_intensity, frev, 0,np.sqrt(physemit_x*beta_x), np.sqrt(physemit_x*beta_x), np.sqrt(physemit_y*beta_x)))"
   ]
  },
  {
   "cell_type": "code",
   "execution_count": null,
   "metadata": {},
   "outputs": [],
   "source": []
  }
 ],
 "metadata": {
  "kernelspec": {
   "display_name": "Python 3 (ipykernel)",
   "language": "python",
   "name": "python3"
  },
  "language_info": {
   "codemirror_mode": {
    "name": "ipython",
    "version": 3
   },
   "file_extension": ".py",
   "mimetype": "text/x-python",
   "name": "python",
   "nbconvert_exporter": "python",
   "pygments_lexer": "ipython3",
   "version": "3.12.8"
  }
 },
 "nbformat": 4,
 "nbformat_minor": 4
}
