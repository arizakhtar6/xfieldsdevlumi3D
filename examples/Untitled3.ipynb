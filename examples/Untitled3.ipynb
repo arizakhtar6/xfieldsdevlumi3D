{
 "cells": [
  {
   "cell_type": "code",
   "execution_count": 2,
   "id": "aadba4e6-0dd9-4f8b-8b75-baa87024c895",
   "metadata": {},
   "outputs": [
    {
     "name": "stdout",
     "output_type": "stream",
     "text": [
      "Compiling ContextCpu kernels...\n",
      "Done compiling ContextCpu kernels.\n",
      "build bb elements...\n",
      "100\n",
      "Compiling ContextCpu kernels...\n",
      "Done compiling ContextCpu kernels.\n",
      "Compiling ContextCpu kernels...\n",
      "Done compiling ContextCpu kernels.\n",
      "Tracking...\n",
      "Compiling ContextCpu kernels...\n"
     ]
    },
    {
     "name": "stderr",
     "output_type": "stream",
     "text": [
      "ld: warning: dylib (/Users/arizakhtar/miniforge3/lib/libomp.dylib) was built for newer macOS version (11.1) than being linked (11.0)\n"
     ]
    },
    {
     "name": "stdout",
     "output_type": "stream",
     "text": [
      "Done compiling ContextCpu kernels.\n",
      "Compiling ContextCpu kernels...\n"
     ]
    },
    {
     "name": "stderr",
     "output_type": "stream",
     "text": [
      "ld: warning: dylib (/Users/arizakhtar/miniforge3/lib/libomp.dylib) was built for newer macOS version (11.1) than being linked (11.0)\n"
     ]
    },
    {
     "name": "stdout",
     "output_type": "stream",
     "text": [
      "Done compiling ContextCpu kernels.\n",
      "lumigrid_my_beam size: (10, 10)\n",
      "exchange_buffer size: (117,)\n",
      "lumigrid_my_beam size: (10, 10)\n",
      "exchange_buffer size: (117,)\n",
      "lumigrid_my_beam size: (10, 10)\n",
      "exchange_buffer size: (117,)\n",
      "lumigrid_my_beam size: (10, 10)\n",
      "exchange_buffer size: (117,)\n",
      "lumigrid_my_beam size: (10, 10)\n",
      "exchange_buffer size: (117,)\n",
      "lumigrid_my_beam size: (10, 10)\n",
      "exchange_buffer size: (117,)\n",
      "Done with tracking. 0.4436518907546997 [s/turn]\n",
      "Gaussian Luminosity with beam-beam: [1.36696890e+33 1.33104066e+33 1.36380835e+33]\n",
      "Numerical Integrator Luminosity with beam-beam: [2.73900856e+32 2.77668321e+32 2.76432015e+32]\n",
      "5609406857.80375\n",
      "analytical: 6.72121815464632e+32\n",
      "Compiling ContextCpu kernels...\n",
      "Done compiling ContextCpu kernels.\n",
      "build bb elements...\n",
      "100\n",
      "Compiling ContextCpu kernels...\n",
      "Done compiling ContextCpu kernels.\n",
      "Compiling ContextCpu kernels...\n",
      "Done compiling ContextCpu kernels.\n",
      "Tracking...\n",
      "Compiling ContextCpu kernels...\n"
     ]
    },
    {
     "name": "stderr",
     "output_type": "stream",
     "text": [
      "ld: warning: dylib (/Users/arizakhtar/miniforge3/lib/libomp.dylib) was built for newer macOS version (11.1) than being linked (11.0)\n"
     ]
    },
    {
     "name": "stdout",
     "output_type": "stream",
     "text": [
      "Done compiling ContextCpu kernels.\n",
      "Compiling ContextCpu kernels...\n"
     ]
    },
    {
     "name": "stderr",
     "output_type": "stream",
     "text": [
      "ld: warning: dylib (/Users/arizakhtar/miniforge3/lib/libomp.dylib) was built for newer macOS version (11.1) than being linked (11.0)\n"
     ]
    },
    {
     "name": "stdout",
     "output_type": "stream",
     "text": [
      "Done compiling ContextCpu kernels.\n",
      "lumigrid_my_beam size: (20, 20)\n",
      "exchange_buffer size: (417,)\n",
      "lumigrid_my_beam size: (20, 20)\n",
      "exchange_buffer size: (417,)\n",
      "lumigrid_my_beam size: (20, 20)\n",
      "exchange_buffer size: (417,)\n",
      "lumigrid_my_beam size: (20, 20)\n",
      "exchange_buffer size: (417,)\n",
      "lumigrid_my_beam size: (20, 20)\n",
      "exchange_buffer size: (417,)\n",
      "lumigrid_my_beam size: (20, 20)\n",
      "exchange_buffer size: (417,)\n",
      "Done with tracking. 0.43011519908905027 [s/turn]\n",
      "Gaussian Luminosity with beam-beam: [1.14661602e+33 1.30083205e+33 1.31103488e+33]\n",
      "Numerical Integrator Luminosity with beam-beam: [4.14284936e+32 4.18229738e+32 6.01808520e+32]\n",
      "23213459891.50708\n",
      "analytical: 6.72121815464632e+32\n",
      "Compiling ContextCpu kernels...\n",
      "Done compiling ContextCpu kernels.\n",
      "build bb elements...\n",
      "100\n",
      "Compiling ContextCpu kernels...\n",
      "Done compiling ContextCpu kernels.\n",
      "Compiling ContextCpu kernels...\n",
      "Done compiling ContextCpu kernels.\n",
      "Tracking...\n",
      "Compiling ContextCpu kernels...\n"
     ]
    },
    {
     "name": "stderr",
     "output_type": "stream",
     "text": [
      "ld: warning: dylib (/Users/arizakhtar/miniforge3/lib/libomp.dylib) was built for newer macOS version (11.1) than being linked (11.0)\n"
     ]
    },
    {
     "name": "stdout",
     "output_type": "stream",
     "text": [
      "Done compiling ContextCpu kernels.\n",
      "Compiling ContextCpu kernels...\n"
     ]
    },
    {
     "name": "stderr",
     "output_type": "stream",
     "text": [
      "ld: warning: dylib (/Users/arizakhtar/miniforge3/lib/libomp.dylib) was built for newer macOS version (11.1) than being linked (11.0)\n"
     ]
    },
    {
     "name": "stdout",
     "output_type": "stream",
     "text": [
      "Done compiling ContextCpu kernels.\n",
      "lumigrid_my_beam size: (50, 50)\n",
      "exchange_buffer size: (2517,)\n",
      "lumigrid_my_beam size: (50, 50)\n",
      "exchange_buffer size: (2517,)\n",
      "lumigrid_my_beam size: (50, 50)\n",
      "exchange_buffer size: (2517,)\n",
      "lumigrid_my_beam size: (50, 50)\n",
      "exchange_buffer size: (2517,)\n",
      "lumigrid_my_beam size: (50, 50)\n",
      "exchange_buffer size: (2517,)\n",
      "lumigrid_my_beam size: (50, 50)\n",
      "exchange_buffer size: (2517,)\n",
      "Done with tracking. 0.42767820358276365 [s/turn]\n",
      "Gaussian Luminosity with beam-beam: [1.29669367e+33 1.18574971e+33 1.28940350e+33]\n",
      "Numerical Integrator Luminosity with beam-beam: [6.70270062e+32 6.28460516e+32 5.67859210e+32]\n",
      "153948658745.01776\n",
      "analytical: 6.72121815464632e+32\n",
      "Compiling ContextCpu kernels...\n",
      "Done compiling ContextCpu kernels.\n",
      "build bb elements...\n",
      "100\n",
      "Compiling ContextCpu kernels...\n",
      "Done compiling ContextCpu kernels.\n",
      "Compiling ContextCpu kernels...\n",
      "Done compiling ContextCpu kernels.\n",
      "Tracking...\n",
      "Compiling ContextCpu kernels...\n"
     ]
    },
    {
     "name": "stderr",
     "output_type": "stream",
     "text": [
      "ld: warning: dylib (/Users/arizakhtar/miniforge3/lib/libomp.dylib) was built for newer macOS version (11.1) than being linked (11.0)\n"
     ]
    },
    {
     "name": "stdout",
     "output_type": "stream",
     "text": [
      "Done compiling ContextCpu kernels.\n",
      "Compiling ContextCpu kernels...\n"
     ]
    },
    {
     "name": "stderr",
     "output_type": "stream",
     "text": [
      "ld: warning: dylib (/Users/arizakhtar/miniforge3/lib/libomp.dylib) was built for newer macOS version (11.1) than being linked (11.0)\n"
     ]
    },
    {
     "name": "stdout",
     "output_type": "stream",
     "text": [
      "Done compiling ContextCpu kernels.\n",
      "lumigrid_my_beam size: (100, 100)\n",
      "exchange_buffer size: (10017,)\n",
      "lumigrid_my_beam size: (100, 100)\n",
      "exchange_buffer size: (10017,)\n",
      "lumigrid_my_beam size: (100, 100)\n",
      "exchange_buffer size: (10017,)\n",
      "lumigrid_my_beam size: (100, 100)\n",
      "exchange_buffer size: (10017,)\n",
      "lumigrid_my_beam size: (100, 100)\n",
      "exchange_buffer size: (10017,)\n",
      "lumigrid_my_beam size: (100, 100)\n",
      "exchange_buffer size: (10017,)\n",
      "Done with tracking. 0.4332615852355957 [s/turn]\n",
      "Gaussian Luminosity with beam-beam: [1.31065496e+33 1.30480625e+33 1.31614194e+33]\n",
      "Numerical Integrator Luminosity with beam-beam: [7.91865242e+32 6.15395037e+32 6.20068621e+32]\n",
      "662546018318.5829\n",
      "analytical: 6.72121815464632e+32\n",
      "Compiling ContextCpu kernels...\n",
      "Done compiling ContextCpu kernels.\n",
      "build bb elements...\n",
      "200\n",
      "Compiling ContextCpu kernels...\n",
      "Done compiling ContextCpu kernels.\n",
      "Compiling ContextCpu kernels...\n",
      "Done compiling ContextCpu kernels.\n",
      "Tracking...\n",
      "Compiling ContextCpu kernels...\n"
     ]
    },
    {
     "name": "stderr",
     "output_type": "stream",
     "text": [
      "ld: warning: dylib (/Users/arizakhtar/miniforge3/lib/libomp.dylib) was built for newer macOS version (11.1) than being linked (11.0)\n"
     ]
    },
    {
     "name": "stdout",
     "output_type": "stream",
     "text": [
      "Done compiling ContextCpu kernels.\n",
      "Compiling ContextCpu kernels...\n"
     ]
    },
    {
     "name": "stderr",
     "output_type": "stream",
     "text": [
      "ld: warning: dylib (/Users/arizakhtar/miniforge3/lib/libomp.dylib) was built for newer macOS version (11.1) than being linked (11.0)\n"
     ]
    },
    {
     "name": "stdout",
     "output_type": "stream",
     "text": [
      "Done compiling ContextCpu kernels.\n",
      "lumigrid_my_beam size: (10, 10)\n",
      "exchange_buffer size: (117,)\n",
      "lumigrid_my_beam size: (10, 10)\n",
      "exchange_buffer size: (117,)\n",
      "lumigrid_my_beam size: (10, 10)\n",
      "exchange_buffer size: (117,)\n",
      "lumigrid_my_beam size: (10, 10)\n",
      "exchange_buffer size: (117,)\n",
      "lumigrid_my_beam size: (10, 10)\n",
      "exchange_buffer size: (117,)\n",
      "lumigrid_my_beam size: (10, 10)\n",
      "exchange_buffer size: (117,)\n",
      "Done with tracking. 0.4254987955093384 [s/turn]\n",
      "Gaussian Luminosity with beam-beam: [1.29032890e+33 1.33387237e+33 1.29670155e+33]\n",
      "Numerical Integrator Luminosity with beam-beam: [2.37100756e+32 2.49249029e+32 2.58239972e+32]\n",
      "10532220514.454012\n",
      "analytical: 6.72121815464632e+32\n",
      "Compiling ContextCpu kernels...\n",
      "Done compiling ContextCpu kernels.\n",
      "build bb elements...\n",
      "200\n",
      "Compiling ContextCpu kernels...\n",
      "Done compiling ContextCpu kernels.\n",
      "Compiling ContextCpu kernels...\n",
      "Done compiling ContextCpu kernels.\n",
      "Tracking...\n",
      "Compiling ContextCpu kernels...\n"
     ]
    },
    {
     "name": "stderr",
     "output_type": "stream",
     "text": [
      "ld: warning: dylib (/Users/arizakhtar/miniforge3/lib/libomp.dylib) was built for newer macOS version (11.1) than being linked (11.0)\n"
     ]
    },
    {
     "name": "stdout",
     "output_type": "stream",
     "text": [
      "Done compiling ContextCpu kernels.\n",
      "Compiling ContextCpu kernels...\n"
     ]
    },
    {
     "name": "stderr",
     "output_type": "stream",
     "text": [
      "ld: warning: dylib (/Users/arizakhtar/miniforge3/lib/libomp.dylib) was built for newer macOS version (11.1) than being linked (11.0)\n"
     ]
    },
    {
     "name": "stdout",
     "output_type": "stream",
     "text": [
      "Done compiling ContextCpu kernels.\n",
      "lumigrid_my_beam size: (20, 20)\n",
      "exchange_buffer size: (417,)\n",
      "lumigrid_my_beam size: (20, 20)\n",
      "exchange_buffer size: (417,)\n",
      "lumigrid_my_beam size: (20, 20)\n",
      "exchange_buffer size: (417,)\n",
      "lumigrid_my_beam size: (20, 20)\n",
      "exchange_buffer size: (417,)\n",
      "lumigrid_my_beam size: (20, 20)\n",
      "exchange_buffer size: (417,)\n",
      "lumigrid_my_beam size: (20, 20)\n",
      "exchange_buffer size: (417,)\n",
      "Done with tracking. 0.4530325889587402 [s/turn]\n",
      "Gaussian Luminosity with beam-beam: [1.36226946e+33 1.37585751e+33 1.34992817e+33]\n",
      "Numerical Integrator Luminosity with beam-beam: [5.39393328e+32 5.32936532e+32 5.75717703e+32]\n",
      "48877440398.9464\n",
      "analytical: 6.72121815464632e+32\n",
      "Compiling ContextCpu kernels...\n",
      "Done compiling ContextCpu kernels.\n",
      "build bb elements...\n",
      "200\n",
      "Compiling ContextCpu kernels...\n",
      "Done compiling ContextCpu kernels.\n",
      "Compiling ContextCpu kernels...\n",
      "Done compiling ContextCpu kernels.\n",
      "Tracking...\n",
      "Compiling ContextCpu kernels...\n"
     ]
    },
    {
     "name": "stderr",
     "output_type": "stream",
     "text": [
      "ld: warning: dylib (/Users/arizakhtar/miniforge3/lib/libomp.dylib) was built for newer macOS version (11.1) than being linked (11.0)\n"
     ]
    },
    {
     "name": "stdout",
     "output_type": "stream",
     "text": [
      "Done compiling ContextCpu kernels.\n",
      "Compiling ContextCpu kernels...\n"
     ]
    },
    {
     "name": "stderr",
     "output_type": "stream",
     "text": [
      "ld: warning: dylib (/Users/arizakhtar/miniforge3/lib/libomp.dylib) was built for newer macOS version (11.1) than being linked (11.0)\n"
     ]
    },
    {
     "name": "stdout",
     "output_type": "stream",
     "text": [
      "Done compiling ContextCpu kernels.\n",
      "lumigrid_my_beam size: (50, 50)\n",
      "exchange_buffer size: (2517,)\n",
      "lumigrid_my_beam size: (50, 50)\n",
      "exchange_buffer size: (2517,)\n",
      "lumigrid_my_beam size: (50, 50)\n",
      "exchange_buffer size: (2517,)\n",
      "lumigrid_my_beam size: (50, 50)\n",
      "exchange_buffer size: (2517,)\n",
      "lumigrid_my_beam size: (50, 50)\n",
      "exchange_buffer size: (2517,)\n",
      "lumigrid_my_beam size: (50, 50)\n",
      "exchange_buffer size: (2517,)\n",
      "Done with tracking. 0.47210140228271485 [s/turn]\n",
      "Gaussian Luminosity with beam-beam: [1.25759366e+33 1.21067085e+33 1.33180863e+33]\n",
      "Numerical Integrator Luminosity with beam-beam: [6.84686494e+32 5.66967235e+32 5.86293796e+32]\n",
      "310102142870.00024\n",
      "analytical: 6.72121815464632e+32\n",
      "Compiling ContextCpu kernels...\n",
      "Done compiling ContextCpu kernels.\n",
      "build bb elements...\n",
      "200\n",
      "Compiling ContextCpu kernels...\n",
      "Done compiling ContextCpu kernels.\n",
      "Compiling ContextCpu kernels...\n",
      "Done compiling ContextCpu kernels.\n",
      "Tracking...\n",
      "Compiling ContextCpu kernels...\n"
     ]
    },
    {
     "name": "stderr",
     "output_type": "stream",
     "text": [
      "ld: warning: dylib (/Users/arizakhtar/miniforge3/lib/libomp.dylib) was built for newer macOS version (11.1) than being linked (11.0)\n"
     ]
    },
    {
     "name": "stdout",
     "output_type": "stream",
     "text": [
      "Done compiling ContextCpu kernels.\n",
      "Compiling ContextCpu kernels...\n"
     ]
    },
    {
     "name": "stderr",
     "output_type": "stream",
     "text": [
      "ld: warning: dylib (/Users/arizakhtar/miniforge3/lib/libomp.dylib) was built for newer macOS version (11.1) than being linked (11.0)\n"
     ]
    },
    {
     "name": "stdout",
     "output_type": "stream",
     "text": [
      "Done compiling ContextCpu kernels.\n",
      "lumigrid_my_beam size: (100, 100)\n",
      "exchange_buffer size: (10017,)\n",
      "lumigrid_my_beam size: (100, 100)\n",
      "exchange_buffer size: (10017,)\n",
      "lumigrid_my_beam size: (100, 100)\n",
      "exchange_buffer size: (10017,)\n",
      "lumigrid_my_beam size: (100, 100)\n",
      "exchange_buffer size: (10017,)\n",
      "lumigrid_my_beam size: (100, 100)\n",
      "exchange_buffer size: (10017,)\n",
      "lumigrid_my_beam size: (100, 100)\n",
      "exchange_buffer size: (10017,)\n",
      "Done with tracking. 0.4391321182250977 [s/turn]\n",
      "Gaussian Luminosity with beam-beam: [1.38666602e+33 1.33284391e+33 1.40675798e+33]\n",
      "Numerical Integrator Luminosity with beam-beam: [7.40696449e+32 5.84655280e+32 6.07248735e+32]\n",
      "1335865665279.8152\n",
      "analytical: 6.72121815464632e+32\n",
      "Compiling ContextCpu kernels...\n",
      "Done compiling ContextCpu kernels.\n",
      "build bb elements...\n",
      "300\n",
      "Compiling ContextCpu kernels...\n",
      "Done compiling ContextCpu kernels.\n",
      "Compiling ContextCpu kernels...\n",
      "Done compiling ContextCpu kernels.\n",
      "Tracking...\n",
      "Compiling ContextCpu kernels...\n"
     ]
    },
    {
     "name": "stderr",
     "output_type": "stream",
     "text": [
      "ld: warning: dylib (/Users/arizakhtar/miniforge3/lib/libomp.dylib) was built for newer macOS version (11.1) than being linked (11.0)\n"
     ]
    },
    {
     "name": "stdout",
     "output_type": "stream",
     "text": [
      "Done compiling ContextCpu kernels.\n",
      "Compiling ContextCpu kernels...\n"
     ]
    },
    {
     "name": "stderr",
     "output_type": "stream",
     "text": [
      "ld: warning: dylib (/Users/arizakhtar/miniforge3/lib/libomp.dylib) was built for newer macOS version (11.1) than being linked (11.0)\n"
     ]
    },
    {
     "name": "stdout",
     "output_type": "stream",
     "text": [
      "Done compiling ContextCpu kernels.\n",
      "lumigrid_my_beam size: (10, 10)\n",
      "exchange_buffer size: (117,)\n",
      "lumigrid_my_beam size: (10, 10)\n",
      "exchange_buffer size: (117,)\n",
      "lumigrid_my_beam size: (10, 10)\n",
      "exchange_buffer size: (117,)\n",
      "lumigrid_my_beam size: (10, 10)\n",
      "exchange_buffer size: (117,)\n",
      "lumigrid_my_beam size: (10, 10)\n",
      "exchange_buffer size: (117,)\n",
      "lumigrid_my_beam size: (10, 10)\n",
      "exchange_buffer size: (117,)\n",
      "Done with tracking. 0.4370253086090088 [s/turn]\n",
      "Gaussian Luminosity with beam-beam: [1.31893927e+33 1.28344095e+33 1.32544964e+33]\n",
      "Numerical Integrator Luminosity with beam-beam: [2.59044638e+32 2.53337742e+32 2.36615860e+32]\n",
      "15076592803.648449\n",
      "analytical: 6.72121815464632e+32\n",
      "Compiling ContextCpu kernels...\n",
      "Done compiling ContextCpu kernels.\n",
      "build bb elements...\n",
      "300\n",
      "Compiling ContextCpu kernels...\n",
      "Done compiling ContextCpu kernels.\n",
      "Compiling ContextCpu kernels...\n",
      "Done compiling ContextCpu kernels.\n",
      "Tracking...\n",
      "Compiling ContextCpu kernels...\n"
     ]
    },
    {
     "name": "stderr",
     "output_type": "stream",
     "text": [
      "ld: warning: dylib (/Users/arizakhtar/miniforge3/lib/libomp.dylib) was built for newer macOS version (11.1) than being linked (11.0)\n"
     ]
    },
    {
     "name": "stdout",
     "output_type": "stream",
     "text": [
      "Done compiling ContextCpu kernels.\n",
      "Compiling ContextCpu kernels...\n"
     ]
    },
    {
     "name": "stderr",
     "output_type": "stream",
     "text": [
      "ld: warning: dylib (/Users/arizakhtar/miniforge3/lib/libomp.dylib) was built for newer macOS version (11.1) than being linked (11.0)\n"
     ]
    },
    {
     "name": "stdout",
     "output_type": "stream",
     "text": [
      "Done compiling ContextCpu kernels.\n",
      "lumigrid_my_beam size: (20, 20)\n",
      "exchange_buffer size: (417,)\n",
      "lumigrid_my_beam size: (20, 20)\n",
      "exchange_buffer size: (417,)\n",
      "lumigrid_my_beam size: (20, 20)\n",
      "exchange_buffer size: (417,)\n",
      "lumigrid_my_beam size: (20, 20)\n",
      "exchange_buffer size: (417,)\n",
      "lumigrid_my_beam size: (20, 20)\n",
      "exchange_buffer size: (417,)\n",
      "lumigrid_my_beam size: (20, 20)\n",
      "exchange_buffer size: (417,)\n",
      "Done with tracking. 0.4715138912200928 [s/turn]\n",
      "Gaussian Luminosity with beam-beam: [1.31352781e+33 1.30474596e+33 1.37407055e+33]\n",
      "Numerical Integrator Luminosity with beam-beam: [5.74095043e+32 4.94451759e+32 5.45636623e+32]\n",
      "71280510628.63715\n",
      "analytical: 6.72121815464632e+32\n",
      "Compiling ContextCpu kernels...\n",
      "Done compiling ContextCpu kernels.\n",
      "build bb elements...\n",
      "300\n",
      "Compiling ContextCpu kernels...\n",
      "Done compiling ContextCpu kernels.\n",
      "Compiling ContextCpu kernels...\n",
      "Done compiling ContextCpu kernels.\n",
      "Tracking...\n",
      "Compiling ContextCpu kernels...\n"
     ]
    },
    {
     "name": "stderr",
     "output_type": "stream",
     "text": [
      "ld: warning: dylib (/Users/arizakhtar/miniforge3/lib/libomp.dylib) was built for newer macOS version (11.1) than being linked (11.0)\n"
     ]
    },
    {
     "name": "stdout",
     "output_type": "stream",
     "text": [
      "Done compiling ContextCpu kernels.\n",
      "Compiling ContextCpu kernels...\n"
     ]
    },
    {
     "name": "stderr",
     "output_type": "stream",
     "text": [
      "ld: warning: dylib (/Users/arizakhtar/miniforge3/lib/libomp.dylib) was built for newer macOS version (11.1) than being linked (11.0)\n"
     ]
    },
    {
     "name": "stdout",
     "output_type": "stream",
     "text": [
      "Done compiling ContextCpu kernels.\n",
      "lumigrid_my_beam size: (50, 50)\n",
      "exchange_buffer size: (2517,)\n",
      "lumigrid_my_beam size: (50, 50)\n",
      "exchange_buffer size: (2517,)\n",
      "lumigrid_my_beam size: (50, 50)\n",
      "exchange_buffer size: (2517,)\n",
      "lumigrid_my_beam size: (50, 50)\n",
      "exchange_buffer size: (2517,)\n",
      "lumigrid_my_beam size: (50, 50)\n",
      "exchange_buffer size: (2517,)\n",
      "lumigrid_my_beam size: (50, 50)\n",
      "exchange_buffer size: (2517,)\n",
      "Done with tracking. 0.4607419013977051 [s/turn]\n",
      "Gaussian Luminosity with beam-beam: [1.34779828e+33 1.30394021e+33 1.31848394e+33]\n",
      "Numerical Integrator Luminosity with beam-beam: [6.12319982e+32 6.47897651e+32 6.02311514e+32]\n",
      "456098759541.24866\n",
      "analytical: 6.72121815464632e+32\n",
      "Compiling ContextCpu kernels...\n",
      "Done compiling ContextCpu kernels.\n",
      "build bb elements...\n",
      "300\n",
      "Compiling ContextCpu kernels...\n",
      "Done compiling ContextCpu kernels.\n",
      "Compiling ContextCpu kernels...\n",
      "Done compiling ContextCpu kernels.\n",
      "Tracking...\n",
      "Compiling ContextCpu kernels...\n"
     ]
    },
    {
     "name": "stderr",
     "output_type": "stream",
     "text": [
      "ld: warning: dylib (/Users/arizakhtar/miniforge3/lib/libomp.dylib) was built for newer macOS version (11.1) than being linked (11.0)\n"
     ]
    },
    {
     "name": "stdout",
     "output_type": "stream",
     "text": [
      "Done compiling ContextCpu kernels.\n",
      "Compiling ContextCpu kernels...\n"
     ]
    },
    {
     "name": "stderr",
     "output_type": "stream",
     "text": [
      "ld: warning: dylib (/Users/arizakhtar/miniforge3/lib/libomp.dylib) was built for newer macOS version (11.1) than being linked (11.0)\n"
     ]
    },
    {
     "name": "stdout",
     "output_type": "stream",
     "text": [
      "Done compiling ContextCpu kernels.\n",
      "lumigrid_my_beam size: (100, 100)\n",
      "exchange_buffer size: (10017,)\n",
      "lumigrid_my_beam size: (100, 100)\n",
      "exchange_buffer size: (10017,)\n",
      "lumigrid_my_beam size: (100, 100)\n",
      "exchange_buffer size: (10017,)\n",
      "lumigrid_my_beam size: (100, 100)\n",
      "exchange_buffer size: (10017,)\n",
      "lumigrid_my_beam size: (100, 100)\n",
      "exchange_buffer size: (10017,)\n",
      "lumigrid_my_beam size: (100, 100)\n",
      "exchange_buffer size: (10017,)\n",
      "Done with tracking. 0.4414721965789795 [s/turn]\n",
      "Gaussian Luminosity with beam-beam: [1.31616944e+33 1.29216973e+33 1.33437557e+33]\n",
      "Numerical Integrator Luminosity with beam-beam: [6.61811535e+32 6.28433545e+32 6.73863926e+32]\n",
      "2235282075089.578\n",
      "analytical: 6.72121815464632e+32\n",
      "Compiling ContextCpu kernels...\n",
      "Done compiling ContextCpu kernels.\n",
      "build bb elements...\n",
      "500\n",
      "Compiling ContextCpu kernels...\n",
      "Done compiling ContextCpu kernels.\n",
      "Compiling ContextCpu kernels...\n",
      "Done compiling ContextCpu kernels.\n",
      "Tracking...\n",
      "Compiling ContextCpu kernels...\n"
     ]
    },
    {
     "name": "stderr",
     "output_type": "stream",
     "text": [
      "ld: warning: dylib (/Users/arizakhtar/miniforge3/lib/libomp.dylib) was built for newer macOS version (11.1) than being linked (11.0)\n"
     ]
    },
    {
     "name": "stdout",
     "output_type": "stream",
     "text": [
      "Done compiling ContextCpu kernels.\n",
      "Compiling ContextCpu kernels...\n"
     ]
    },
    {
     "name": "stderr",
     "output_type": "stream",
     "text": [
      "ld: warning: dylib (/Users/arizakhtar/miniforge3/lib/libomp.dylib) was built for newer macOS version (11.1) than being linked (11.0)\n"
     ]
    },
    {
     "name": "stdout",
     "output_type": "stream",
     "text": [
      "Done compiling ContextCpu kernels.\n",
      "lumigrid_my_beam size: (10, 10)\n",
      "exchange_buffer size: (117,)\n",
      "lumigrid_my_beam size: (10, 10)\n",
      "exchange_buffer size: (117,)\n",
      "lumigrid_my_beam size: (10, 10)\n",
      "exchange_buffer size: (117,)\n",
      "lumigrid_my_beam size: (10, 10)\n",
      "exchange_buffer size: (117,)\n",
      "lumigrid_my_beam size: (10, 10)\n",
      "exchange_buffer size: (117,)\n",
      "lumigrid_my_beam size: (10, 10)\n",
      "exchange_buffer size: (117,)\n",
      "Done with tracking. 0.4550920009613037 [s/turn]\n",
      "Gaussian Luminosity with beam-beam: [1.37974513e+33 1.38694868e+33 1.36467120e+33]\n",
      "Numerical Integrator Luminosity with beam-beam: [2.73645147e+32 2.74475668e+32 2.61954508e+32]\n",
      "27276985381.115128\n",
      "analytical: 6.72121815464632e+32\n",
      "Compiling ContextCpu kernels...\n",
      "Done compiling ContextCpu kernels.\n",
      "build bb elements...\n",
      "500\n",
      "Compiling ContextCpu kernels...\n",
      "Done compiling ContextCpu kernels.\n",
      "Compiling ContextCpu kernels...\n",
      "Done compiling ContextCpu kernels.\n",
      "Tracking...\n",
      "Compiling ContextCpu kernels...\n"
     ]
    },
    {
     "name": "stderr",
     "output_type": "stream",
     "text": [
      "ld: warning: dylib (/Users/arizakhtar/miniforge3/lib/libomp.dylib) was built for newer macOS version (11.1) than being linked (11.0)\n"
     ]
    },
    {
     "name": "stdout",
     "output_type": "stream",
     "text": [
      "Done compiling ContextCpu kernels.\n",
      "Compiling ContextCpu kernels...\n"
     ]
    },
    {
     "name": "stderr",
     "output_type": "stream",
     "text": [
      "ld: warning: dylib (/Users/arizakhtar/miniforge3/lib/libomp.dylib) was built for newer macOS version (11.1) than being linked (11.0)\n"
     ]
    },
    {
     "name": "stdout",
     "output_type": "stream",
     "text": [
      "Done compiling ContextCpu kernels.\n",
      "lumigrid_my_beam size: (20, 20)\n",
      "exchange_buffer size: (417,)\n",
      "lumigrid_my_beam size: (20, 20)\n",
      "exchange_buffer size: (417,)\n",
      "lumigrid_my_beam size: (20, 20)\n",
      "exchange_buffer size: (417,)\n",
      "lumigrid_my_beam size: (20, 20)\n",
      "exchange_buffer size: (417,)\n",
      "lumigrid_my_beam size: (20, 20)\n",
      "exchange_buffer size: (417,)\n",
      "lumigrid_my_beam size: (20, 20)\n",
      "exchange_buffer size: (417,)\n",
      "Done with tracking. 0.43315629959106444 [s/turn]\n",
      "Gaussian Luminosity with beam-beam: [1.35574095e+33 1.35503608e+33 1.34766840e+33]\n",
      "Numerical Integrator Luminosity with beam-beam: [5.22065246e+32 5.40825270e+32 5.32180924e+32]\n",
      "120433925932.6511\n",
      "analytical: 6.72121815464632e+32\n",
      "Compiling ContextCpu kernels...\n",
      "Done compiling ContextCpu kernels.\n",
      "build bb elements...\n",
      "500\n",
      "Compiling ContextCpu kernels...\n",
      "Done compiling ContextCpu kernels.\n",
      "Compiling ContextCpu kernels...\n",
      "Done compiling ContextCpu kernels.\n",
      "Tracking...\n",
      "Compiling ContextCpu kernels...\n"
     ]
    },
    {
     "name": "stderr",
     "output_type": "stream",
     "text": [
      "ld: warning: dylib (/Users/arizakhtar/miniforge3/lib/libomp.dylib) was built for newer macOS version (11.1) than being linked (11.0)\n"
     ]
    },
    {
     "name": "stdout",
     "output_type": "stream",
     "text": [
      "Done compiling ContextCpu kernels.\n",
      "Compiling ContextCpu kernels...\n"
     ]
    },
    {
     "name": "stderr",
     "output_type": "stream",
     "text": [
      "ld: warning: dylib (/Users/arizakhtar/miniforge3/lib/libomp.dylib) was built for newer macOS version (11.1) than being linked (11.0)\n"
     ]
    },
    {
     "name": "stdout",
     "output_type": "stream",
     "text": [
      "Done compiling ContextCpu kernels.\n",
      "lumigrid_my_beam size: (50, 50)\n",
      "exchange_buffer size: (2517,)\n",
      "lumigrid_my_beam size: (50, 50)\n",
      "exchange_buffer size: (2517,)\n",
      "lumigrid_my_beam size: (50, 50)\n",
      "exchange_buffer size: (2517,)\n",
      "lumigrid_my_beam size: (50, 50)\n",
      "exchange_buffer size: (2517,)\n",
      "lumigrid_my_beam size: (50, 50)\n",
      "exchange_buffer size: (2517,)\n",
      "lumigrid_my_beam size: (50, 50)\n",
      "exchange_buffer size: (2517,)\n",
      "Done with tracking. 0.5730751991271973 [s/turn]\n",
      "Gaussian Luminosity with beam-beam: [1.33869869e+33 1.31895459e+33 1.29522329e+33]\n",
      "Numerical Integrator Luminosity with beam-beam: [6.68379503e+32 6.95514468e+32 6.01808159e+32]\n",
      "819698863539.7854\n",
      "analytical: 6.72121815464632e+32\n",
      "Compiling ContextCpu kernels...\n",
      "Done compiling ContextCpu kernels.\n",
      "build bb elements...\n",
      "500\n",
      "Compiling ContextCpu kernels...\n",
      "Done compiling ContextCpu kernels.\n",
      "Compiling ContextCpu kernels...\n",
      "Done compiling ContextCpu kernels.\n",
      "Tracking...\n",
      "Compiling ContextCpu kernels...\n"
     ]
    },
    {
     "name": "stderr",
     "output_type": "stream",
     "text": [
      "ld: warning: dylib (/Users/arizakhtar/miniforge3/lib/libomp.dylib) was built for newer macOS version (11.1) than being linked (11.0)\n"
     ]
    },
    {
     "name": "stdout",
     "output_type": "stream",
     "text": [
      "Done compiling ContextCpu kernels.\n",
      "Compiling ContextCpu kernels...\n"
     ]
    },
    {
     "name": "stderr",
     "output_type": "stream",
     "text": [
      "ld: warning: dylib (/Users/arizakhtar/miniforge3/lib/libomp.dylib) was built for newer macOS version (11.1) than being linked (11.0)\n"
     ]
    },
    {
     "name": "stdout",
     "output_type": "stream",
     "text": [
      "Done compiling ContextCpu kernels.\n",
      "lumigrid_my_beam size: (100, 100)\n",
      "exchange_buffer size: (10017,)\n",
      "lumigrid_my_beam size: (100, 100)\n",
      "exchange_buffer size: (10017,)\n",
      "lumigrid_my_beam size: (100, 100)\n",
      "exchange_buffer size: (10017,)\n",
      "lumigrid_my_beam size: (100, 100)\n",
      "exchange_buffer size: (10017,)\n",
      "lumigrid_my_beam size: (100, 100)\n",
      "exchange_buffer size: (10017,)\n",
      "lumigrid_my_beam size: (100, 100)\n",
      "exchange_buffer size: (10017,)\n",
      "Done with tracking. 0.47865660190582277 [s/turn]\n",
      "Gaussian Luminosity with beam-beam: [1.38368897e+33 1.38054681e+33 1.32579623e+33]\n",
      "Numerical Integrator Luminosity with beam-beam: [7.05891673e+32 7.40332887e+32 6.47421876e+32]\n",
      "3180337543394.579\n",
      "analytical: 6.72121815464632e+32\n"
     ]
    },
    {
     "data": {
      "image/png": "[encoded data removed]",
      "text/plain": [
       "<Figure size 800x600 with 2 Axes>"
      ]
     },
     "metadata": {},
     "output_type": "display_data"
    }
   ],
   "source": [
    "#Attempting to delete all hardcoding from beambeam3d.py and having variables as inputs instead\n",
    "import numpy as np\n",
    "from matplotlib import pyplot as plt\n",
    "import xobjects as xo\n",
    "import xtrack as xt\n",
    "import xfieldsdevlumi as xf\n",
    "import xpart as xp\n",
    "import time\n",
    "# Generating sequences\n",
    "        \n",
    "n_macroparticles_list = [100, 200, 300, 500, 800, 1000, 5000, 100000, 500000, 1000000]  \n",
    "n_lumigrid_cells_list = [10, 20, 50, 100, 200, 300, 500, 800, 1000, 1500]\n",
    "#n_macroparticles_list = [100, 200, 300, 500]\n",
    "#n_lumigrid_cells_list = [10, 20, 50, 100]\n",
    "lumi_results = []     \n",
    "        \n",
    "for n_macroparticles in n_macroparticles_list:\n",
    "    for n_lumigrid_cells in n_lumigrid_cells_list:\n",
    "                \n",
    "        context = xo.ContextCpu(omp_num_threads=8)\n",
    "        \n",
    "        p0c = 182.5e9\n",
    "        bunch_intensity = 2.3E11\n",
    "        physemit_x = (1.46E-9*xp.PROTON_MASS_EV)/p0c #does this need the times proton mass/p0c?\n",
    "        physemit_y = (2.9E-12*xp.PROTON_MASS_EV)/p0c #does this need the times proton mass/p0c?\n",
    "        beta_x = 1.0\n",
    "        beta_y = 1.6e-3\n",
    "        sigma_z = 0.002\n",
    "        sigma_delta = 1.3E-3\n",
    "        beta_s = sigma_z/sigma_delta\n",
    "        Qx = 0.47\n",
    "        Qy = 0.57\n",
    "        Qs = 0.11\n",
    "        frev = 2991\n",
    "        nTurn = 3\n",
    "        \n",
    "        #n_macroparticles = int(100000)\n",
    "        xs_b1 = []\n",
    "        ys_b1 = []\n",
    "        xs_b2 = []\n",
    "        ys_b2 = []\n",
    "        pxs_b1 = []\n",
    "        pys_b1 = []\n",
    "        pxs_b2 = []\n",
    "        pys_b2 = []\n",
    "        \n",
    "        pipeline_manager = xt.PipelineManager()\n",
    "        pipeline_manager.add_particles('b1',0)\n",
    "        pipeline_manager.add_particles('b2',0)\n",
    "        pipeline_manager.add_element('IP1')\n",
    "        pipeline_manager.add_element('IP2')\n",
    "        \n",
    "        particles_b1 = xp.Particles(_context=context,\n",
    "            p0c=p0c,\n",
    "            x=np.sqrt(physemit_x*beta_x)*(np.random.randn(n_macroparticles)),\n",
    "            px=np.sqrt(physemit_x/beta_x)*np.random.randn(n_macroparticles),\n",
    "            y=np.sqrt(physemit_y*beta_y)*(np.random.randn(n_macroparticles)),\n",
    "            py=np.sqrt(physemit_y/beta_y)*np.random.randn(n_macroparticles),\n",
    "            zeta=sigma_z*np.random.randn(n_macroparticles),\n",
    "            delta=sigma_delta*np.random.randn(n_macroparticles),\n",
    "            weight=bunch_intensity/n_macroparticles\n",
    "        )\n",
    "        particles_b1.init_pipeline('b1')\n",
    "        particles_b2 = xp.Particles(_context=context,\n",
    "            p0c=p0c,\n",
    "            x=np.sqrt(physemit_x*beta_x)*(np.random.randn(n_macroparticles)),\n",
    "            px=np.sqrt(physemit_x/beta_x)*np.random.randn(n_macroparticles),\n",
    "            y=np.sqrt(physemit_y*beta_y)*(np.random.randn(n_macroparticles)),\n",
    "            py=np.sqrt(physemit_y/beta_y)*np.random.randn(n_macroparticles),\n",
    "            zeta=sigma_z*np.random.randn(n_macroparticles),\n",
    "            delta=sigma_delta*np.random.randn(n_macroparticles),\n",
    "            weight=bunch_intensity/n_macroparticles\n",
    "        )\n",
    "        particles_b2.init_pipeline('b2')\n",
    "        \n",
    "        #############\n",
    "        # Beam-beam #\n",
    "        #############\n",
    "        slicer = xf.TempSlicer(sigma_z=sigma_z, n_slices=1, mode = 'shatilov')\n",
    "        config_for_update_b1 = xf.ConfigForUpdateBeamBeamBiGaussian3D(\n",
    "        pipeline_manager=pipeline_manager,\n",
    "        element_name='IP1',\n",
    "        partner_particles_name = 'b2',\n",
    "        slicer=slicer,\n",
    "        update_every=1,\n",
    "        )\n",
    "        config_for_update_b2 = xf.ConfigForUpdateBeamBeamBiGaussian3D(\n",
    "        pipeline_manager=pipeline_manager,\n",
    "        element_name='IP1',\n",
    "        partner_particles_name = 'b1',\n",
    "        slicer=slicer,\n",
    "        update_every=1,\n",
    "        )\n",
    "        \n",
    "        IP2_config_for_update_b1 = xf.ConfigForUpdateBeamBeamBiGaussian3D(\n",
    "        pipeline_manager=pipeline_manager,\n",
    "        element_name='IP2',\n",
    "        partner_particles_name = 'b2',\n",
    "        slicer=slicer,\n",
    "        update_every=1,\n",
    "        )\n",
    "        IP2_config_for_update_b2 = xf.ConfigForUpdateBeamBeamBiGaussian3D(\n",
    "        pipeline_manager=pipeline_manager,\n",
    "        element_name='IP2',\n",
    "        partner_particles_name = 'b1',\n",
    "        slicer=slicer,\n",
    "        update_every=1,\n",
    "        )\n",
    "        \n",
    "        print('build bb elements...')\n",
    "        bbeam_b1 = xf.BeamBeamBiGaussian3D(\n",
    "                    _context=context,\n",
    "                    other_beam_q0 = particles_b2.q0,\n",
    "                    phi = 0,alpha=0,\n",
    "                    config_for_update = config_for_update_b1,\n",
    "                    flag_numerical_luminosity = 1,\n",
    "                    flag_luminosity = 1,\n",
    "                    n_lumigrid_cells=n_lumigrid_cells,\n",
    "                    sig_lumigrid_cells=np.sqrt(physemit_x*beta_x),\n",
    "                    range_lumigrid_cells = 24,\n",
    "                    n_macroparticles=n_macroparticles,\n",
    "                    nTurn = nTurn,\n",
    "                    update_lumigrid_sum=1\n",
    "                    )\n",
    "        bbeam_b2 = xf.BeamBeamBiGaussian3D(\n",
    "                    _context=context,\n",
    "                    other_beam_q0 = particles_b1.q0,\n",
    "                    phi = 0,alpha=0,\n",
    "                    config_for_update = config_for_update_b2,\n",
    "                    flag_numerical_luminosity = 1,\n",
    "                    flag_luminosity = 1,\n",
    "                    n_lumigrid_cells=n_lumigrid_cells,\n",
    "                    sig_lumigrid_cells=np.sqrt(physemit_x*beta_x),\n",
    "                    range_lumigrid_cells = 24,\n",
    "                    n_macroparticles=n_macroparticles,\n",
    "                    nTurn = nTurn,\n",
    "                    update_lumigrid_sum=1\n",
    "                    )\n",
    "        print(n_macroparticles)\n",
    "        IP2_bbeam_b1 = xf.BeamBeamBiGaussian3D(\n",
    "                    _context=context,\n",
    "                    other_beam_q0 = particles_b2.q0,\n",
    "                    phi = 0,alpha=0,\n",
    "                    config_for_update = IP2_config_for_update_b1,\n",
    "                    flag_numerical_luminosity = 0,\n",
    "                    flag_luminosity = 1,\n",
    "                    update_lumigrid_sum=1)\n",
    "        IP2_bbeam_b2 = xf.BeamBeamBiGaussian3D(\n",
    "                    _context=context,\n",
    "                    other_beam_q0 = particles_b1.q0,\n",
    "                    phi = 0,alpha=0,\n",
    "                    config_for_update = IP2_config_for_update_b2,\n",
    "                    flag_numerical_luminosity= 0,\n",
    "                    flag_luminosity = 1,\n",
    "                    update_lumigrid_sum=1)\n",
    "        \n",
    "        \n",
    "        #################################################################\n",
    "        # arcs (here they are all the same with half the phase advance) #\n",
    "        #################################################################\n",
    "        \n",
    "        arc = xt.LineSegmentMap(\n",
    "                betx = beta_x,bety = beta_y,\n",
    "                qx = Qx/2, qy = Qy/2,bets = beta_s, qs=Qs)\n",
    "        #################################################################\n",
    "        # Tracker                                                       #\n",
    "        #################################################################\n",
    "        '''\n",
    "        elements_b1 = [bbeam_b1,arc]\n",
    "        elements_b2 = [bbeam_b2,arc]\n",
    "        element_names_b1 = ['bbeam_b1','arc']\n",
    "        element_names_b2 = ['bbeam_b2','arc']\n",
    "        '''\n",
    "        elements_b1 = [bbeam_b1,arc, IP2_bbeam_b1]\n",
    "        elements_b2 = [bbeam_b2,arc, IP2_bbeam_b2]\n",
    "        \n",
    "        line_b1 = xt.Line(elements=elements_b1)\n",
    "        line_b2 = xt.Line(elements=elements_b2)\n",
    "        line_b1.build_tracker()\n",
    "        line_b2.build_tracker()\n",
    "        branch_b1 = xt.PipelineBranch(line_b1,particles_b1)\n",
    "        branch_b2 = xt.PipelineBranch(line_b2,particles_b2)\n",
    "        \n",
    "        \n",
    "        multitracker = xt.PipelineMultiTracker(branches=[branch_b1,branch_b2])\n",
    "        \n",
    "        \n",
    "        record_qss_b1 = line_b1.start_internal_logging_for_elements_of_type(xf.BeamBeamBiGaussian3D, \n",
    "                                                                capacity={\n",
    "                                                                    \"beamstrahlungtable\": int(0),\n",
    "                                                                    \"bhabhatable\": int(0),\n",
    "                                                                    \"lumitable\": nTurn,\n",
    "                                                                    \"numlumitable\": nTurn\n",
    "                                                                })\n",
    "        \n",
    "        \n",
    "        print('Tracking...')\n",
    "        time0 = time.time()\n",
    "        \n",
    "        multitracker.track(num_turns=nTurn,turn_by_turn_monitor=True)\n",
    "        print('Done with tracking.',(time.time()-time0)/10,'[s/turn]')\n",
    "        line_b1.stop_internal_logging_for_elements_of_type(xf.BeamBeamBiGaussian3D)\n",
    "        \n",
    "        record_qss_b1.move(_context=xo.context_default)\n",
    "        \n",
    "        \n",
    "        lumi_b1_beambeam = record_qss_b1.lumitable.luminosity\n",
    "        num_lumi_b1_beambeam = bbeam_b1.numlumitable.numerical_luminosity\n",
    "        grid = bbeam_b1.lumigrid_sum\n",
    "        lumi_results.append([n_macroparticles, n_lumigrid_cells, num_lumi_b1_beambeam[0]])\n",
    "        print('Gaussian Luminosity with beam-beam:',frev*lumi_b1_beambeam)\n",
    "        print('Numerical Integrator Luminosity with beam-beam:',num_lumi_b1_beambeam)\n",
    "        print(np.sum(grid))\n",
    "        def Lumi_analytical(Nb, N1, N2, frev, Delta_i, sig_i, sig_x, sig_y):\n",
    "            W = np.exp(-Delta_i**2/(4*sig_i**2))\n",
    "            return ((Nb * N1 * N2 * frev * W)/(4 * np.pi * sig_x * sig_y))\n",
    "        \n",
    "        print('analytical:',Lumi_analytical(1, bunch_intensity, bunch_intensity, frev, 0,np.sqrt(physemit_x*beta_x), np.sqrt(physemit_x*beta_x), np.sqrt(physemit_y*beta_x)))\n",
    "\n",
    "\n",
    "analytical_lumi = Lumi_analytical(1, bunch_intensity, bunch_intensity, frev, \n",
    "                                  0, np.sqrt(physemit_x * beta_x), \n",
    "                                  np.sqrt(physemit_x * beta_x), \n",
    "                                  np.sqrt(physemit_y * beta_x))\n",
    "\n",
    "# Extract values from the results table\n",
    "lumi_results = np.array(lumi_results)\n",
    "n_macroparticles = lumi_results[:, 0]\n",
    "n_lumigrid_cells = lumi_results[:, 1]\n",
    "luminosities = lumi_results[:, 2]\n",
    "\n",
    "# Normalize luminosities\n",
    "normalised_lumis = luminosities / analytical_lumi  # Ensures no 0s\n",
    "\n",
    "# Define log-scaled bins\n",
    "bins_x = np.logspace(np.log10(n_macroparticles.min()), np.log10(n_macroparticles.max()), 10)\n",
    "bins_y = np.logspace(np.log10(n_lumigrid_cells.min()), np.log10(n_lumigrid_cells.max()), 10)\n",
    "\n",
    "# Create the 2D histogram\n",
    "plt.figure(figsize=(8, 6), facecolor='white')\n",
    "#plt.gca().set_facecolor(\"white\")\n",
    "\n",
    "hist, xedges, yedges, img = plt.hist2d(\n",
    "    n_macroparticles, \n",
    "    n_lumigrid_cells, \n",
    "    bins=[bins_x, bins_y], \n",
    "    weights=normalised_lumis,  # Use normalised values\n",
    "    cmap=\"plasma\", \n",
    "    norm=plt.Normalize(vmin=0.1, vmax=1.5)  # Adjusted scale for visibility\n",
    ")\n",
    "\n",
    "hist_masked = np.ma.masked_where(hist == 0, hist)\n",
    "img.set_array(hist_masked.ravel())\n",
    "\n",
    "\n",
    "# Add colorbar\n",
    "cbar = plt.colorbar(img)\n",
    "cbar.set_label(\"Normalized Numerical Luminosity (Analytical = 1.0)\")\n",
    "\n",
    "# Set axis labels and scaling\n",
    "plt.xlabel(\"Number of Macroparticles\")\n",
    "plt.ylabel(\"Number of Lumi Grid Cells\")\n",
    "plt.xscale(\"log\")\n",
    "plt.yscale(\"log\")\n",
    "plt.title(\"Fixed Normalized 2D Histogram of Luminosity\")\n",
    "plt.show()\n",
    "\n",
    "# # Convert to Numpy Array for Plotting\n",
    "# lumi_results = np.array(lumi_results)\n",
    "\n",
    "# # ==========================\n",
    "# # 2D Histogram Visualization\n",
    "# # ==========================\n",
    "# plt.figure(figsize=(8, 6))\n",
    "# plt.hist2d(lumi_results[:, 0], lumi_results[:, 1], weights=lumi_results[:, 2], \n",
    "#            bins=(len(n_macroparticles_list), len(n_lumigrid_cells_list)), cmap='plasma')\n",
    "\n",
    "# plt.colorbar(label=\"Numerical Luminosity\")\n",
    "# plt.xlabel(\"Number of Macroparticles\")\n",
    "# plt.ylabel(\"Number of Lumi Grid Cells\")\n",
    "# plt.xscale(\"log\")  \n",
    "# plt.yscale(\"log\")  \n",
    "# plt.title(\"2D Histogram of Luminosity vs Macroparticles & Lumi Grid Cells\")\n",
    "# plt.show()"
   ]
  },
  {
   "cell_type": "code",
   "execution_count": 4,
   "id": "e3fb68f3-0d2b-479a-91ec-843d9804d6bc",
   "metadata": {},
   "outputs": [
    {
     "data": {
      "text/plain": [
       "array([[1.00000000e+02, 1.00000000e+01, 2.73900856e+32],\n",
       "       [1.00000000e+02, 2.00000000e+01, 4.14284936e+32],\n",
       "       [1.00000000e+02, 5.00000000e+01, 6.70270062e+32],\n",
       "       [1.00000000e+02, 1.00000000e+02, 7.91865242e+32],\n",
       "       [2.00000000e+02, 1.00000000e+01, 2.37100756e+32],\n",
       "       [2.00000000e+02, 2.00000000e+01, 5.39393328e+32],\n",
       "       [2.00000000e+02, 5.00000000e+01, 6.84686494e+32],\n",
       "       [2.00000000e+02, 1.00000000e+02, 7.40696449e+32],\n",
       "       [3.00000000e+02, 1.00000000e+01, 2.59044638e+32],\n",
       "       [3.00000000e+02, 2.00000000e+01, 5.74095043e+32],\n",
       "       [3.00000000e+02, 5.00000000e+01, 6.12319982e+32],\n",
       "       [3.00000000e+02, 1.00000000e+02, 6.61811535e+32],\n",
       "       [5.00000000e+02, 1.00000000e+01, 2.73645147e+32],\n",
       "       [5.00000000e+02, 2.00000000e+01, 5.22065246e+32],\n",
       "       [5.00000000e+02, 5.00000000e+01, 6.68379503e+32],\n",
       "       [5.00000000e+02, 1.00000000e+02, 7.05891673e+32]])"
      ]
     },
     "execution_count": 4,
     "metadata": {},
     "output_type": "execute_result"
    }
   ],
   "source": [
    "lumi_results"
   ]
  },
  {
   "cell_type": "code",
   "execution_count": 5,
   "id": "37013195-9cc6-4b40-8f9d-4ee20711649a",
   "metadata": {},
   "outputs": [
    {
     "data": {
      "image/png": "[encoded data removed]",
      "text/plain": [
       "<Figure size 800x600 with 2 Axes>"
      ]
     },
     "metadata": {},
     "output_type": "display_data"
    }
   ],
   "source": [
    "import numpy as np\n",
    "from matplotlib import pyplot as plt\n",
    "from matplotlib.colors import LinearSegmentedColormap\n",
    "from matplotlib.colors import LogNorm\n",
    "import scipy.interpolate as interp\n",
    "\n",
    "\n",
    "# Create your histogram as before\n",
    "bins_x = np.logspace(np.log10(n_macroparticles.min()), np.log10(n_macroparticles.max()), 1000)\n",
    "bins_y = np.logspace(np.log10(n_lumigrid_cells.min()), np.log10(n_lumigrid_cells.max()), 1000)\n",
    "\n",
    "# Create the 2D histogram with normalized luminosities\n",
    "plt.figure(figsize=(8, 6), facecolor='white')\n",
    "\n",
    "# Create histogram\n",
    "hist, xedges, yedges, img = plt.hist2d(\n",
    "    n_macroparticles, \n",
    "    n_lumigrid_cells, \n",
    "    bins=[bins_x, bins_y], \n",
    "    weights=normalised_lumis,  # Use normalized values\n",
    "    cmap=\"plasma\",# Red color map\n",
    "    norm=LogNorm()\n",
    "    #norm=plt.Normalize(vmin=0, vmax=1)  # Normalize color scaling\n",
    ")\n",
    "\n",
    "# Mask the zero values (empty bins) in the histogram\n",
    "hist_masked = np.ma.masked_where(hist == 0, hist)\n",
    "\n",
    "# Coordinates of the non-zero bins\n",
    "x_non_zero, y_non_zero = np.where(hist > 0)\n",
    "\n",
    "# Coordinates of the empty bins\n",
    "x_empty, y_empty = np.where(hist == 0)\n",
    "\n",
    "# Prepare the grid for interpolation\n",
    "x_grid, y_grid = np.meshgrid(np.arange(hist.shape[1]), np.arange(hist.shape[0]))\n",
    "\n",
    "# Flatten the grid for interpolation purposes\n",
    "x_flat = x_grid.flatten()\n",
    "y_flat = y_grid.flatten()\n",
    "\n",
    "# Use scipy's griddata to perform interpolation\n",
    "points = np.array([x_non_zero, y_non_zero]).T  # Non-zero points as (x, y) pairs\n",
    "values = hist[x_non_zero, y_non_zero]  # Values at the non-zero points\n",
    "\n",
    "# Perform interpolation for the empty bins\n",
    "interpolated_values = interp.griddata(points, values, (x_flat, y_flat), method='linear', fill_value=0)\n",
    "\n",
    "# Reshape the interpolated values back to the 2D grid\n",
    "hist_interpolated = interpolated_values.reshape(hist.shape)\n",
    "\n",
    "# Mask any remaining zeros after interpolation\n",
    "hist_masked = np.ma.masked_where(hist_interpolated == 0, hist_interpolated)\n",
    "\n",
    "# Update the plot with the filled histogram data\n",
    "img.set_array(hist_masked.T)  # Transpose to match the plotting direction\n",
    "\n",
    "# Add colorbar\n",
    "cbar = plt.colorbar(img)\n",
    "cbar.set_label(\"Normalized Numerical Luminosity (Analytical = 1.0)\")\n",
    "\n",
    "# Set axis labels and scaling\n",
    "plt.xlabel(\"Number of Macroparticles\")\n",
    "plt.ylabel(\"Number of Lumi Grid Cells\")\n",
    "plt.xscale(\"log\")\n",
    "plt.yscale(\"log\")\n",
    "plt.title(\"Fixed Normalized 2D Histogram of Luminosity\")\n",
    "\n",
    "# Show the plot\n",
    "plt.show()\n"
   ]
  },
  {
   "cell_type": "code",
   "execution_count": null,
   "id": "5e4f1edf-97cf-4169-9a2f-1c6767e090a4",
   "metadata": {},
   "outputs": [],
   "source": []
  }
 ],
 "metadata": {
  "kernelspec": {
   "display_name": "Python 3 (ipykernel)",
   "language": "python",
   "name": "python3"
  },
  "language_info": {
   "codemirror_mode": {
    "name": "ipython",
    "version": 3
   },
   "file_extension": ".py",
   "mimetype": "text/x-python",
   "name": "python",
   "nbconvert_exporter": "python",
   "pygments_lexer": "ipython3",
   "version": "3.12.8"
  }
 },
 "nbformat": 4,
 "nbformat_minor": 5
}
