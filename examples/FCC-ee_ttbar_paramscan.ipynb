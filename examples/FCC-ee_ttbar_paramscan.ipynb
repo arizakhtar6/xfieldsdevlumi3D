{
 "cells": [
  {
   "cell_type": "code",
   "execution_count": 1,
   "id": "aadba4e6-0dd9-4f8b-8b75-baa87024c895",
   "metadata": {},
   "outputs": [
    {
     "name": "stdout",
     "output_type": "stream",
     "text": [
      "Compiling ContextCpu kernels...\n",
      "Done compiling ContextCpu kernels.\n",
      "build bb elements...\n",
      "100\n",
      "Compiling ContextCpu kernels...\n",
      "Done compiling ContextCpu kernels.\n",
      "Compiling ContextCpu kernels...\n",
      "Done compiling ContextCpu kernels.\n",
      "Tracking...\n",
      "Compiling ContextCpu kernels...\n"
     ]
    },
    {
     "name": "stderr",
     "output_type": "stream",
     "text": [
      "ld: warning: dylib (/Users/arizakhtar/miniforge3/lib/libomp.dylib) was built for newer macOS version (11.1) than being linked (11.0)\n"
     ]
    },
    {
     "name": "stdout",
     "output_type": "stream",
     "text": [
      "Done compiling ContextCpu kernels.\n",
      "Compiling ContextCpu kernels...\n"
     ]
    },
    {
     "name": "stderr",
     "output_type": "stream",
     "text": [
      "ld: warning: dylib (/Users/arizakhtar/miniforge3/lib/libomp.dylib) was built for newer macOS version (11.1) than being linked (11.0)\n"
     ]
    },
    {
     "name": "stdout",
     "output_type": "stream",
     "text": [
      "Done compiling ContextCpu kernels.\n",
      "Compiling ContextCpu kernels...\n",
      "Done compiling ContextCpu kernels.\n",
      "lumigrid_my_beam size: (10, 10)\n",
      "exchange_buffer size: (117,)\n",
      "lumigrid_my_beam size: (10, 10)\n",
      "exchange_buffer size: (117,)\n",
      "Compiling ContextCpu kernels...\n",
      "Done compiling ContextCpu kernels.\n",
      "lumigrid_my_beam size: (10, 10)\n",
      "exchange_buffer size: (117,)\n",
      "lumigrid_my_beam size: (10, 10)\n",
      "exchange_buffer size: (117,)\n",
      "lumigrid_my_beam size: (10, 10)\n",
      "exchange_buffer size: (117,)\n",
      "lumigrid_my_beam size: (10, 10)\n",
      "exchange_buffer size: (117,)\n",
      "Done with tracking. 0.5907118082046509 [s/turn]\n",
      "Gaussian Luminosity with beam-beam: [8.14317441e+38 8.15853336e+34 8.48538261e+34]\n",
      "Numerical Integrator Luminosity with beam-beam: [1.34131530e+38 1.83754662e+33 1.30849320e+34]\n",
      "3.4702796281223956e+16\n",
      "analytical: 3.763750839060321e+37\n",
      "Compiling ContextCpu kernels...\n",
      "Done compiling ContextCpu kernels.\n",
      "build bb elements...\n",
      "100\n",
      "Compiling ContextCpu kernels...\n",
      "Done compiling ContextCpu kernels.\n",
      "Compiling ContextCpu kernels...\n",
      "Done compiling ContextCpu kernels.\n",
      "Tracking...\n",
      "Compiling ContextCpu kernels...\n"
     ]
    },
    {
     "name": "stderr",
     "output_type": "stream",
     "text": [
      "ld: warning: dylib (/Users/arizakhtar/miniforge3/lib/libomp.dylib) was built for newer macOS version (11.1) than being linked (11.0)\n"
     ]
    },
    {
     "name": "stdout",
     "output_type": "stream",
     "text": [
      "Done compiling ContextCpu kernels.\n",
      "Compiling ContextCpu kernels...\n"
     ]
    },
    {
     "name": "stderr",
     "output_type": "stream",
     "text": [
      "ld: warning: dylib (/Users/arizakhtar/miniforge3/lib/libomp.dylib) was built for newer macOS version (11.1) than being linked (11.0)\n"
     ]
    },
    {
     "name": "stdout",
     "output_type": "stream",
     "text": [
      "Done compiling ContextCpu kernels.\n",
      "lumigrid_my_beam size: (20, 20)\n",
      "exchange_buffer size: (417,)\n",
      "lumigrid_my_beam size: (20, 20)\n",
      "exchange_buffer size: (417,)\n",
      "lumigrid_my_beam size: (20, 20)\n",
      "exchange_buffer size: (417,)\n",
      "lumigrid_my_beam size: (20, 20)\n",
      "exchange_buffer size: (417,)\n",
      "lumigrid_my_beam size: (20, 20)\n",
      "exchange_buffer size: (417,)\n",
      "lumigrid_my_beam size: (20, 20)\n",
      "exchange_buffer size: (417,)\n",
      "Done with tracking. 0.4063575267791748 [s/turn]\n",
      "Gaussian Luminosity with beam-beam: [7.94027761e+38 1.07070404e+35 1.11803485e+35]\n",
      "Numerical Integrator Luminosity with beam-beam: [3.19999991e+38 5.52320157e+33 4.39591788e+34]\n",
      "1.8743173837728477e+17\n",
      "analytical: 3.763750839060321e+37\n",
      "Compiling ContextCpu kernels...\n",
      "Done compiling ContextCpu kernels.\n",
      "build bb elements...\n",
      "100\n",
      "Compiling ContextCpu kernels...\n",
      "Done compiling ContextCpu kernels.\n",
      "Compiling ContextCpu kernels...\n",
      "Done compiling ContextCpu kernels.\n",
      "Tracking...\n",
      "Compiling ContextCpu kernels...\n"
     ]
    },
    {
     "name": "stderr",
     "output_type": "stream",
     "text": [
      "ld: warning: dylib (/Users/arizakhtar/miniforge3/lib/libomp.dylib) was built for newer macOS version (11.1) than being linked (11.0)\n"
     ]
    },
    {
     "name": "stdout",
     "output_type": "stream",
     "text": [
      "Done compiling ContextCpu kernels.\n",
      "Compiling ContextCpu kernels...\n"
     ]
    },
    {
     "name": "stderr",
     "output_type": "stream",
     "text": [
      "ld: warning: dylib (/Users/arizakhtar/miniforge3/lib/libomp.dylib) was built for newer macOS version (11.1) than being linked (11.0)\n"
     ]
    },
    {
     "name": "stdout",
     "output_type": "stream",
     "text": [
      "Done compiling ContextCpu kernels.\n",
      "lumigrid_my_beam size: (50, 50)\n",
      "exchange_buffer size: (2517,)\n",
      "lumigrid_my_beam size: (50, 50)\n",
      "exchange_buffer size: (2517,)\n",
      "lumigrid_my_beam size: (50, 50)\n",
      "exchange_buffer size: (2517,)\n",
      "lumigrid_my_beam size: (50, 50)\n",
      "exchange_buffer size: (2517,)\n",
      "lumigrid_my_beam size: (50, 50)\n",
      "exchange_buffer size: (2517,)\n",
      "lumigrid_my_beam size: (50, 50)\n",
      "exchange_buffer size: (2517,)\n",
      "Done with tracking. 0.41213991641998293 [s/turn]\n",
      "Gaussian Luminosity with beam-beam: [7.92825434e+38 9.02179309e+34 9.33155757e+34]\n",
      "Numerical Integrator Luminosity with beam-beam: [3.05310525e+38 6.89283389e+33 6.69368598e+34]\n",
      "1.0021570891734892e+18\n",
      "analytical: 3.763750839060321e+37\n",
      "Compiling ContextCpu kernels...\n",
      "Done compiling ContextCpu kernels.\n",
      "build bb elements...\n",
      "100\n",
      "Compiling ContextCpu kernels...\n",
      "Done compiling ContextCpu kernels.\n",
      "Compiling ContextCpu kernels...\n",
      "Done compiling ContextCpu kernels.\n",
      "Tracking...\n",
      "Compiling ContextCpu kernels...\n"
     ]
    },
    {
     "name": "stderr",
     "output_type": "stream",
     "text": [
      "ld: warning: dylib (/Users/arizakhtar/miniforge3/lib/libomp.dylib) was built for newer macOS version (11.1) than being linked (11.0)\n"
     ]
    },
    {
     "name": "stdout",
     "output_type": "stream",
     "text": [
      "Done compiling ContextCpu kernels.\n",
      "Compiling ContextCpu kernels...\n"
     ]
    },
    {
     "name": "stderr",
     "output_type": "stream",
     "text": [
      "ld: warning: dylib (/Users/arizakhtar/miniforge3/lib/libomp.dylib) was built for newer macOS version (11.1) than being linked (11.0)\n"
     ]
    },
    {
     "name": "stdout",
     "output_type": "stream",
     "text": [
      "Done compiling ContextCpu kernels.\n",
      "lumigrid_my_beam size: (100, 100)\n",
      "exchange_buffer size: (10017,)\n",
      "lumigrid_my_beam size: (100, 100)\n",
      "exchange_buffer size: (10017,)\n",
      "lumigrid_my_beam size: (100, 100)\n",
      "exchange_buffer size: (10017,)\n",
      "lumigrid_my_beam size: (100, 100)\n",
      "exchange_buffer size: (10017,)\n",
      "lumigrid_my_beam size: (100, 100)\n",
      "exchange_buffer size: (10017,)\n",
      "lumigrid_my_beam size: (100, 100)\n",
      "exchange_buffer size: (10017,)\n",
      "Done with tracking. 0.4280541896820068 [s/turn]\n",
      "Gaussian Luminosity with beam-beam: [8.15170484e+38 1.06728666e+35 1.10337506e+35]\n",
      "Numerical Integrator Luminosity with beam-beam: [4.54623330e+38 9.64694783e+33 1.13970362e+35]\n",
      "6.732996735696656e+18\n",
      "analytical: 3.763750839060321e+37\n",
      "Compiling ContextCpu kernels...\n",
      "Done compiling ContextCpu kernels.\n",
      "build bb elements...\n",
      "100\n",
      "Compiling ContextCpu kernels...\n",
      "Done compiling ContextCpu kernels.\n",
      "Compiling ContextCpu kernels...\n",
      "Done compiling ContextCpu kernels.\n",
      "Tracking...\n",
      "Compiling ContextCpu kernels...\n"
     ]
    },
    {
     "name": "stderr",
     "output_type": "stream",
     "text": [
      "ld: warning: dylib (/Users/arizakhtar/miniforge3/lib/libomp.dylib) was built for newer macOS version (11.1) than being linked (11.0)\n"
     ]
    },
    {
     "name": "stdout",
     "output_type": "stream",
     "text": [
      "Done compiling ContextCpu kernels.\n",
      "Compiling ContextCpu kernels...\n"
     ]
    },
    {
     "name": "stderr",
     "output_type": "stream",
     "text": [
      "ld: warning: dylib (/Users/arizakhtar/miniforge3/lib/libomp.dylib) was built for newer macOS version (11.1) than being linked (11.0)\n"
     ]
    },
    {
     "name": "stdout",
     "output_type": "stream",
     "text": [
      "Done compiling ContextCpu kernels.\n",
      "lumigrid_my_beam size: (200, 200)\n",
      "exchange_buffer size: (40017,)\n",
      "lumigrid_my_beam size: (200, 200)\n",
      "exchange_buffer size: (40017,)\n",
      "lumigrid_my_beam size: (200, 200)\n",
      "exchange_buffer size: (40017,)\n",
      "lumigrid_my_beam size: (200, 200)\n",
      "exchange_buffer size: (40017,)\n",
      "lumigrid_my_beam size: (200, 200)\n",
      "exchange_buffer size: (40017,)\n",
      "lumigrid_my_beam size: (200, 200)\n",
      "exchange_buffer size: (40017,)\n",
      "Done with tracking. 0.4583961009979248 [s/turn]\n",
      "Gaussian Luminosity with beam-beam: [8.48280214e+38 1.11219377e+35 1.14759049e+35]\n",
      "Numerical Integrator Luminosity with beam-beam: [4.39026855e+38 1.02393155e+34 1.50061787e+35]\n",
      "2.5091927764377612e+19\n",
      "analytical: 3.763750839060321e+37\n",
      "Compiling ContextCpu kernels...\n",
      "Done compiling ContextCpu kernels.\n",
      "build bb elements...\n",
      "100\n",
      "Compiling ContextCpu kernels...\n",
      "Done compiling ContextCpu kernels.\n",
      "Compiling ContextCpu kernels...\n",
      "Done compiling ContextCpu kernels.\n",
      "Tracking...\n",
      "Compiling ContextCpu kernels...\n"
     ]
    },
    {
     "name": "stderr",
     "output_type": "stream",
     "text": [
      "ld: warning: dylib (/Users/arizakhtar/miniforge3/lib/libomp.dylib) was built for newer macOS version (11.1) than being linked (11.0)\n"
     ]
    },
    {
     "name": "stdout",
     "output_type": "stream",
     "text": [
      "Done compiling ContextCpu kernels.\n",
      "Compiling ContextCpu kernels...\n"
     ]
    },
    {
     "name": "stderr",
     "output_type": "stream",
     "text": [
      "ld: warning: dylib (/Users/arizakhtar/miniforge3/lib/libomp.dylib) was built for newer macOS version (11.1) than being linked (11.0)\n"
     ]
    },
    {
     "name": "stdout",
     "output_type": "stream",
     "text": [
      "Done compiling ContextCpu kernels.\n",
      "lumigrid_my_beam size: (300, 300)\n",
      "exchange_buffer size: (90017,)\n",
      "lumigrid_my_beam size: (300, 300)\n",
      "exchange_buffer size: (90017,)\n",
      "lumigrid_my_beam size: (300, 300)\n",
      "exchange_buffer size: (90017,)\n",
      "lumigrid_my_beam size: (300, 300)\n",
      "exchange_buffer size: (90017,)\n",
      "lumigrid_my_beam size: (300, 300)\n",
      "exchange_buffer size: (90017,)\n",
      "lumigrid_my_beam size: (300, 300)\n",
      "exchange_buffer size: (90017,)\n",
      "Done with tracking. 0.4981813907623291 [s/turn]\n",
      "Gaussian Luminosity with beam-beam: [7.94281660e+38 9.57271795e+34 9.92488574e+34]\n",
      "Numerical Integrator Luminosity with beam-beam: [4.36607511e+38 1.55793404e+34 1.71783379e+35]\n",
      "4.41903393673798e+19\n",
      "analytical: 3.763750839060321e+37\n",
      "Compiling ContextCpu kernels...\n",
      "Done compiling ContextCpu kernels.\n",
      "build bb elements...\n",
      "100\n",
      "Compiling ContextCpu kernels...\n",
      "Done compiling ContextCpu kernels.\n",
      "Compiling ContextCpu kernels...\n",
      "Done compiling ContextCpu kernels.\n",
      "Tracking...\n",
      "Compiling ContextCpu kernels...\n"
     ]
    },
    {
     "name": "stderr",
     "output_type": "stream",
     "text": [
      "ld: warning: dylib (/Users/arizakhtar/miniforge3/lib/libomp.dylib) was built for newer macOS version (11.1) than being linked (11.0)\n"
     ]
    },
    {
     "name": "stdout",
     "output_type": "stream",
     "text": [
      "Done compiling ContextCpu kernels.\n",
      "Compiling ContextCpu kernels...\n"
     ]
    },
    {
     "name": "stderr",
     "output_type": "stream",
     "text": [
      "ld: warning: dylib (/Users/arizakhtar/miniforge3/lib/libomp.dylib) was built for newer macOS version (11.1) than being linked (11.0)\n"
     ]
    },
    {
     "name": "stdout",
     "output_type": "stream",
     "text": [
      "Done compiling ContextCpu kernels.\n",
      "lumigrid_my_beam size: (500, 500)\n",
      "exchange_buffer size: (250017,)\n",
      "lumigrid_my_beam size: (500, 500)\n",
      "exchange_buffer size: (250017,)\n",
      "lumigrid_my_beam size: (500, 500)\n",
      "exchange_buffer size: (250017,)\n",
      "lumigrid_my_beam size: (500, 500)\n",
      "exchange_buffer size: (250017,)\n",
      "lumigrid_my_beam size: (500, 500)\n",
      "exchange_buffer size: (250017,)\n",
      "lumigrid_my_beam size: (500, 500)\n",
      "exchange_buffer size: (250017,)\n",
      "Done with tracking. 0.6494112014770508 [s/turn]\n",
      "Gaussian Luminosity with beam-beam: [9.09289512e+38 7.37988084e+34 7.65081605e+34]\n",
      "Numerical Integrator Luminosity with beam-beam: [7.64661216e+38 1.03319502e+34 1.13326817e+35]\n",
      "1.8442714110652288e+20\n",
      "analytical: 3.763750839060321e+37\n",
      "Compiling ContextCpu kernels...\n",
      "Done compiling ContextCpu kernels.\n",
      "build bb elements...\n",
      "100\n",
      "Compiling ContextCpu kernels...\n",
      "Done compiling ContextCpu kernels.\n",
      "Compiling ContextCpu kernels...\n",
      "Done compiling ContextCpu kernels.\n",
      "Tracking...\n",
      "Compiling ContextCpu kernels...\n"
     ]
    },
    {
     "name": "stderr",
     "output_type": "stream",
     "text": [
      "ld: warning: dylib (/Users/arizakhtar/miniforge3/lib/libomp.dylib) was built for newer macOS version (11.1) than being linked (11.0)\n"
     ]
    },
    {
     "name": "stdout",
     "output_type": "stream",
     "text": [
      "Done compiling ContextCpu kernels.\n",
      "Compiling ContextCpu kernels...\n"
     ]
    },
    {
     "name": "stderr",
     "output_type": "stream",
     "text": [
      "ld: warning: dylib (/Users/arizakhtar/miniforge3/lib/libomp.dylib) was built for newer macOS version (11.1) than being linked (11.0)\n"
     ]
    },
    {
     "name": "stdout",
     "output_type": "stream",
     "text": [
      "Done compiling ContextCpu kernels.\n",
      "lumigrid_my_beam size: (800, 800)\n",
      "exchange_buffer size: (640017,)\n",
      "lumigrid_my_beam size: (800, 800)\n",
      "exchange_buffer size: (640017,)\n",
      "lumigrid_my_beam size: (800, 800)\n",
      "exchange_buffer size: (640017,)\n",
      "lumigrid_my_beam size: (800, 800)\n",
      "exchange_buffer size: (640017,)\n",
      "lumigrid_my_beam size: (800, 800)\n",
      "exchange_buffer size: (640017,)\n",
      "lumigrid_my_beam size: (800, 800)\n",
      "exchange_buffer size: (640017,)\n",
      "Done with tracking. 1.1029558181762695 [s/turn]\n",
      "Gaussian Luminosity with beam-beam: [9.11522032e+38 8.79259304e+34 9.09266012e+34]\n",
      "Numerical Integrator Luminosity with beam-beam: [9.03349216e+38 2.58960407e+34 1.83095365e+35]\n",
      "3.646794352229718e+20\n",
      "analytical: 3.763750839060321e+37\n",
      "Compiling ContextCpu kernels...\n",
      "Done compiling ContextCpu kernels.\n",
      "build bb elements...\n",
      "100\n",
      "Compiling ContextCpu kernels...\n",
      "Done compiling ContextCpu kernels.\n",
      "Compiling ContextCpu kernels...\n",
      "Done compiling ContextCpu kernels.\n",
      "Tracking...\n",
      "Compiling ContextCpu kernels...\n"
     ]
    },
    {
     "name": "stderr",
     "output_type": "stream",
     "text": [
      "ld: warning: dylib (/Users/arizakhtar/miniforge3/lib/libomp.dylib) was built for newer macOS version (11.1) than being linked (11.0)\n"
     ]
    },
    {
     "name": "stdout",
     "output_type": "stream",
     "text": [
      "Done compiling ContextCpu kernels.\n",
      "Compiling ContextCpu kernels...\n"
     ]
    },
    {
     "name": "stderr",
     "output_type": "stream",
     "text": [
      "ld: warning: dylib (/Users/arizakhtar/miniforge3/lib/libomp.dylib) was built for newer macOS version (11.1) than being linked (11.0)\n"
     ]
    },
    {
     "name": "stdout",
     "output_type": "stream",
     "text": [
      "Done compiling ContextCpu kernels.\n",
      "lumigrid_my_beam size: (1000, 1000)\n",
      "exchange_buffer size: (1000017,)\n",
      "lumigrid_my_beam size: (1000, 1000)\n",
      "exchange_buffer size: (1000017,)\n",
      "lumigrid_my_beam size: (1000, 1000)\n",
      "exchange_buffer size: (1000017,)\n",
      "lumigrid_my_beam size: (1000, 1000)\n",
      "exchange_buffer size: (1000017,)\n",
      "lumigrid_my_beam size: (1000, 1000)\n",
      "exchange_buffer size: (1000017,)\n",
      "lumigrid_my_beam size: (1000, 1000)\n",
      "exchange_buffer size: (1000017,)\n",
      "Done with tracking. 1.552798581123352 [s/turn]\n",
      "Gaussian Luminosity with beam-beam: [8.65667681e+38 9.61238253e+34 9.97683142e+34]\n",
      "Numerical Integrator Luminosity with beam-beam: [3.05208978e+38 1.93275694e+34 1.96044509e+35]\n",
      "5.684603357373561e+20\n",
      "analytical: 3.763750839060321e+37\n",
      "Compiling ContextCpu kernels...\n",
      "Done compiling ContextCpu kernels.\n",
      "build bb elements...\n",
      "100\n",
      "Compiling ContextCpu kernels...\n",
      "Done compiling ContextCpu kernels.\n",
      "Compiling ContextCpu kernels...\n",
      "Done compiling ContextCpu kernels.\n",
      "Tracking...\n",
      "Compiling ContextCpu kernels...\n"
     ]
    },
    {
     "name": "stderr",
     "output_type": "stream",
     "text": [
      "ld: warning: dylib (/Users/arizakhtar/miniforge3/lib/libomp.dylib) was built for newer macOS version (11.1) than being linked (11.0)\n"
     ]
    },
    {
     "name": "stdout",
     "output_type": "stream",
     "text": [
      "Done compiling ContextCpu kernels.\n",
      "Compiling ContextCpu kernels...\n"
     ]
    },
    {
     "name": "stderr",
     "output_type": "stream",
     "text": [
      "ld: warning: dylib (/Users/arizakhtar/miniforge3/lib/libomp.dylib) was built for newer macOS version (11.1) than being linked (11.0)\n"
     ]
    },
    {
     "name": "stdout",
     "output_type": "stream",
     "text": [
      "Done compiling ContextCpu kernels.\n",
      "lumigrid_my_beam size: (1500, 1500)\n",
      "exchange_buffer size: (2250017,)\n",
      "lumigrid_my_beam size: (1500, 1500)\n",
      "exchange_buffer size: (2250017,)\n",
      "lumigrid_my_beam size: (1500, 1500)\n",
      "exchange_buffer size: (2250017,)\n",
      "lumigrid_my_beam size: (1500, 1500)\n",
      "exchange_buffer size: (2250017,)\n",
      "lumigrid_my_beam size: (1500, 1500)\n",
      "exchange_buffer size: (2250017,)\n",
      "lumigrid_my_beam size: (1500, 1500)\n",
      "exchange_buffer size: (2250017,)\n",
      "Done with tracking. 3.175881791114807 [s/turn]\n",
      "Gaussian Luminosity with beam-beam: [8.44315763e+38 8.99158401e+34 9.39384272e+34]\n",
      "Numerical Integrator Luminosity with beam-beam: [3.00951334e+37 5.60870869e+34 2.86381043e+35]\n",
      "1.1237887356817062e+21\n",
      "analytical: 3.763750839060321e+37\n",
      "Compiling ContextCpu kernels...\n",
      "Done compiling ContextCpu kernels.\n",
      "build bb elements...\n",
      "200\n",
      "Compiling ContextCpu kernels...\n",
      "Done compiling ContextCpu kernels.\n",
      "Compiling ContextCpu kernels...\n",
      "Done compiling ContextCpu kernels.\n",
      "Tracking...\n",
      "Compiling ContextCpu kernels...\n"
     ]
    },
    {
     "name": "stderr",
     "output_type": "stream",
     "text": [
      "ld: warning: dylib (/Users/arizakhtar/miniforge3/lib/libomp.dylib) was built for newer macOS version (11.1) than being linked (11.0)\n"
     ]
    },
    {
     "name": "stdout",
     "output_type": "stream",
     "text": [
      "Done compiling ContextCpu kernels.\n",
      "Compiling ContextCpu kernels...\n"
     ]
    },
    {
     "name": "stderr",
     "output_type": "stream",
     "text": [
      "ld: warning: dylib (/Users/arizakhtar/miniforge3/lib/libomp.dylib) was built for newer macOS version (11.1) than being linked (11.0)\n"
     ]
    },
    {
     "name": "stdout",
     "output_type": "stream",
     "text": [
      "Done compiling ContextCpu kernels.\n",
      "lumigrid_my_beam size: (10, 10)\n",
      "exchange_buffer size: (117,)\n",
      "lumigrid_my_beam size: (10, 10)\n",
      "exchange_buffer size: (117,)\n",
      "lumigrid_my_beam size: (10, 10)\n",
      "exchange_buffer size: (117,)\n",
      "lumigrid_my_beam size: (10, 10)\n",
      "exchange_buffer size: (117,)\n",
      "lumigrid_my_beam size: (10, 10)\n",
      "exchange_buffer size: (117,)\n",
      "lumigrid_my_beam size: (10, 10)\n",
      "exchange_buffer size: (117,)\n",
      "Done with tracking. 0.4382613658905029 [s/turn]\n",
      "Gaussian Luminosity with beam-beam: [8.60141053e+38 9.77376977e+34 1.02142294e+35]\n",
      "Numerical Integrator Luminosity with beam-beam: [1.64639153e+38 2.98282411e+33 1.86401064e+34]\n",
      "8.95125787787251e+16\n",
      "analytical: 3.763750839060321e+37\n",
      "Compiling ContextCpu kernels...\n",
      "Done compiling ContextCpu kernels.\n",
      "build bb elements...\n",
      "200\n",
      "Compiling ContextCpu kernels...\n",
      "Done compiling ContextCpu kernels.\n",
      "Compiling ContextCpu kernels...\n",
      "Done compiling ContextCpu kernels.\n",
      "Tracking...\n",
      "Compiling ContextCpu kernels...\n"
     ]
    },
    {
     "name": "stderr",
     "output_type": "stream",
     "text": [
      "ld: warning: dylib (/Users/arizakhtar/miniforge3/lib/libomp.dylib) was built for newer macOS version (11.1) than being linked (11.0)\n"
     ]
    },
    {
     "name": "stdout",
     "output_type": "stream",
     "text": [
      "Done compiling ContextCpu kernels.\n",
      "Compiling ContextCpu kernels...\n"
     ]
    },
    {
     "name": "stderr",
     "output_type": "stream",
     "text": [
      "ld: warning: dylib (/Users/arizakhtar/miniforge3/lib/libomp.dylib) was built for newer macOS version (11.1) than being linked (11.0)\n"
     ]
    },
    {
     "name": "stdout",
     "output_type": "stream",
     "text": [
      "Done compiling ContextCpu kernels.\n",
      "lumigrid_my_beam size: (20, 20)\n",
      "exchange_buffer size: (417,)\n",
      "lumigrid_my_beam size: (20, 20)\n",
      "exchange_buffer size: (417,)\n",
      "lumigrid_my_beam size: (20, 20)\n",
      "exchange_buffer size: (417,)\n",
      "lumigrid_my_beam size: (20, 20)\n",
      "exchange_buffer size: (417,)\n",
      "lumigrid_my_beam size: (20, 20)\n",
      "exchange_buffer size: (417,)\n",
      "lumigrid_my_beam size: (20, 20)\n",
      "exchange_buffer size: (417,)\n",
      "Done with tracking. 0.44994029998779295 [s/turn]\n",
      "Gaussian Luminosity with beam-beam: [8.54029319e+38 8.38190361e+34 8.69682138e+34]\n",
      "Numerical Integrator Luminosity with beam-beam: [3.40514554e+38 4.60263957e+33 3.54433399e+34]\n",
      "3.781022760686452e+17\n",
      "analytical: 3.763750839060321e+37\n",
      "Compiling ContextCpu kernels...\n",
      "Done compiling ContextCpu kernels.\n",
      "build bb elements...\n",
      "200\n",
      "Compiling ContextCpu kernels...\n",
      "Done compiling ContextCpu kernels.\n",
      "Compiling ContextCpu kernels...\n",
      "Done compiling ContextCpu kernels.\n",
      "Tracking...\n",
      "Compiling ContextCpu kernels...\n"
     ]
    },
    {
     "name": "stderr",
     "output_type": "stream",
     "text": [
      "ld: warning: dylib (/Users/arizakhtar/miniforge3/lib/libomp.dylib) was built for newer macOS version (11.1) than being linked (11.0)\n"
     ]
    },
    {
     "name": "stdout",
     "output_type": "stream",
     "text": [
      "Done compiling ContextCpu kernels.\n",
      "Compiling ContextCpu kernels...\n"
     ]
    },
    {
     "name": "stderr",
     "output_type": "stream",
     "text": [
      "ld: warning: dylib (/Users/arizakhtar/miniforge3/lib/libomp.dylib) was built for newer macOS version (11.1) than being linked (11.0)\n"
     ]
    },
    {
     "name": "stdout",
     "output_type": "stream",
     "text": [
      "Done compiling ContextCpu kernels.\n",
      "lumigrid_my_beam size: (50, 50)\n",
      "exchange_buffer size: (2517,)\n",
      "lumigrid_my_beam size: (50, 50)\n",
      "exchange_buffer size: (2517,)\n",
      "lumigrid_my_beam size: (50, 50)\n",
      "exchange_buffer size: (2517,)\n",
      "lumigrid_my_beam size: (50, 50)\n",
      "exchange_buffer size: (2517,)\n",
      "lumigrid_my_beam size: (50, 50)\n",
      "exchange_buffer size: (2517,)\n",
      "lumigrid_my_beam size: (50, 50)\n",
      "exchange_buffer size: (2517,)\n",
      "Done with tracking. 0.4348027229309082 [s/turn]\n",
      "Gaussian Luminosity with beam-beam: [8.45985574e+38 1.02328777e+35 1.05947471e+35]\n",
      "Numerical Integrator Luminosity with beam-beam: [4.07330666e+38 7.76290137e+33 7.76608356e+34]\n",
      "2.4467362619257047e+18\n",
      "analytical: 3.763750839060321e+37\n",
      "Compiling ContextCpu kernels...\n",
      "Done compiling ContextCpu kernels.\n",
      "build bb elements...\n",
      "200\n",
      "Compiling ContextCpu kernels...\n",
      "Done compiling ContextCpu kernels.\n",
      "Compiling ContextCpu kernels...\n",
      "Done compiling ContextCpu kernels.\n",
      "Tracking...\n",
      "Compiling ContextCpu kernels...\n"
     ]
    },
    {
     "name": "stderr",
     "output_type": "stream",
     "text": [
      "ld: warning: dylib (/Users/arizakhtar/miniforge3/lib/libomp.dylib) was built for newer macOS version (11.1) than being linked (11.0)\n"
     ]
    },
    {
     "name": "stdout",
     "output_type": "stream",
     "text": [
      "Done compiling ContextCpu kernels.\n",
      "Compiling ContextCpu kernels...\n"
     ]
    },
    {
     "name": "stderr",
     "output_type": "stream",
     "text": [
      "ld: warning: dylib (/Users/arizakhtar/miniforge3/lib/libomp.dylib) was built for newer macOS version (11.1) than being linked (11.0)\n"
     ]
    },
    {
     "name": "stdout",
     "output_type": "stream",
     "text": [
      "Done compiling ContextCpu kernels.\n",
      "lumigrid_my_beam size: (100, 100)\n",
      "exchange_buffer size: (10017,)\n",
      "lumigrid_my_beam size: (100, 100)\n",
      "exchange_buffer size: (10017,)\n",
      "lumigrid_my_beam size: (100, 100)\n",
      "exchange_buffer size: (10017,)\n",
      "lumigrid_my_beam size: (100, 100)\n",
      "exchange_buffer size: (10017,)\n",
      "lumigrid_my_beam size: (100, 100)\n",
      "exchange_buffer size: (10017,)\n",
      "lumigrid_my_beam size: (100, 100)\n",
      "exchange_buffer size: (10017,)\n",
      "Done with tracking. 0.44119322299957275 [s/turn]\n",
      "Gaussian Luminosity with beam-beam: [8.20211633e+38 1.08871086e+35 1.13096408e+35]\n",
      "Numerical Integrator Luminosity with beam-beam: [3.99058119e+38 1.27915323e+34 1.17958813e+35]\n",
      "1.1288125128897059e+19\n",
      "analytical: 3.763750839060321e+37\n",
      "Compiling ContextCpu kernels...\n",
      "Done compiling ContextCpu kernels.\n",
      "build bb elements...\n",
      "200\n",
      "Compiling ContextCpu kernels...\n",
      "Done compiling ContextCpu kernels.\n",
      "Compiling ContextCpu kernels...\n",
      "Done compiling ContextCpu kernels.\n",
      "Tracking...\n",
      "Compiling ContextCpu kernels...\n"
     ]
    },
    {
     "name": "stderr",
     "output_type": "stream",
     "text": [
      "ld: warning: dylib (/Users/arizakhtar/miniforge3/lib/libomp.dylib) was built for newer macOS version (11.1) than being linked (11.0)\n"
     ]
    },
    {
     "name": "stdout",
     "output_type": "stream",
     "text": [
      "Done compiling ContextCpu kernels.\n",
      "Compiling ContextCpu kernels...\n"
     ]
    },
    {
     "name": "stderr",
     "output_type": "stream",
     "text": [
      "ld: warning: dylib (/Users/arizakhtar/miniforge3/lib/libomp.dylib) was built for newer macOS version (11.1) than being linked (11.0)\n"
     ]
    },
    {
     "name": "stdout",
     "output_type": "stream",
     "text": [
      "Done compiling ContextCpu kernels.\n",
      "lumigrid_my_beam size: (200, 200)\n",
      "exchange_buffer size: (40017,)\n",
      "lumigrid_my_beam size: (200, 200)\n",
      "exchange_buffer size: (40017,)\n",
      "lumigrid_my_beam size: (200, 200)\n",
      "exchange_buffer size: (40017,)\n",
      "lumigrid_my_beam size: (200, 200)\n",
      "exchange_buffer size: (40017,)\n",
      "lumigrid_my_beam size: (200, 200)\n",
      "exchange_buffer size: (40017,)\n",
      "lumigrid_my_beam size: (200, 200)\n",
      "exchange_buffer size: (40017,)\n",
      "Done with tracking. 0.4616442918777466 [s/turn]\n",
      "Gaussian Luminosity with beam-beam: [8.26721138e+38 8.50435216e+34 8.78602851e+34]\n",
      "Numerical Integrator Luminosity with beam-beam: [4.31104835e+38 8.14964792e+33 1.08744938e+35]\n",
      "4.4909430748223594e+19\n",
      "analytical: 3.763750839060321e+37\n",
      "Compiling ContextCpu kernels...\n",
      "Done compiling ContextCpu kernels.\n",
      "build bb elements...\n",
      "200\n",
      "Compiling ContextCpu kernels...\n",
      "Done compiling ContextCpu kernels.\n",
      "Compiling ContextCpu kernels...\n",
      "Done compiling ContextCpu kernels.\n",
      "Tracking...\n",
      "Compiling ContextCpu kernels...\n"
     ]
    },
    {
     "name": "stderr",
     "output_type": "stream",
     "text": [
      "ld: warning: dylib (/Users/arizakhtar/miniforge3/lib/libomp.dylib) was built for newer macOS version (11.1) than being linked (11.0)\n"
     ]
    },
    {
     "name": "stdout",
     "output_type": "stream",
     "text": [
      "Done compiling ContextCpu kernels.\n",
      "Compiling ContextCpu kernels...\n"
     ]
    },
    {
     "name": "stderr",
     "output_type": "stream",
     "text": [
      "ld: warning: dylib (/Users/arizakhtar/miniforge3/lib/libomp.dylib) was built for newer macOS version (11.1) than being linked (11.0)\n"
     ]
    },
    {
     "name": "stdout",
     "output_type": "stream",
     "text": [
      "Done compiling ContextCpu kernels.\n",
      "lumigrid_my_beam size: (300, 300)\n",
      "exchange_buffer size: (90017,)\n",
      "lumigrid_my_beam size: (300, 300)\n",
      "exchange_buffer size: (90017,)\n",
      "lumigrid_my_beam size: (300, 300)\n",
      "exchange_buffer size: (90017,)\n",
      "lumigrid_my_beam size: (300, 300)\n",
      "exchange_buffer size: (90017,)\n",
      "lumigrid_my_beam size: (300, 300)\n",
      "exchange_buffer size: (90017,)\n",
      "lumigrid_my_beam size: (300, 300)\n",
      "exchange_buffer size: (90017,)\n",
      "Done with tracking. 0.5062630891799926 [s/turn]\n",
      "Gaussian Luminosity with beam-beam: [8.62741539e+38 1.10739304e+35 1.14718549e+35]\n",
      "Numerical Integrator Luminosity with beam-beam: [3.58720340e+38 1.08246235e+34 1.42946905e+35]\n",
      "9.412405738306185e+19\n",
      "analytical: 3.763750839060321e+37\n",
      "Compiling ContextCpu kernels...\n",
      "Done compiling ContextCpu kernels.\n",
      "build bb elements...\n",
      "200\n",
      "Compiling ContextCpu kernels...\n",
      "Done compiling ContextCpu kernels.\n",
      "Compiling ContextCpu kernels...\n",
      "Done compiling ContextCpu kernels.\n",
      "Tracking...\n",
      "Compiling ContextCpu kernels...\n"
     ]
    },
    {
     "name": "stderr",
     "output_type": "stream",
     "text": [
      "ld: warning: dylib (/Users/arizakhtar/miniforge3/lib/libomp.dylib) was built for newer macOS version (11.1) than being linked (11.0)\n"
     ]
    },
    {
     "name": "stdout",
     "output_type": "stream",
     "text": [
      "Done compiling ContextCpu kernels.\n",
      "Compiling ContextCpu kernels...\n"
     ]
    },
    {
     "name": "stderr",
     "output_type": "stream",
     "text": [
      "ld: warning: dylib (/Users/arizakhtar/miniforge3/lib/libomp.dylib) was built for newer macOS version (11.1) than being linked (11.0)\n"
     ]
    },
    {
     "name": "stdout",
     "output_type": "stream",
     "text": [
      "Done compiling ContextCpu kernels.\n",
      "lumigrid_my_beam size: (500, 500)\n",
      "exchange_buffer size: (250017,)\n",
      "lumigrid_my_beam size: (500, 500)\n",
      "exchange_buffer size: (250017,)\n",
      "lumigrid_my_beam size: (500, 500)\n",
      "exchange_buffer size: (250017,)\n",
      "lumigrid_my_beam size: (500, 500)\n",
      "exchange_buffer size: (250017,)\n",
      "lumigrid_my_beam size: (500, 500)\n",
      "exchange_buffer size: (250017,)\n",
      "lumigrid_my_beam size: (500, 500)\n",
      "exchange_buffer size: (250017,)\n",
      "Done with tracking. 0.6468266010284424 [s/turn]\n",
      "Gaussian Luminosity with beam-beam: [8.48989133e+38 9.79835703e+34 1.00994752e+35]\n",
      "Numerical Integrator Luminosity with beam-beam: [4.30846460e+38 1.43797529e+34 1.50695816e+35]\n",
      "2.644128210117625e+20\n",
      "analytical: 3.763750839060321e+37\n",
      "Compiling ContextCpu kernels...\n",
      "Done compiling ContextCpu kernels.\n",
      "build bb elements...\n",
      "200\n",
      "Compiling ContextCpu kernels...\n",
      "Done compiling ContextCpu kernels.\n",
      "Compiling ContextCpu kernels...\n",
      "Done compiling ContextCpu kernels.\n",
      "Tracking...\n",
      "Compiling ContextCpu kernels...\n"
     ]
    },
    {
     "name": "stderr",
     "output_type": "stream",
     "text": [
      "ld: warning: dylib (/Users/arizakhtar/miniforge3/lib/libomp.dylib) was built for newer macOS version (11.1) than being linked (11.0)\n"
     ]
    },
    {
     "name": "stdout",
     "output_type": "stream",
     "text": [
      "Done compiling ContextCpu kernels.\n",
      "Compiling ContextCpu kernels...\n"
     ]
    },
    {
     "name": "stderr",
     "output_type": "stream",
     "text": [
      "ld: warning: dylib (/Users/arizakhtar/miniforge3/lib/libomp.dylib) was built for newer macOS version (11.1) than being linked (11.0)\n"
     ]
    },
    {
     "name": "stdout",
     "output_type": "stream",
     "text": [
      "Done compiling ContextCpu kernels.\n",
      "lumigrid_my_beam size: (800, 800)\n",
      "exchange_buffer size: (640017,)\n",
      "lumigrid_my_beam size: (800, 800)\n",
      "exchange_buffer size: (640017,)\n",
      "lumigrid_my_beam size: (800, 800)\n",
      "exchange_buffer size: (640017,)\n",
      "lumigrid_my_beam size: (800, 800)\n",
      "exchange_buffer size: (640017,)\n",
      "lumigrid_my_beam size: (800, 800)\n",
      "exchange_buffer size: (640017,)\n",
      "lumigrid_my_beam size: (800, 800)\n",
      "exchange_buffer size: (640017,)\n",
      "Done with tracking. 1.1055948972702025 [s/turn]\n",
      "Gaussian Luminosity with beam-beam: [8.54511766e+38 8.37747153e+34 8.68669174e+34]\n",
      "Numerical Integrator Luminosity with beam-beam: [4.41265489e+38 1.31788861e+34 8.63468136e+34]\n",
      "7.075403802990135e+20\n",
      "analytical: 3.763750839060321e+37\n",
      "Compiling ContextCpu kernels...\n",
      "Done compiling ContextCpu kernels.\n",
      "build bb elements...\n",
      "200\n",
      "Compiling ContextCpu kernels...\n",
      "Done compiling ContextCpu kernels.\n",
      "Compiling ContextCpu kernels...\n",
      "Done compiling ContextCpu kernels.\n",
      "Tracking...\n",
      "Compiling ContextCpu kernels...\n"
     ]
    },
    {
     "name": "stderr",
     "output_type": "stream",
     "text": [
      "ld: warning: dylib (/Users/arizakhtar/miniforge3/lib/libomp.dylib) was built for newer macOS version (11.1) than being linked (11.0)\n"
     ]
    },
    {
     "name": "stdout",
     "output_type": "stream",
     "text": [
      "Done compiling ContextCpu kernels.\n",
      "Compiling ContextCpu kernels...\n"
     ]
    },
    {
     "name": "stderr",
     "output_type": "stream",
     "text": [
      "ld: warning: dylib (/Users/arizakhtar/miniforge3/lib/libomp.dylib) was built for newer macOS version (11.1) than being linked (11.0)\n"
     ]
    },
    {
     "name": "stdout",
     "output_type": "stream",
     "text": [
      "Done compiling ContextCpu kernels.\n",
      "lumigrid_my_beam size: (1000, 1000)\n",
      "exchange_buffer size: (1000017,)\n",
      "lumigrid_my_beam size: (1000, 1000)\n",
      "exchange_buffer size: (1000017,)\n",
      "lumigrid_my_beam size: (1000, 1000)\n",
      "exchange_buffer size: (1000017,)\n",
      "lumigrid_my_beam size: (1000, 1000)\n",
      "exchange_buffer size: (1000017,)\n",
      "lumigrid_my_beam size: (1000, 1000)\n",
      "exchange_buffer size: (1000017,)\n",
      "lumigrid_my_beam size: (1000, 1000)\n",
      "exchange_buffer size: (1000017,)\n",
      "Done with tracking. 1.5424988269805908 [s/turn]\n",
      "Gaussian Luminosity with beam-beam: [7.98366816e+38 8.98904722e+34 9.35163479e+34]\n",
      "Numerical Integrator Luminosity with beam-beam: [6.85370584e+38 1.82511726e+34 1.48570669e+35]\n",
      "1.1151127141141305e+21\n",
      "analytical: 3.763750839060321e+37\n",
      "Compiling ContextCpu kernels...\n",
      "Done compiling ContextCpu kernels.\n",
      "build bb elements...\n",
      "200\n",
      "Compiling ContextCpu kernels...\n",
      "Done compiling ContextCpu kernels.\n",
      "Compiling ContextCpu kernels...\n",
      "Done compiling ContextCpu kernels.\n",
      "Tracking...\n",
      "Compiling ContextCpu kernels...\n"
     ]
    },
    {
     "name": "stderr",
     "output_type": "stream",
     "text": [
      "ld: warning: dylib (/Users/arizakhtar/miniforge3/lib/libomp.dylib) was built for newer macOS version (11.1) than being linked (11.0)\n"
     ]
    },
    {
     "name": "stdout",
     "output_type": "stream",
     "text": [
      "Done compiling ContextCpu kernels.\n",
      "Compiling ContextCpu kernels...\n"
     ]
    },
    {
     "name": "stderr",
     "output_type": "stream",
     "text": [
      "ld: warning: dylib (/Users/arizakhtar/miniforge3/lib/libomp.dylib) was built for newer macOS version (11.1) than being linked (11.0)\n"
     ]
    },
    {
     "name": "stdout",
     "output_type": "stream",
     "text": [
      "Done compiling ContextCpu kernels.\n",
      "lumigrid_my_beam size: (1500, 1500)\n",
      "exchange_buffer size: (2250017,)\n",
      "lumigrid_my_beam size: (1500, 1500)\n",
      "exchange_buffer size: (2250017,)\n",
      "lumigrid_my_beam size: (1500, 1500)\n",
      "exchange_buffer size: (2250017,)\n",
      "lumigrid_my_beam size: (1500, 1500)\n",
      "exchange_buffer size: (2250017,)\n",
      "lumigrid_my_beam size: (1500, 1500)\n",
      "exchange_buffer size: (2250017,)\n",
      "lumigrid_my_beam size: (1500, 1500)\n",
      "exchange_buffer size: (2250017,)\n",
      "Done with tracking. 3.323653483390808 [s/turn]\n",
      "Gaussian Luminosity with beam-beam: [8.35089514e+38 9.82573761e+34 1.01692345e+35]\n",
      "Numerical Integrator Luminosity with beam-beam: [3.28632717e+38 4.61506095e+33 6.89091314e+34]\n",
      "2.299126911422314e+21\n",
      "analytical: 3.763750839060321e+37\n",
      "Compiling ContextCpu kernels...\n",
      "Done compiling ContextCpu kernels.\n",
      "build bb elements...\n",
      "300\n",
      "Compiling ContextCpu kernels...\n",
      "Done compiling ContextCpu kernels.\n",
      "Compiling ContextCpu kernels...\n",
      "Done compiling ContextCpu kernels.\n",
      "Tracking...\n",
      "Compiling ContextCpu kernels...\n"
     ]
    },
    {
     "name": "stderr",
     "output_type": "stream",
     "text": [
      "ld: warning: dylib (/Users/arizakhtar/miniforge3/lib/libomp.dylib) was built for newer macOS version (11.1) than being linked (11.0)\n"
     ]
    },
    {
     "name": "stdout",
     "output_type": "stream",
     "text": [
      "Done compiling ContextCpu kernels.\n",
      "Compiling ContextCpu kernels...\n"
     ]
    },
    {
     "name": "stderr",
     "output_type": "stream",
     "text": [
      "ld: warning: dylib (/Users/arizakhtar/miniforge3/lib/libomp.dylib) was built for newer macOS version (11.1) than being linked (11.0)\n"
     ]
    },
    {
     "name": "stdout",
     "output_type": "stream",
     "text": [
      "Done compiling ContextCpu kernels.\n",
      "lumigrid_my_beam size: (10, 10)\n",
      "exchange_buffer size: (117,)\n",
      "lumigrid_my_beam size: (10, 10)\n",
      "exchange_buffer size: (117,)\n",
      "lumigrid_my_beam size: (10, 10)\n",
      "exchange_buffer size: (117,)\n",
      "lumigrid_my_beam size: (10, 10)\n",
      "exchange_buffer size: (117,)\n",
      "lumigrid_my_beam size: (10, 10)\n",
      "exchange_buffer size: (117,)\n",
      "lumigrid_my_beam size: (10, 10)\n",
      "exchange_buffer size: (117,)\n",
      "Done with tracking. 0.45099220275878904 [s/turn]\n",
      "Gaussian Luminosity with beam-beam: [7.76150227e+38 1.04734736e+35 1.08261867e+35]\n",
      "Numerical Integrator Luminosity with beam-beam: [1.57159616e+38 2.91971708e+33 1.93067738e+34]\n",
      "1.271808092125456e+17\n",
      "analytical: 3.763750839060321e+37\n",
      "Compiling ContextCpu kernels...\n",
      "Done compiling ContextCpu kernels.\n",
      "build bb elements...\n",
      "300\n",
      "Compiling ContextCpu kernels...\n",
      "Done compiling ContextCpu kernels.\n",
      "Compiling ContextCpu kernels...\n",
      "Done compiling ContextCpu kernels.\n",
      "Tracking...\n",
      "Compiling ContextCpu kernels...\n"
     ]
    },
    {
     "name": "stderr",
     "output_type": "stream",
     "text": [
      "ld: warning: dylib (/Users/arizakhtar/miniforge3/lib/libomp.dylib) was built for newer macOS version (11.1) than being linked (11.0)\n"
     ]
    },
    {
     "name": "stdout",
     "output_type": "stream",
     "text": [
      "Done compiling ContextCpu kernels.\n",
      "Compiling ContextCpu kernels...\n"
     ]
    },
    {
     "name": "stderr",
     "output_type": "stream",
     "text": [
      "ld: warning: dylib (/Users/arizakhtar/miniforge3/lib/libomp.dylib) was built for newer macOS version (11.1) than being linked (11.0)\n"
     ]
    },
    {
     "name": "stdout",
     "output_type": "stream",
     "text": [
      "Done compiling ContextCpu kernels.\n",
      "lumigrid_my_beam size: (20, 20)\n",
      "exchange_buffer size: (417,)\n",
      "lumigrid_my_beam size: (20, 20)\n",
      "exchange_buffer size: (417,)\n",
      "lumigrid_my_beam size: (20, 20)\n",
      "exchange_buffer size: (417,)\n",
      "lumigrid_my_beam size: (20, 20)\n",
      "exchange_buffer size: (417,)\n",
      "lumigrid_my_beam size: (20, 20)\n",
      "exchange_buffer size: (417,)\n",
      "lumigrid_my_beam size: (20, 20)\n",
      "exchange_buffer size: (417,)\n",
      "Done with tracking. 0.4579214811325073 [s/turn]\n",
      "Gaussian Luminosity with beam-beam: [8.34629336e+38 1.05069218e+35 1.08474582e+35]\n",
      "Numerical Integrator Luminosity with beam-beam: [3.48726545e+38 5.11421387e+33 3.76739695e+34]\n",
      "6.069743924197757e+17\n",
      "analytical: 3.763750839060321e+37\n",
      "Compiling ContextCpu kernels...\n",
      "Done compiling ContextCpu kernels.\n",
      "build bb elements...\n",
      "300\n",
      "Compiling ContextCpu kernels...\n",
      "Done compiling ContextCpu kernels.\n",
      "Compiling ContextCpu kernels...\n",
      "Done compiling ContextCpu kernels.\n",
      "Tracking...\n",
      "Compiling ContextCpu kernels...\n"
     ]
    },
    {
     "name": "stderr",
     "output_type": "stream",
     "text": [
      "ld: warning: dylib (/Users/arizakhtar/miniforge3/lib/libomp.dylib) was built for newer macOS version (11.1) than being linked (11.0)\n"
     ]
    },
    {
     "name": "stdout",
     "output_type": "stream",
     "text": [
      "Done compiling ContextCpu kernels.\n",
      "Compiling ContextCpu kernels...\n"
     ]
    },
    {
     "name": "stderr",
     "output_type": "stream",
     "text": [
      "ld: warning: dylib (/Users/arizakhtar/miniforge3/lib/libomp.dylib) was built for newer macOS version (11.1) than being linked (11.0)\n"
     ]
    },
    {
     "name": "stdout",
     "output_type": "stream",
     "text": [
      "Done compiling ContextCpu kernels.\n",
      "lumigrid_my_beam size: (50, 50)\n",
      "exchange_buffer size: (2517,)\n",
      "lumigrid_my_beam size: (50, 50)\n",
      "exchange_buffer size: (2517,)\n",
      "lumigrid_my_beam size: (50, 50)\n",
      "exchange_buffer size: (2517,)\n",
      "lumigrid_my_beam size: (50, 50)\n",
      "exchange_buffer size: (2517,)\n",
      "lumigrid_my_beam size: (50, 50)\n",
      "exchange_buffer size: (2517,)\n",
      "lumigrid_my_beam size: (50, 50)\n",
      "exchange_buffer size: (2517,)\n",
      "Done with tracking. 0.43979659080505373 [s/turn]\n",
      "Gaussian Luminosity with beam-beam: [7.72369539e+38 1.12842548e+35 1.17037677e+35]\n",
      "Numerical Integrator Luminosity with beam-beam: [3.64251355e+38 8.17888724e+33 9.10036095e+34]\n",
      "3.7488011396022897e+18\n",
      "analytical: 3.763750839060321e+37\n",
      "Compiling ContextCpu kernels...\n",
      "Done compiling ContextCpu kernels.\n",
      "build bb elements...\n",
      "300\n",
      "Compiling ContextCpu kernels...\n",
      "Done compiling ContextCpu kernels.\n",
      "Compiling ContextCpu kernels...\n",
      "Done compiling ContextCpu kernels.\n",
      "Tracking...\n",
      "Compiling ContextCpu kernels...\n"
     ]
    },
    {
     "name": "stderr",
     "output_type": "stream",
     "text": [
      "ld: warning: dylib (/Users/arizakhtar/miniforge3/lib/libomp.dylib) was built for newer macOS version (11.1) than being linked (11.0)\n"
     ]
    },
    {
     "name": "stdout",
     "output_type": "stream",
     "text": [
      "Done compiling ContextCpu kernels.\n",
      "Compiling ContextCpu kernels...\n"
     ]
    },
    {
     "name": "stderr",
     "output_type": "stream",
     "text": [
      "ld: warning: dylib (/Users/arizakhtar/miniforge3/lib/libomp.dylib) was built for newer macOS version (11.1) than being linked (11.0)\n"
     ]
    },
    {
     "name": "stdout",
     "output_type": "stream",
     "text": [
      "Done compiling ContextCpu kernels.\n",
      "lumigrid_my_beam size: (100, 100)\n",
      "exchange_buffer size: (10017,)\n",
      "lumigrid_my_beam size: (100, 100)\n",
      "exchange_buffer size: (10017,)\n",
      "lumigrid_my_beam size: (100, 100)\n",
      "exchange_buffer size: (10017,)\n",
      "lumigrid_my_beam size: (100, 100)\n",
      "exchange_buffer size: (10017,)\n",
      "lumigrid_my_beam size: (100, 100)\n",
      "exchange_buffer size: (10017,)\n",
      "lumigrid_my_beam size: (100, 100)\n",
      "exchange_buffer size: (10017,)\n",
      "Done with tracking. 0.4383073806762695 [s/turn]\n",
      "Gaussian Luminosity with beam-beam: [8.40420445e+38 1.10719987e+35 1.14930425e+35]\n",
      "Numerical Integrator Luminosity with beam-beam: [4.06910531e+38 1.08233012e+34 1.13829283e+35]\n",
      "1.6240232232955374e+19\n",
      "analytical: 3.763750839060321e+37\n",
      "Compiling ContextCpu kernels...\n",
      "Done compiling ContextCpu kernels.\n",
      "build bb elements...\n",
      "300\n",
      "Compiling ContextCpu kernels...\n",
      "Done compiling ContextCpu kernels.\n",
      "Compiling ContextCpu kernels...\n",
      "Done compiling ContextCpu kernels.\n",
      "Tracking...\n",
      "Compiling ContextCpu kernels...\n"
     ]
    },
    {
     "name": "stderr",
     "output_type": "stream",
     "text": [
      "ld: warning: dylib (/Users/arizakhtar/miniforge3/lib/libomp.dylib) was built for newer macOS version (11.1) than being linked (11.0)\n"
     ]
    },
    {
     "name": "stdout",
     "output_type": "stream",
     "text": [
      "Done compiling ContextCpu kernels.\n",
      "Compiling ContextCpu kernels...\n"
     ]
    },
    {
     "name": "stderr",
     "output_type": "stream",
     "text": [
      "ld: warning: dylib (/Users/arizakhtar/miniforge3/lib/libomp.dylib) was built for newer macOS version (11.1) than being linked (11.0)\n"
     ]
    },
    {
     "name": "stdout",
     "output_type": "stream",
     "text": [
      "Done compiling ContextCpu kernels.\n",
      "lumigrid_my_beam size: (200, 200)\n",
      "exchange_buffer size: (40017,)\n",
      "lumigrid_my_beam size: (200, 200)\n",
      "exchange_buffer size: (40017,)\n",
      "lumigrid_my_beam size: (200, 200)\n",
      "exchange_buffer size: (40017,)\n",
      "lumigrid_my_beam size: (200, 200)\n",
      "exchange_buffer size: (40017,)\n",
      "lumigrid_my_beam size: (200, 200)\n",
      "exchange_buffer size: (40017,)\n",
      "lumigrid_my_beam size: (200, 200)\n",
      "exchange_buffer size: (40017,)\n",
      "Done with tracking. 0.4643028020858765 [s/turn]\n",
      "Gaussian Luminosity with beam-beam: [7.99596781e+38 9.54576314e+34 9.94371456e+34]\n",
      "Numerical Integrator Luminosity with beam-beam: [3.68113591e+38 1.21522016e+34 1.32532971e+35]\n",
      "5.985358415083125e+19\n",
      "analytical: 3.763750839060321e+37\n",
      "Compiling ContextCpu kernels...\n",
      "Done compiling ContextCpu kernels.\n",
      "build bb elements...\n",
      "300\n",
      "Compiling ContextCpu kernels...\n",
      "Done compiling ContextCpu kernels.\n",
      "Compiling ContextCpu kernels...\n",
      "Done compiling ContextCpu kernels.\n",
      "Tracking...\n",
      "Compiling ContextCpu kernels...\n"
     ]
    },
    {
     "name": "stderr",
     "output_type": "stream",
     "text": [
      "ld: warning: dylib (/Users/arizakhtar/miniforge3/lib/libomp.dylib) was built for newer macOS version (11.1) than being linked (11.0)\n"
     ]
    },
    {
     "name": "stdout",
     "output_type": "stream",
     "text": [
      "Done compiling ContextCpu kernels.\n",
      "Compiling ContextCpu kernels...\n"
     ]
    },
    {
     "name": "stderr",
     "output_type": "stream",
     "text": [
      "ld: warning: dylib (/Users/arizakhtar/miniforge3/lib/libomp.dylib) was built for newer macOS version (11.1) than being linked (11.0)\n"
     ]
    },
    {
     "name": "stdout",
     "output_type": "stream",
     "text": [
      "Done compiling ContextCpu kernels.\n",
      "lumigrid_my_beam size: (300, 300)\n",
      "exchange_buffer size: (90017,)\n",
      "lumigrid_my_beam size: (300, 300)\n",
      "exchange_buffer size: (90017,)\n",
      "lumigrid_my_beam size: (300, 300)\n",
      "exchange_buffer size: (90017,)\n",
      "lumigrid_my_beam size: (300, 300)\n",
      "exchange_buffer size: (90017,)\n",
      "lumigrid_my_beam size: (300, 300)\n",
      "exchange_buffer size: (90017,)\n",
      "lumigrid_my_beam size: (300, 300)\n",
      "exchange_buffer size: (90017,)\n",
      "Done with tracking. 0.5716571807861328 [s/turn]\n",
      "Gaussian Luminosity with beam-beam: [7.50529912e+38 1.06242724e+35 1.10844532e+35]\n",
      "Numerical Integrator Luminosity with beam-beam: [3.96772942e+38 1.64332185e+34 1.70195260e+35]\n",
      "1.319235756457866e+20\n",
      "analytical: 3.763750839060321e+37\n",
      "Compiling ContextCpu kernels...\n",
      "Done compiling ContextCpu kernels.\n",
      "build bb elements...\n",
      "300\n",
      "Compiling ContextCpu kernels...\n",
      "Done compiling ContextCpu kernels.\n",
      "Compiling ContextCpu kernels...\n",
      "Done compiling ContextCpu kernels.\n",
      "Tracking...\n",
      "Compiling ContextCpu kernels...\n"
     ]
    },
    {
     "name": "stderr",
     "output_type": "stream",
     "text": [
      "ld: warning: dylib (/Users/arizakhtar/miniforge3/lib/libomp.dylib) was built for newer macOS version (11.1) than being linked (11.0)\n"
     ]
    },
    {
     "name": "stdout",
     "output_type": "stream",
     "text": [
      "Done compiling ContextCpu kernels.\n",
      "Compiling ContextCpu kernels...\n"
     ]
    },
    {
     "name": "stderr",
     "output_type": "stream",
     "text": [
      "ld: warning: dylib (/Users/arizakhtar/miniforge3/lib/libomp.dylib) was built for newer macOS version (11.1) than being linked (11.0)\n"
     ]
    },
    {
     "name": "stdout",
     "output_type": "stream",
     "text": [
      "Done compiling ContextCpu kernels.\n",
      "lumigrid_my_beam size: (500, 500)\n",
      "exchange_buffer size: (250017,)\n",
      "lumigrid_my_beam size: (500, 500)\n",
      "exchange_buffer size: (250017,)\n",
      "lumigrid_my_beam size: (500, 500)\n",
      "exchange_buffer size: (250017,)\n",
      "lumigrid_my_beam size: (500, 500)\n",
      "exchange_buffer size: (250017,)\n",
      "lumigrid_my_beam size: (500, 500)\n",
      "exchange_buffer size: (250017,)\n",
      "lumigrid_my_beam size: (500, 500)\n",
      "exchange_buffer size: (250017,)\n",
      "Done with tracking. 0.6445202827453613 [s/turn]\n",
      "Gaussian Luminosity with beam-beam: [7.96464953e+38 9.21897672e+34 9.64556803e+34]\n",
      "Numerical Integrator Luminosity with beam-beam: [3.80566829e+38 1.70174418e+34 1.59585918e+35]\n",
      "4.019825451508025e+20\n",
      "analytical: 3.763750839060321e+37\n",
      "Compiling ContextCpu kernels...\n",
      "Done compiling ContextCpu kernels.\n",
      "build bb elements...\n",
      "300\n",
      "Compiling ContextCpu kernels...\n",
      "Done compiling ContextCpu kernels.\n",
      "Compiling ContextCpu kernels...\n",
      "Done compiling ContextCpu kernels.\n",
      "Tracking...\n",
      "Compiling ContextCpu kernels...\n"
     ]
    },
    {
     "name": "stderr",
     "output_type": "stream",
     "text": [
      "ld: warning: dylib (/Users/arizakhtar/miniforge3/lib/libomp.dylib) was built for newer macOS version (11.1) than being linked (11.0)\n"
     ]
    },
    {
     "name": "stdout",
     "output_type": "stream",
     "text": [
      "Done compiling ContextCpu kernels.\n",
      "Compiling ContextCpu kernels...\n"
     ]
    },
    {
     "name": "stderr",
     "output_type": "stream",
     "text": [
      "ld: warning: dylib (/Users/arizakhtar/miniforge3/lib/libomp.dylib) was built for newer macOS version (11.1) than being linked (11.0)\n"
     ]
    },
    {
     "name": "stdout",
     "output_type": "stream",
     "text": [
      "Done compiling ContextCpu kernels.\n",
      "lumigrid_my_beam size: (800, 800)\n",
      "exchange_buffer size: (640017,)\n",
      "lumigrid_my_beam size: (800, 800)\n",
      "exchange_buffer size: (640017,)\n",
      "lumigrid_my_beam size: (800, 800)\n",
      "exchange_buffer size: (640017,)\n",
      "lumigrid_my_beam size: (800, 800)\n",
      "exchange_buffer size: (640017,)\n",
      "lumigrid_my_beam size: (800, 800)\n",
      "exchange_buffer size: (640017,)\n",
      "lumigrid_my_beam size: (800, 800)\n",
      "exchange_buffer size: (640017,)\n",
      "Done with tracking. 1.0995836973190307 [s/turn]\n",
      "Gaussian Luminosity with beam-beam: [8.19982754e+38 9.75969824e+34 1.01716036e+35]\n",
      "Numerical Integrator Luminosity with beam-beam: [3.28242863e+38 2.17520802e+34 2.16163549e+35]\n",
      "1.0053594924035705e+21\n",
      "analytical: 3.763750839060321e+37\n",
      "Compiling ContextCpu kernels...\n",
      "Done compiling ContextCpu kernels.\n",
      "build bb elements...\n",
      "300\n",
      "Compiling ContextCpu kernels...\n",
      "Done compiling ContextCpu kernels.\n",
      "Compiling ContextCpu kernels...\n",
      "Done compiling ContextCpu kernels.\n",
      "Tracking...\n",
      "Compiling ContextCpu kernels...\n"
     ]
    },
    {
     "name": "stderr",
     "output_type": "stream",
     "text": [
      "ld: warning: dylib (/Users/arizakhtar/miniforge3/lib/libomp.dylib) was built for newer macOS version (11.1) than being linked (11.0)\n"
     ]
    },
    {
     "name": "stdout",
     "output_type": "stream",
     "text": [
      "Done compiling ContextCpu kernels.\n",
      "Compiling ContextCpu kernels...\n"
     ]
    },
    {
     "name": "stderr",
     "output_type": "stream",
     "text": [
      "ld: warning: dylib (/Users/arizakhtar/miniforge3/lib/libomp.dylib) was built for newer macOS version (11.1) than being linked (11.0)\n"
     ]
    },
    {
     "name": "stdout",
     "output_type": "stream",
     "text": [
      "Done compiling ContextCpu kernels.\n",
      "lumigrid_my_beam size: (1000, 1000)\n",
      "exchange_buffer size: (1000017,)\n",
      "lumigrid_my_beam size: (1000, 1000)\n",
      "exchange_buffer size: (1000017,)\n",
      "lumigrid_my_beam size: (1000, 1000)\n",
      "exchange_buffer size: (1000017,)\n",
      "lumigrid_my_beam size: (1000, 1000)\n",
      "exchange_buffer size: (1000017,)\n",
      "lumigrid_my_beam size: (1000, 1000)\n",
      "exchange_buffer size: (1000017,)\n",
      "lumigrid_my_beam size: (1000, 1000)\n",
      "exchange_buffer size: (1000017,)\n",
      "Done with tracking. 1.5066053867340088 [s/turn]\n",
      "Gaussian Luminosity with beam-beam: [8.69602723e+38 8.85207995e+34 9.19132919e+34]\n",
      "Numerical Integrator Luminosity with beam-beam: [3.90128802e+38 9.42424451e+33 1.27676271e+35]\n",
      "1.6548893635009323e+21\n",
      "analytical: 3.763750839060321e+37\n",
      "Compiling ContextCpu kernels...\n",
      "Done compiling ContextCpu kernels.\n",
      "build bb elements...\n",
      "300\n",
      "Compiling ContextCpu kernels...\n",
      "Done compiling ContextCpu kernels.\n",
      "Compiling ContextCpu kernels...\n",
      "Done compiling ContextCpu kernels.\n",
      "Tracking...\n",
      "Compiling ContextCpu kernels...\n"
     ]
    },
    {
     "name": "stderr",
     "output_type": "stream",
     "text": [
      "ld: warning: dylib (/Users/arizakhtar/miniforge3/lib/libomp.dylib) was built for newer macOS version (11.1) than being linked (11.0)\n"
     ]
    },
    {
     "name": "stdout",
     "output_type": "stream",
     "text": [
      "Done compiling ContextCpu kernels.\n",
      "Compiling ContextCpu kernels...\n"
     ]
    },
    {
     "name": "stderr",
     "output_type": "stream",
     "text": [
      "ld: warning: dylib (/Users/arizakhtar/miniforge3/lib/libomp.dylib) was built for newer macOS version (11.1) than being linked (11.0)\n"
     ]
    },
    {
     "name": "stdout",
     "output_type": "stream",
     "text": [
      "Done compiling ContextCpu kernels.\n",
      "lumigrid_my_beam size: (1500, 1500)\n",
      "exchange_buffer size: (2250017,)\n",
      "lumigrid_my_beam size: (1500, 1500)\n",
      "exchange_buffer size: (2250017,)\n",
      "lumigrid_my_beam size: (1500, 1500)\n",
      "exchange_buffer size: (2250017,)\n",
      "lumigrid_my_beam size: (1500, 1500)\n",
      "exchange_buffer size: (2250017,)\n",
      "lumigrid_my_beam size: (1500, 1500)\n",
      "exchange_buffer size: (2250017,)\n",
      "lumigrid_my_beam size: (1500, 1500)\n",
      "exchange_buffer size: (2250017,)\n",
      "Done with tracking. 3.0238335132598877 [s/turn]\n",
      "Gaussian Luminosity with beam-beam: [7.96908614e+38 1.04875327e+35 1.08022562e+35]\n",
      "Numerical Integrator Luminosity with beam-beam: [3.06301863e+38 1.83963963e+34 2.21705788e+35]\n",
      "3.6237567509380643e+21\n",
      "analytical: 3.763750839060321e+37\n",
      "Compiling ContextCpu kernels...\n",
      "Done compiling ContextCpu kernels.\n",
      "build bb elements...\n",
      "500\n",
      "Compiling ContextCpu kernels...\n",
      "Done compiling ContextCpu kernels.\n",
      "Compiling ContextCpu kernels...\n",
      "Done compiling ContextCpu kernels.\n",
      "Tracking...\n",
      "Compiling ContextCpu kernels...\n"
     ]
    },
    {
     "name": "stderr",
     "output_type": "stream",
     "text": [
      "ld: warning: dylib (/Users/arizakhtar/miniforge3/lib/libomp.dylib) was built for newer macOS version (11.1) than being linked (11.0)\n"
     ]
    },
    {
     "name": "stdout",
     "output_type": "stream",
     "text": [
      "Done compiling ContextCpu kernels.\n",
      "Compiling ContextCpu kernels...\n"
     ]
    },
    {
     "name": "stderr",
     "output_type": "stream",
     "text": [
      "ld: warning: dylib (/Users/arizakhtar/miniforge3/lib/libomp.dylib) was built for newer macOS version (11.1) than being linked (11.0)\n"
     ]
    },
    {
     "name": "stdout",
     "output_type": "stream",
     "text": [
      "Done compiling ContextCpu kernels.\n",
      "lumigrid_my_beam size: (10, 10)\n",
      "exchange_buffer size: (117,)\n",
      "lumigrid_my_beam size: (10, 10)\n",
      "exchange_buffer size: (117,)\n",
      "lumigrid_my_beam size: (10, 10)\n",
      "exchange_buffer size: (117,)\n",
      "lumigrid_my_beam size: (10, 10)\n",
      "exchange_buffer size: (117,)\n",
      "lumigrid_my_beam size: (10, 10)\n",
      "exchange_buffer size: (117,)\n",
      "lumigrid_my_beam size: (10, 10)\n",
      "exchange_buffer size: (117,)\n",
      "Done with tracking. 0.5593572854995728 [s/turn]\n",
      "Gaussian Luminosity with beam-beam: [8.38209537e+38 1.05130095e+35 1.09121471e+35]\n",
      "Numerical Integrator Luminosity with beam-beam: [1.58706775e+38 2.81237984e+33 2.06928149e+34]\n",
      "2.169481428945417e+17\n",
      "analytical: 3.763750839060321e+37\n",
      "Compiling ContextCpu kernels...\n",
      "Done compiling ContextCpu kernels.\n",
      "build bb elements...\n",
      "500\n",
      "Compiling ContextCpu kernels...\n",
      "Done compiling ContextCpu kernels.\n",
      "Compiling ContextCpu kernels...\n",
      "Done compiling ContextCpu kernels.\n",
      "Tracking...\n",
      "Compiling ContextCpu kernels...\n"
     ]
    },
    {
     "name": "stderr",
     "output_type": "stream",
     "text": [
      "ld: warning: dylib (/Users/arizakhtar/miniforge3/lib/libomp.dylib) was built for newer macOS version (11.1) than being linked (11.0)\n"
     ]
    },
    {
     "name": "stdout",
     "output_type": "stream",
     "text": [
      "Done compiling ContextCpu kernels.\n",
      "Compiling ContextCpu kernels...\n"
     ]
    },
    {
     "name": "stderr",
     "output_type": "stream",
     "text": [
      "ld: warning: dylib (/Users/arizakhtar/miniforge3/lib/libomp.dylib) was built for newer macOS version (11.1) than being linked (11.0)\n"
     ]
    },
    {
     "name": "stdout",
     "output_type": "stream",
     "text": [
      "Done compiling ContextCpu kernels.\n",
      "lumigrid_my_beam size: (20, 20)\n",
      "exchange_buffer size: (417,)\n",
      "lumigrid_my_beam size: (20, 20)\n",
      "exchange_buffer size: (417,)\n",
      "lumigrid_my_beam size: (20, 20)\n",
      "exchange_buffer size: (417,)\n",
      "lumigrid_my_beam size: (20, 20)\n",
      "exchange_buffer size: (417,)\n",
      "lumigrid_my_beam size: (20, 20)\n",
      "exchange_buffer size: (417,)\n",
      "lumigrid_my_beam size: (20, 20)\n",
      "exchange_buffer size: (417,)\n",
      "Done with tracking. 0.4290867805480957 [s/turn]\n",
      "Gaussian Luminosity with beam-beam: [7.94091054e+38 1.02615809e+35 1.05856699e+35]\n",
      "Numerical Integrator Luminosity with beam-beam: [3.32481972e+38 5.01284922e+33 4.18021402e+34]\n",
      "9.997305753777795e+17\n",
      "analytical: 3.763750839060321e+37\n",
      "Compiling ContextCpu kernels...\n",
      "Done compiling ContextCpu kernels.\n",
      "build bb elements...\n",
      "500\n",
      "Compiling ContextCpu kernels...\n",
      "Done compiling ContextCpu kernels.\n",
      "Compiling ContextCpu kernels...\n",
      "Done compiling ContextCpu kernels.\n",
      "Tracking...\n",
      "Compiling ContextCpu kernels...\n"
     ]
    },
    {
     "name": "stderr",
     "output_type": "stream",
     "text": [
      "ld: warning: dylib (/Users/arizakhtar/miniforge3/lib/libomp.dylib) was built for newer macOS version (11.1) than being linked (11.0)\n"
     ]
    },
    {
     "name": "stdout",
     "output_type": "stream",
     "text": [
      "Done compiling ContextCpu kernels.\n",
      "Compiling ContextCpu kernels...\n"
     ]
    },
    {
     "name": "stderr",
     "output_type": "stream",
     "text": [
      "ld: warning: dylib (/Users/arizakhtar/miniforge3/lib/libomp.dylib) was built for newer macOS version (11.1) than being linked (11.0)\n"
     ]
    },
    {
     "name": "stdout",
     "output_type": "stream",
     "text": [
      "Done compiling ContextCpu kernels.\n",
      "lumigrid_my_beam size: (50, 50)\n",
      "exchange_buffer size: (2517,)\n",
      "lumigrid_my_beam size: (50, 50)\n",
      "exchange_buffer size: (2517,)\n",
      "lumigrid_my_beam size: (50, 50)\n",
      "exchange_buffer size: (2517,)\n",
      "lumigrid_my_beam size: (50, 50)\n",
      "exchange_buffer size: (2517,)\n",
      "lumigrid_my_beam size: (50, 50)\n",
      "exchange_buffer size: (2517,)\n",
      "lumigrid_my_beam size: (50, 50)\n",
      "exchange_buffer size: (2517,)\n",
      "Done with tracking. 0.4388416767120361 [s/turn]\n",
      "Gaussian Luminosity with beam-beam: [8.14489013e+38 9.91413351e+34 1.02890527e+35]\n",
      "Numerical Integrator Luminosity with beam-beam: [4.09693430e+38 8.54546323e+33 8.36359820e+34]\n",
      "6.54336315450539e+18\n",
      "analytical: 3.763750839060321e+37\n",
      "Compiling ContextCpu kernels...\n",
      "Done compiling ContextCpu kernels.\n",
      "build bb elements...\n",
      "500\n",
      "Compiling ContextCpu kernels...\n",
      "Done compiling ContextCpu kernels.\n",
      "Compiling ContextCpu kernels...\n",
      "Done compiling ContextCpu kernels.\n",
      "Tracking...\n",
      "Compiling ContextCpu kernels...\n"
     ]
    },
    {
     "name": "stderr",
     "output_type": "stream",
     "text": [
      "ld: warning: dylib (/Users/arizakhtar/miniforge3/lib/libomp.dylib) was built for newer macOS version (11.1) than being linked (11.0)\n"
     ]
    },
    {
     "name": "stdout",
     "output_type": "stream",
     "text": [
      "Done compiling ContextCpu kernels.\n",
      "Compiling ContextCpu kernels...\n"
     ]
    },
    {
     "name": "stderr",
     "output_type": "stream",
     "text": [
      "ld: warning: dylib (/Users/arizakhtar/miniforge3/lib/libomp.dylib) was built for newer macOS version (11.1) than being linked (11.0)\n"
     ]
    },
    {
     "name": "stdout",
     "output_type": "stream",
     "text": [
      "Done compiling ContextCpu kernels.\n",
      "lumigrid_my_beam size: (100, 100)\n",
      "exchange_buffer size: (10017,)\n",
      "lumigrid_my_beam size: (100, 100)\n",
      "exchange_buffer size: (10017,)\n",
      "lumigrid_my_beam size: (100, 100)\n",
      "exchange_buffer size: (10017,)\n",
      "lumigrid_my_beam size: (100, 100)\n",
      "exchange_buffer size: (10017,)\n",
      "lumigrid_my_beam size: (100, 100)\n",
      "exchange_buffer size: (10017,)\n",
      "lumigrid_my_beam size: (100, 100)\n",
      "exchange_buffer size: (10017,)\n",
      "Done with tracking. 0.4436832904815674 [s/turn]\n",
      "Gaussian Luminosity with beam-beam: [8.57486952e+38 9.64082171e+34 9.98006569e+34]\n",
      "Numerical Integrator Luminosity with beam-beam: [4.06869870e+38 1.06936966e+34 1.19096378e+35]\n",
      "2.8647239775485297e+19\n",
      "analytical: 3.763750839060321e+37\n",
      "Compiling ContextCpu kernels...\n",
      "Done compiling ContextCpu kernels.\n",
      "build bb elements...\n",
      "500\n",
      "Compiling ContextCpu kernels...\n",
      "Done compiling ContextCpu kernels.\n",
      "Compiling ContextCpu kernels...\n",
      "Done compiling ContextCpu kernels.\n",
      "Tracking...\n",
      "Compiling ContextCpu kernels...\n"
     ]
    },
    {
     "name": "stderr",
     "output_type": "stream",
     "text": [
      "ld: warning: dylib (/Users/arizakhtar/miniforge3/lib/libomp.dylib) was built for newer macOS version (11.1) than being linked (11.0)\n"
     ]
    },
    {
     "name": "stdout",
     "output_type": "stream",
     "text": [
      "Done compiling ContextCpu kernels.\n",
      "Compiling ContextCpu kernels...\n"
     ]
    },
    {
     "name": "stderr",
     "output_type": "stream",
     "text": [
      "ld: warning: dylib (/Users/arizakhtar/miniforge3/lib/libomp.dylib) was built for newer macOS version (11.1) than being linked (11.0)\n"
     ]
    },
    {
     "name": "stdout",
     "output_type": "stream",
     "text": [
      "Done compiling ContextCpu kernels.\n",
      "lumigrid_my_beam size: (200, 200)\n",
      "exchange_buffer size: (40017,)\n",
      "lumigrid_my_beam size: (200, 200)\n",
      "exchange_buffer size: (40017,)\n",
      "lumigrid_my_beam size: (200, 200)\n",
      "exchange_buffer size: (40017,)\n",
      "lumigrid_my_beam size: (200, 200)\n",
      "exchange_buffer size: (40017,)\n",
      "lumigrid_my_beam size: (200, 200)\n",
      "exchange_buffer size: (40017,)\n",
      "lumigrid_my_beam size: (200, 200)\n",
      "exchange_buffer size: (40017,)\n",
      "Done with tracking. 0.46102471351623536 [s/turn]\n",
      "Gaussian Luminosity with beam-beam: [8.29186950e+38 9.07732309e+34 9.41324233e+34]\n",
      "Numerical Integrator Luminosity with beam-beam: [4.38235157e+38 1.10976116e+34 1.27493337e+35]\n",
      "1.1862368418076844e+20\n",
      "analytical: 3.763750839060321e+37\n",
      "Compiling ContextCpu kernels...\n",
      "Done compiling ContextCpu kernels.\n",
      "build bb elements...\n",
      "500\n",
      "Compiling ContextCpu kernels...\n",
      "Done compiling ContextCpu kernels.\n",
      "Compiling ContextCpu kernels...\n",
      "Done compiling ContextCpu kernels.\n",
      "Tracking...\n",
      "Compiling ContextCpu kernels...\n"
     ]
    },
    {
     "name": "stderr",
     "output_type": "stream",
     "text": [
      "ld: warning: dylib (/Users/arizakhtar/miniforge3/lib/libomp.dylib) was built for newer macOS version (11.1) than being linked (11.0)\n"
     ]
    },
    {
     "name": "stdout",
     "output_type": "stream",
     "text": [
      "Done compiling ContextCpu kernels.\n",
      "Compiling ContextCpu kernels...\n"
     ]
    },
    {
     "name": "stderr",
     "output_type": "stream",
     "text": [
      "ld: warning: dylib (/Users/arizakhtar/miniforge3/lib/libomp.dylib) was built for newer macOS version (11.1) than being linked (11.0)\n"
     ]
    },
    {
     "name": "stdout",
     "output_type": "stream",
     "text": [
      "Done compiling ContextCpu kernels.\n",
      "lumigrid_my_beam size: (300, 300)\n",
      "exchange_buffer size: (90017,)\n",
      "lumigrid_my_beam size: (300, 300)\n",
      "exchange_buffer size: (90017,)\n",
      "lumigrid_my_beam size: (300, 300)\n",
      "exchange_buffer size: (90017,)\n",
      "lumigrid_my_beam size: (300, 300)\n",
      "exchange_buffer size: (90017,)\n",
      "lumigrid_my_beam size: (300, 300)\n",
      "exchange_buffer size: (90017,)\n",
      "lumigrid_my_beam size: (300, 300)\n",
      "exchange_buffer size: (90017,)\n",
      "Done with tracking. 0.5043406009674072 [s/turn]\n",
      "Gaussian Luminosity with beam-beam: [8.10318952e+38 9.61737264e+34 9.98681479e+34]\n",
      "Numerical Integrator Luminosity with beam-beam: [3.80203900e+38 1.52229459e+34 1.85805838e+35]\n",
      "2.4232458878849306e+20\n",
      "analytical: 3.763750839060321e+37\n",
      "Compiling ContextCpu kernels...\n",
      "Done compiling ContextCpu kernels.\n",
      "build bb elements...\n",
      "500\n",
      "Compiling ContextCpu kernels...\n",
      "Done compiling ContextCpu kernels.\n",
      "Compiling ContextCpu kernels...\n",
      "Done compiling ContextCpu kernels.\n",
      "Tracking...\n",
      "Compiling ContextCpu kernels...\n"
     ]
    },
    {
     "name": "stderr",
     "output_type": "stream",
     "text": [
      "ld: warning: dylib (/Users/arizakhtar/miniforge3/lib/libomp.dylib) was built for newer macOS version (11.1) than being linked (11.0)\n"
     ]
    },
    {
     "name": "stdout",
     "output_type": "stream",
     "text": [
      "Done compiling ContextCpu kernels.\n",
      "Compiling ContextCpu kernels...\n"
     ]
    },
    {
     "name": "stderr",
     "output_type": "stream",
     "text": [
      "ld: warning: dylib (/Users/arizakhtar/miniforge3/lib/libomp.dylib) was built for newer macOS version (11.1) than being linked (11.0)\n"
     ]
    },
    {
     "name": "stdout",
     "output_type": "stream",
     "text": [
      "Done compiling ContextCpu kernels.\n",
      "lumigrid_my_beam size: (500, 500)\n",
      "exchange_buffer size: (250017,)\n",
      "lumigrid_my_beam size: (500, 500)\n",
      "exchange_buffer size: (250017,)\n",
      "lumigrid_my_beam size: (500, 500)\n",
      "exchange_buffer size: (250017,)\n",
      "lumigrid_my_beam size: (500, 500)\n",
      "exchange_buffer size: (250017,)\n",
      "lumigrid_my_beam size: (500, 500)\n",
      "exchange_buffer size: (250017,)\n",
      "lumigrid_my_beam size: (500, 500)\n",
      "exchange_buffer size: (250017,)\n",
      "Done with tracking. 0.6438706874847412 [s/turn]\n",
      "Gaussian Luminosity with beam-beam: [8.45361390e+38 9.84332777e+34 1.01596227e+35]\n",
      "Numerical Integrator Luminosity with beam-beam: [3.75283164e+38 1.49323008e+34 1.70951633e+35]\n",
      "7.060468323338673e+20\n",
      "analytical: 3.763750839060321e+37\n",
      "Compiling ContextCpu kernels...\n",
      "Done compiling ContextCpu kernels.\n",
      "build bb elements...\n",
      "500\n",
      "Compiling ContextCpu kernels...\n",
      "Done compiling ContextCpu kernels.\n",
      "Compiling ContextCpu kernels...\n",
      "Done compiling ContextCpu kernels.\n",
      "Tracking...\n",
      "Compiling ContextCpu kernels...\n"
     ]
    },
    {
     "name": "stderr",
     "output_type": "stream",
     "text": [
      "ld: warning: dylib (/Users/arizakhtar/miniforge3/lib/libomp.dylib) was built for newer macOS version (11.1) than being linked (11.0)\n"
     ]
    },
    {
     "name": "stdout",
     "output_type": "stream",
     "text": [
      "Done compiling ContextCpu kernels.\n",
      "Compiling ContextCpu kernels...\n"
     ]
    },
    {
     "name": "stderr",
     "output_type": "stream",
     "text": [
      "ld: warning: dylib (/Users/arizakhtar/miniforge3/lib/libomp.dylib) was built for newer macOS version (11.1) than being linked (11.0)\n"
     ]
    },
    {
     "name": "stdout",
     "output_type": "stream",
     "text": [
      "Done compiling ContextCpu kernels.\n",
      "lumigrid_my_beam size: (800, 800)\n",
      "exchange_buffer size: (640017,)\n",
      "lumigrid_my_beam size: (800, 800)\n",
      "exchange_buffer size: (640017,)\n",
      "lumigrid_my_beam size: (800, 800)\n",
      "exchange_buffer size: (640017,)\n",
      "lumigrid_my_beam size: (800, 800)\n",
      "exchange_buffer size: (640017,)\n",
      "lumigrid_my_beam size: (800, 800)\n",
      "exchange_buffer size: (640017,)\n",
      "lumigrid_my_beam size: (800, 800)\n",
      "exchange_buffer size: (640017,)\n",
      "Done with tracking. 1.0673776865005493 [s/turn]\n",
      "Gaussian Luminosity with beam-beam: [8.33281085e+38 9.55667130e+34 9.94906530e+34]\n",
      "Numerical Integrator Luminosity with beam-beam: [4.00052945e+38 1.33905539e+34 1.64648097e+35]\n",
      "1.6625242385305827e+21\n",
      "analytical: 3.763750839060321e+37\n",
      "Compiling ContextCpu kernels...\n",
      "Done compiling ContextCpu kernels.\n",
      "build bb elements...\n",
      "500\n",
      "Compiling ContextCpu kernels...\n",
      "Done compiling ContextCpu kernels.\n",
      "Compiling ContextCpu kernels...\n",
      "Done compiling ContextCpu kernels.\n",
      "Tracking...\n",
      "Compiling ContextCpu kernels...\n"
     ]
    },
    {
     "name": "stderr",
     "output_type": "stream",
     "text": [
      "ld: warning: dylib (/Users/arizakhtar/miniforge3/lib/libomp.dylib) was built for newer macOS version (11.1) than being linked (11.0)\n"
     ]
    },
    {
     "name": "stdout",
     "output_type": "stream",
     "text": [
      "Done compiling ContextCpu kernels.\n",
      "Compiling ContextCpu kernels...\n"
     ]
    },
    {
     "name": "stderr",
     "output_type": "stream",
     "text": [
      "ld: warning: dylib (/Users/arizakhtar/miniforge3/lib/libomp.dylib) was built for newer macOS version (11.1) than being linked (11.0)\n"
     ]
    },
    {
     "name": "stdout",
     "output_type": "stream",
     "text": [
      "Done compiling ContextCpu kernels.\n",
      "lumigrid_my_beam size: (1000, 1000)\n",
      "exchange_buffer size: (1000017,)\n",
      "lumigrid_my_beam size: (1000, 1000)\n",
      "exchange_buffer size: (1000017,)\n",
      "lumigrid_my_beam size: (1000, 1000)\n",
      "exchange_buffer size: (1000017,)\n",
      "lumigrid_my_beam size: (1000, 1000)\n",
      "exchange_buffer size: (1000017,)\n",
      "lumigrid_my_beam size: (1000, 1000)\n",
      "exchange_buffer size: (1000017,)\n",
      "lumigrid_my_beam size: (1000, 1000)\n",
      "exchange_buffer size: (1000017,)\n",
      "Done with tracking. 1.4883250951766969 [s/turn]\n",
      "Gaussian Luminosity with beam-beam: [8.57524752e+38 9.72565230e+34 1.00890417e+35]\n",
      "Numerical Integrator Luminosity with beam-beam: [3.87423319e+38 1.18126878e+34 1.94340840e+35]\n",
      "2.938560227826722e+21\n",
      "analytical: 3.763750839060321e+37\n",
      "Compiling ContextCpu kernels...\n",
      "Done compiling ContextCpu kernels.\n",
      "build bb elements...\n",
      "500\n",
      "Compiling ContextCpu kernels...\n",
      "Done compiling ContextCpu kernels.\n",
      "Compiling ContextCpu kernels...\n",
      "Done compiling ContextCpu kernels.\n",
      "Tracking...\n",
      "Compiling ContextCpu kernels...\n"
     ]
    },
    {
     "name": "stderr",
     "output_type": "stream",
     "text": [
      "ld: warning: dylib (/Users/arizakhtar/miniforge3/lib/libomp.dylib) was built for newer macOS version (11.1) than being linked (11.0)\n"
     ]
    },
    {
     "name": "stdout",
     "output_type": "stream",
     "text": [
      "Done compiling ContextCpu kernels.\n",
      "Compiling ContextCpu kernels...\n"
     ]
    },
    {
     "name": "stderr",
     "output_type": "stream",
     "text": [
      "ld: warning: dylib (/Users/arizakhtar/miniforge3/lib/libomp.dylib) was built for newer macOS version (11.1) than being linked (11.0)\n"
     ]
    },
    {
     "name": "stdout",
     "output_type": "stream",
     "text": [
      "Done compiling ContextCpu kernels.\n",
      "lumigrid_my_beam size: (1500, 1500)\n",
      "exchange_buffer size: (2250017,)\n",
      "lumigrid_my_beam size: (1500, 1500)\n",
      "exchange_buffer size: (2250017,)\n",
      "lumigrid_my_beam size: (1500, 1500)\n",
      "exchange_buffer size: (2250017,)\n",
      "lumigrid_my_beam size: (1500, 1500)\n",
      "exchange_buffer size: (2250017,)\n",
      "lumigrid_my_beam size: (1500, 1500)\n",
      "exchange_buffer size: (2250017,)\n",
      "lumigrid_my_beam size: (1500, 1500)\n",
      "exchange_buffer size: (2250017,)\n",
      "Done with tracking. 3.1259371995925904 [s/turn]\n",
      "Gaussian Luminosity with beam-beam: [8.69440901e+38 8.83436792e+34 9.15092919e+34]\n",
      "Numerical Integrator Luminosity with beam-beam: [5.21030009e+38 1.17130052e+34 9.58987013e+34]\n",
      "6.577786708677435e+21\n",
      "analytical: 3.763750839060321e+37\n",
      "Compiling ContextCpu kernels...\n",
      "Done compiling ContextCpu kernels.\n",
      "build bb elements...\n",
      "800\n",
      "Compiling ContextCpu kernels...\n",
      "Done compiling ContextCpu kernels.\n",
      "Compiling ContextCpu kernels...\n",
      "Done compiling ContextCpu kernels.\n",
      "Tracking...\n",
      "Compiling ContextCpu kernels...\n"
     ]
    },
    {
     "name": "stderr",
     "output_type": "stream",
     "text": [
      "ld: warning: dylib (/Users/arizakhtar/miniforge3/lib/libomp.dylib) was built for newer macOS version (11.1) than being linked (11.0)\n"
     ]
    },
    {
     "name": "stdout",
     "output_type": "stream",
     "text": [
      "Done compiling ContextCpu kernels.\n",
      "Compiling ContextCpu kernels...\n"
     ]
    },
    {
     "name": "stderr",
     "output_type": "stream",
     "text": [
      "ld: warning: dylib (/Users/arizakhtar/miniforge3/lib/libomp.dylib) was built for newer macOS version (11.1) than being linked (11.0)\n"
     ]
    },
    {
     "name": "stdout",
     "output_type": "stream",
     "text": [
      "Done compiling ContextCpu kernels.\n",
      "lumigrid_my_beam size: (10, 10)\n",
      "exchange_buffer size: (117,)\n",
      "lumigrid_my_beam size: (10, 10)\n",
      "exchange_buffer size: (117,)\n",
      "lumigrid_my_beam size: (10, 10)\n",
      "exchange_buffer size: (117,)\n",
      "lumigrid_my_beam size: (10, 10)\n",
      "exchange_buffer size: (117,)\n",
      "lumigrid_my_beam size: (10, 10)\n",
      "exchange_buffer size: (117,)\n",
      "lumigrid_my_beam size: (10, 10)\n",
      "exchange_buffer size: (117,)\n",
      "Done with tracking. 0.4322059154510498 [s/turn]\n",
      "Gaussian Luminosity with beam-beam: [8.52266330e+38 9.79030133e+34 1.01437040e+35]\n",
      "Numerical Integrator Luminosity with beam-beam: [1.65339323e+38 2.84754143e+33 2.10920872e+34]\n",
      "3.603059326005463e+17\n",
      "analytical: 3.763750839060321e+37\n",
      "Compiling ContextCpu kernels...\n",
      "Done compiling ContextCpu kernels.\n",
      "build bb elements...\n",
      "800\n",
      "Compiling ContextCpu kernels...\n",
      "Done compiling ContextCpu kernels.\n",
      "Compiling ContextCpu kernels...\n",
      "Done compiling ContextCpu kernels.\n",
      "Tracking...\n",
      "Compiling ContextCpu kernels...\n"
     ]
    },
    {
     "name": "stderr",
     "output_type": "stream",
     "text": [
      "ld: warning: dylib (/Users/arizakhtar/miniforge3/lib/libomp.dylib) was built for newer macOS version (11.1) than being linked (11.0)\n"
     ]
    },
    {
     "name": "stdout",
     "output_type": "stream",
     "text": [
      "Done compiling ContextCpu kernels.\n",
      "Compiling ContextCpu kernels...\n"
     ]
    },
    {
     "name": "stderr",
     "output_type": "stream",
     "text": [
      "ld: warning: dylib (/Users/arizakhtar/miniforge3/lib/libomp.dylib) was built for newer macOS version (11.1) than being linked (11.0)\n"
     ]
    },
    {
     "name": "stdout",
     "output_type": "stream",
     "text": [
      "Done compiling ContextCpu kernels.\n",
      "lumigrid_my_beam size: (20, 20)\n",
      "exchange_buffer size: (417,)\n",
      "lumigrid_my_beam size: (20, 20)\n",
      "exchange_buffer size: (417,)\n",
      "lumigrid_my_beam size: (20, 20)\n",
      "exchange_buffer size: (417,)\n",
      "lumigrid_my_beam size: (20, 20)\n",
      "exchange_buffer size: (417,)\n",
      "lumigrid_my_beam size: (20, 20)\n",
      "exchange_buffer size: (417,)\n",
      "lumigrid_my_beam size: (20, 20)\n",
      "exchange_buffer size: (417,)\n",
      "Done with tracking. 0.432079815864563 [s/turn]\n",
      "Gaussian Luminosity with beam-beam: [8.28370947e+38 1.04501687e+35 1.08018149e+35]\n",
      "Numerical Integrator Luminosity with beam-beam: [3.26885412e+38 4.73369971e+33 3.98811657e+34]\n",
      "1.5600796068534226e+18\n",
      "analytical: 3.763750839060321e+37\n",
      "Compiling ContextCpu kernels...\n",
      "Done compiling ContextCpu kernels.\n",
      "build bb elements...\n",
      "800\n",
      "Compiling ContextCpu kernels...\n",
      "Done compiling ContextCpu kernels.\n",
      "Compiling ContextCpu kernels...\n",
      "Done compiling ContextCpu kernels.\n",
      "Tracking...\n",
      "Compiling ContextCpu kernels...\n"
     ]
    },
    {
     "name": "stderr",
     "output_type": "stream",
     "text": [
      "ld: warning: dylib (/Users/arizakhtar/miniforge3/lib/libomp.dylib) was built for newer macOS version (11.1) than being linked (11.0)\n"
     ]
    },
    {
     "name": "stdout",
     "output_type": "stream",
     "text": [
      "Done compiling ContextCpu kernels.\n",
      "Compiling ContextCpu kernels...\n"
     ]
    },
    {
     "name": "stderr",
     "output_type": "stream",
     "text": [
      "ld: warning: dylib (/Users/arizakhtar/miniforge3/lib/libomp.dylib) was built for newer macOS version (11.1) than being linked (11.0)\n"
     ]
    },
    {
     "name": "stdout",
     "output_type": "stream",
     "text": [
      "Done compiling ContextCpu kernels.\n",
      "lumigrid_my_beam size: (50, 50)\n",
      "exchange_buffer size: (2517,)\n",
      "lumigrid_my_beam size: (50, 50)\n",
      "exchange_buffer size: (2517,)\n",
      "lumigrid_my_beam size: (50, 50)\n",
      "exchange_buffer size: (2517,)\n",
      "lumigrid_my_beam size: (50, 50)\n",
      "exchange_buffer size: (2517,)\n",
      "lumigrid_my_beam size: (50, 50)\n",
      "exchange_buffer size: (2517,)\n",
      "lumigrid_my_beam size: (50, 50)\n",
      "exchange_buffer size: (2517,)\n",
      "Done with tracking. 0.43496749401092527 [s/turn]\n",
      "Gaussian Luminosity with beam-beam: [8.01130969e+38 9.57907120e+34 9.93609846e+34]\n",
      "Numerical Integrator Luminosity with beam-beam: [3.84420014e+38 8.52682830e+33 8.13066743e+34]\n",
      "9.874198574923465e+18\n",
      "analytical: 3.763750839060321e+37\n",
      "Compiling ContextCpu kernels...\n",
      "Done compiling ContextCpu kernels.\n",
      "build bb elements...\n",
      "800\n",
      "Compiling ContextCpu kernels...\n",
      "Done compiling ContextCpu kernels.\n",
      "Compiling ContextCpu kernels...\n",
      "Done compiling ContextCpu kernels.\n",
      "Tracking...\n",
      "Compiling ContextCpu kernels...\n"
     ]
    },
    {
     "name": "stderr",
     "output_type": "stream",
     "text": [
      "ld: warning: dylib (/Users/arizakhtar/miniforge3/lib/libomp.dylib) was built for newer macOS version (11.1) than being linked (11.0)\n"
     ]
    },
    {
     "name": "stdout",
     "output_type": "stream",
     "text": [
      "Done compiling ContextCpu kernels.\n",
      "Compiling ContextCpu kernels...\n"
     ]
    },
    {
     "name": "stderr",
     "output_type": "stream",
     "text": [
      "ld: warning: dylib (/Users/arizakhtar/miniforge3/lib/libomp.dylib) was built for newer macOS version (11.1) than being linked (11.0)\n"
     ]
    },
    {
     "name": "stdout",
     "output_type": "stream",
     "text": [
      "Done compiling ContextCpu kernels.\n",
      "lumigrid_my_beam size: (100, 100)\n",
      "exchange_buffer size: (10017,)\n",
      "lumigrid_my_beam size: (100, 100)\n",
      "exchange_buffer size: (10017,)\n",
      "lumigrid_my_beam size: (100, 100)\n",
      "exchange_buffer size: (10017,)\n",
      "lumigrid_my_beam size: (100, 100)\n",
      "exchange_buffer size: (10017,)\n",
      "lumigrid_my_beam size: (100, 100)\n",
      "exchange_buffer size: (10017,)\n",
      "lumigrid_my_beam size: (100, 100)\n",
      "exchange_buffer size: (10017,)\n",
      "Done with tracking. 0.43983170986175535 [s/turn]\n",
      "Gaussian Luminosity with beam-beam: [8.34871949e+38 9.26902976e+34 9.62585903e+34]\n",
      "Numerical Integrator Luminosity with beam-beam: [4.12963104e+38 1.05074187e+34 1.18564831e+35]\n",
      "4.2910320332159795e+19\n",
      "analytical: 3.763750839060321e+37\n",
      "Compiling ContextCpu kernels...\n",
      "Done compiling ContextCpu kernels.\n",
      "build bb elements...\n",
      "800\n",
      "Compiling ContextCpu kernels...\n",
      "Done compiling ContextCpu kernels.\n",
      "Compiling ContextCpu kernels...\n",
      "Done compiling ContextCpu kernels.\n",
      "Tracking...\n",
      "Compiling ContextCpu kernels...\n"
     ]
    },
    {
     "name": "stderr",
     "output_type": "stream",
     "text": [
      "ld: warning: dylib (/Users/arizakhtar/miniforge3/lib/libomp.dylib) was built for newer macOS version (11.1) than being linked (11.0)\n"
     ]
    },
    {
     "name": "stdout",
     "output_type": "stream",
     "text": [
      "Done compiling ContextCpu kernels.\n",
      "Compiling ContextCpu kernels...\n"
     ]
    },
    {
     "name": "stderr",
     "output_type": "stream",
     "text": [
      "ld: warning: dylib (/Users/arizakhtar/miniforge3/lib/libomp.dylib) was built for newer macOS version (11.1) than being linked (11.0)\n"
     ]
    },
    {
     "name": "stdout",
     "output_type": "stream",
     "text": [
      "Done compiling ContextCpu kernels.\n",
      "lumigrid_my_beam size: (200, 200)\n",
      "exchange_buffer size: (40017,)\n",
      "lumigrid_my_beam size: (200, 200)\n",
      "exchange_buffer size: (40017,)\n",
      "lumigrid_my_beam size: (200, 200)\n",
      "exchange_buffer size: (40017,)\n",
      "lumigrid_my_beam size: (200, 200)\n",
      "exchange_buffer size: (40017,)\n",
      "lumigrid_my_beam size: (200, 200)\n",
      "exchange_buffer size: (40017,)\n",
      "lumigrid_my_beam size: (200, 200)\n",
      "exchange_buffer size: (40017,)\n",
      "Done with tracking. 0.46359710693359374 [s/turn]\n",
      "Gaussian Luminosity with beam-beam: [8.21659330e+38 9.58714173e+34 9.95005545e+34]\n",
      "Numerical Integrator Luminosity with beam-beam: [4.16794743e+38 1.34056818e+34 1.39309852e+35]\n",
      "1.7326033315110706e+20\n",
      "analytical: 3.763750839060321e+37\n",
      "Compiling ContextCpu kernels...\n",
      "Done compiling ContextCpu kernels.\n",
      "build bb elements...\n",
      "800\n",
      "Compiling ContextCpu kernels...\n",
      "Done compiling ContextCpu kernels.\n",
      "Compiling ContextCpu kernels...\n",
      "Done compiling ContextCpu kernels.\n",
      "Tracking...\n",
      "Compiling ContextCpu kernels...\n"
     ]
    },
    {
     "name": "stderr",
     "output_type": "stream",
     "text": [
      "ld: warning: dylib (/Users/arizakhtar/miniforge3/lib/libomp.dylib) was built for newer macOS version (11.1) than being linked (11.0)\n"
     ]
    },
    {
     "name": "stdout",
     "output_type": "stream",
     "text": [
      "Done compiling ContextCpu kernels.\n",
      "Compiling ContextCpu kernels...\n"
     ]
    },
    {
     "name": "stderr",
     "output_type": "stream",
     "text": [
      "ld: warning: dylib (/Users/arizakhtar/miniforge3/lib/libomp.dylib) was built for newer macOS version (11.1) than being linked (11.0)\n"
     ]
    },
    {
     "name": "stdout",
     "output_type": "stream",
     "text": [
      "Done compiling ContextCpu kernels.\n",
      "lumigrid_my_beam size: (300, 300)\n",
      "exchange_buffer size: (90017,)\n",
      "lumigrid_my_beam size: (300, 300)\n",
      "exchange_buffer size: (90017,)\n",
      "lumigrid_my_beam size: (300, 300)\n",
      "exchange_buffer size: (90017,)\n",
      "lumigrid_my_beam size: (300, 300)\n",
      "exchange_buffer size: (90017,)\n",
      "lumigrid_my_beam size: (300, 300)\n",
      "exchange_buffer size: (90017,)\n",
      "lumigrid_my_beam size: (300, 300)\n",
      "exchange_buffer size: (90017,)\n",
      "Done with tracking. 0.5070899963378906 [s/turn]\n",
      "Gaussian Luminosity with beam-beam: [8.03714253e+38 9.98061051e+34 1.03968241e+35]\n",
      "Numerical Integrator Luminosity with beam-beam: [4.01275767e+38 1.34460970e+34 1.66280013e+35]\n",
      "3.7690831342764884e+20\n",
      "analytical: 3.763750839060321e+37\n",
      "Compiling ContextCpu kernels...\n",
      "Done compiling ContextCpu kernels.\n",
      "build bb elements...\n",
      "800\n",
      "Compiling ContextCpu kernels...\n",
      "Done compiling ContextCpu kernels.\n",
      "Compiling ContextCpu kernels...\n",
      "Done compiling ContextCpu kernels.\n",
      "Tracking...\n",
      "Compiling ContextCpu kernels...\n"
     ]
    },
    {
     "name": "stderr",
     "output_type": "stream",
     "text": [
      "ld: warning: dylib (/Users/arizakhtar/miniforge3/lib/libomp.dylib) was built for newer macOS version (11.1) than being linked (11.0)\n"
     ]
    },
    {
     "name": "stdout",
     "output_type": "stream",
     "text": [
      "Done compiling ContextCpu kernels.\n",
      "Compiling ContextCpu kernels...\n"
     ]
    },
    {
     "name": "stderr",
     "output_type": "stream",
     "text": [
      "ld: warning: dylib (/Users/arizakhtar/miniforge3/lib/libomp.dylib) was built for newer macOS version (11.1) than being linked (11.0)\n"
     ]
    },
    {
     "name": "stdout",
     "output_type": "stream",
     "text": [
      "Done compiling ContextCpu kernels.\n",
      "lumigrid_my_beam size: (500, 500)\n",
      "exchange_buffer size: (250017,)\n",
      "lumigrid_my_beam size: (500, 500)\n",
      "exchange_buffer size: (250017,)\n",
      "lumigrid_my_beam size: (500, 500)\n",
      "exchange_buffer size: (250017,)\n",
      "lumigrid_my_beam size: (500, 500)\n",
      "exchange_buffer size: (250017,)\n",
      "lumigrid_my_beam size: (500, 500)\n",
      "exchange_buffer size: (250017,)\n",
      "lumigrid_my_beam size: (500, 500)\n",
      "exchange_buffer size: (250017,)\n",
      "Done with tracking. 0.642388391494751 [s/turn]\n",
      "Gaussian Luminosity with beam-beam: [8.07631765e+38 9.51232890e+34 9.92170575e+34]\n",
      "Numerical Integrator Luminosity with beam-beam: [3.94746882e+38 1.45475566e+34 1.54744383e+35]\n",
      "1.0231448376041302e+21\n",
      "analytical: 3.763750839060321e+37\n",
      "Compiling ContextCpu kernels...\n",
      "Done compiling ContextCpu kernels.\n",
      "build bb elements...\n",
      "800\n",
      "Compiling ContextCpu kernels...\n",
      "Done compiling ContextCpu kernels.\n",
      "Compiling ContextCpu kernels...\n",
      "Done compiling ContextCpu kernels.\n",
      "Tracking...\n",
      "Compiling ContextCpu kernels...\n"
     ]
    },
    {
     "name": "stderr",
     "output_type": "stream",
     "text": [
      "ld: warning: dylib (/Users/arizakhtar/miniforge3/lib/libomp.dylib) was built for newer macOS version (11.1) than being linked (11.0)\n"
     ]
    },
    {
     "name": "stdout",
     "output_type": "stream",
     "text": [
      "Done compiling ContextCpu kernels.\n",
      "Compiling ContextCpu kernels...\n"
     ]
    },
    {
     "name": "stderr",
     "output_type": "stream",
     "text": [
      "ld: warning: dylib (/Users/arizakhtar/miniforge3/lib/libomp.dylib) was built for newer macOS version (11.1) than being linked (11.0)\n"
     ]
    },
    {
     "name": "stdout",
     "output_type": "stream",
     "text": [
      "Done compiling ContextCpu kernels.\n",
      "lumigrid_my_beam size: (800, 800)\n",
      "exchange_buffer size: (640017,)\n",
      "lumigrid_my_beam size: (800, 800)\n",
      "exchange_buffer size: (640017,)\n",
      "lumigrid_my_beam size: (800, 800)\n",
      "exchange_buffer size: (640017,)\n",
      "lumigrid_my_beam size: (800, 800)\n",
      "exchange_buffer size: (640017,)\n",
      "lumigrid_my_beam size: (800, 800)\n",
      "exchange_buffer size: (640017,)\n",
      "lumigrid_my_beam size: (800, 800)\n",
      "exchange_buffer size: (640017,)\n",
      "Done with tracking. 1.0603135108947754 [s/turn]\n",
      "Gaussian Luminosity with beam-beam: [8.28989002e+38 1.00119744e+35 1.04126587e+35]\n",
      "Numerical Integrator Luminosity with beam-beam: [3.94077764e+38 1.62518264e+34 1.66950768e+35]\n",
      "2.6835493015749667e+21\n",
      "analytical: 3.763750839060321e+37\n",
      "Compiling ContextCpu kernels...\n",
      "Done compiling ContextCpu kernels.\n",
      "build bb elements...\n",
      "800\n",
      "Compiling ContextCpu kernels...\n",
      "Done compiling ContextCpu kernels.\n",
      "Compiling ContextCpu kernels...\n",
      "Done compiling ContextCpu kernels.\n",
      "Tracking...\n",
      "Compiling ContextCpu kernels...\n"
     ]
    },
    {
     "name": "stderr",
     "output_type": "stream",
     "text": [
      "ld: warning: dylib (/Users/arizakhtar/miniforge3/lib/libomp.dylib) was built for newer macOS version (11.1) than being linked (11.0)\n"
     ]
    },
    {
     "name": "stdout",
     "output_type": "stream",
     "text": [
      "Done compiling ContextCpu kernels.\n",
      "Compiling ContextCpu kernels...\n"
     ]
    },
    {
     "name": "stderr",
     "output_type": "stream",
     "text": [
      "ld: warning: dylib (/Users/arizakhtar/miniforge3/lib/libomp.dylib) was built for newer macOS version (11.1) than being linked (11.0)\n"
     ]
    },
    {
     "name": "stdout",
     "output_type": "stream",
     "text": [
      "Done compiling ContextCpu kernels.\n",
      "lumigrid_my_beam size: (1000, 1000)\n",
      "exchange_buffer size: (1000017,)\n",
      "lumigrid_my_beam size: (1000, 1000)\n",
      "exchange_buffer size: (1000017,)\n",
      "lumigrid_my_beam size: (1000, 1000)\n",
      "exchange_buffer size: (1000017,)\n",
      "lumigrid_my_beam size: (1000, 1000)\n",
      "exchange_buffer size: (1000017,)\n",
      "lumigrid_my_beam size: (1000, 1000)\n",
      "exchange_buffer size: (1000017,)\n",
      "lumigrid_my_beam size: (1000, 1000)\n",
      "exchange_buffer size: (1000017,)\n",
      "Done with tracking. 1.4961264848709106 [s/turn]\n",
      "Gaussian Luminosity with beam-beam: [8.31921669e+38 1.01714352e+35 1.04932956e+35]\n",
      "Numerical Integrator Luminosity with beam-beam: [4.72149467e+38 1.85654795e+34 1.87620453e+35]\n",
      "4.2498140341072057e+21\n",
      "analytical: 3.763750839060321e+37\n",
      "Compiling ContextCpu kernels...\n",
      "Done compiling ContextCpu kernels.\n",
      "build bb elements...\n",
      "800\n",
      "Compiling ContextCpu kernels...\n",
      "Done compiling ContextCpu kernels.\n",
      "Compiling ContextCpu kernels...\n",
      "Done compiling ContextCpu kernels.\n",
      "Tracking...\n",
      "Compiling ContextCpu kernels...\n"
     ]
    },
    {
     "name": "stderr",
     "output_type": "stream",
     "text": [
      "ld: warning: dylib (/Users/arizakhtar/miniforge3/lib/libomp.dylib) was built for newer macOS version (11.1) than being linked (11.0)\n"
     ]
    },
    {
     "name": "stdout",
     "output_type": "stream",
     "text": [
      "Done compiling ContextCpu kernels.\n",
      "Compiling ContextCpu kernels...\n"
     ]
    },
    {
     "name": "stderr",
     "output_type": "stream",
     "text": [
      "ld: warning: dylib (/Users/arizakhtar/miniforge3/lib/libomp.dylib) was built for newer macOS version (11.1) than being linked (11.0)\n"
     ]
    },
    {
     "name": "stdout",
     "output_type": "stream",
     "text": [
      "Done compiling ContextCpu kernels.\n",
      "lumigrid_my_beam size: (1500, 1500)\n",
      "exchange_buffer size: (2250017,)\n",
      "lumigrid_my_beam size: (1500, 1500)\n",
      "exchange_buffer size: (2250017,)\n",
      "lumigrid_my_beam size: (1500, 1500)\n",
      "exchange_buffer size: (2250017,)\n",
      "lumigrid_my_beam size: (1500, 1500)\n",
      "exchange_buffer size: (2250017,)\n",
      "lumigrid_my_beam size: (1500, 1500)\n",
      "exchange_buffer size: (2250017,)\n",
      "lumigrid_my_beam size: (1500, 1500)\n",
      "exchange_buffer size: (2250017,)\n",
      "Done with tracking. 3.104075527191162 [s/turn]\n",
      "Gaussian Luminosity with beam-beam: [8.45005060e+38 9.74572125e+34 1.01172678e+35]\n",
      "Numerical Integrator Luminosity with beam-beam: [4.81901583e+38 1.45256058e+34 1.58622436e+35]\n",
      "1.0027671595282747e+22\n",
      "analytical: 3.763750839060321e+37\n",
      "Compiling ContextCpu kernels...\n",
      "Done compiling ContextCpu kernels.\n",
      "build bb elements...\n",
      "1000\n",
      "Compiling ContextCpu kernels...\n",
      "Done compiling ContextCpu kernels.\n",
      "Compiling ContextCpu kernels...\n",
      "Done compiling ContextCpu kernels.\n",
      "Tracking...\n",
      "Compiling ContextCpu kernels...\n"
     ]
    },
    {
     "name": "stderr",
     "output_type": "stream",
     "text": [
      "ld: warning: dylib (/Users/arizakhtar/miniforge3/lib/libomp.dylib) was built for newer macOS version (11.1) than being linked (11.0)\n"
     ]
    },
    {
     "name": "stdout",
     "output_type": "stream",
     "text": [
      "Done compiling ContextCpu kernels.\n",
      "Compiling ContextCpu kernels...\n"
     ]
    },
    {
     "name": "stderr",
     "output_type": "stream",
     "text": [
      "ld: warning: dylib (/Users/arizakhtar/miniforge3/lib/libomp.dylib) was built for newer macOS version (11.1) than being linked (11.0)\n"
     ]
    },
    {
     "name": "stdout",
     "output_type": "stream",
     "text": [
      "Done compiling ContextCpu kernels.\n",
      "lumigrid_my_beam size: (10, 10)\n",
      "exchange_buffer size: (117,)\n",
      "lumigrid_my_beam size: (10, 10)\n",
      "exchange_buffer size: (117,)\n",
      "lumigrid_my_beam size: (10, 10)\n",
      "exchange_buffer size: (117,)\n",
      "lumigrid_my_beam size: (10, 10)\n",
      "exchange_buffer size: (117,)\n",
      "lumigrid_my_beam size: (10, 10)\n",
      "exchange_buffer size: (117,)\n",
      "lumigrid_my_beam size: (10, 10)\n",
      "exchange_buffer size: (117,)\n",
      "Done with tracking. 0.4304335117340088 [s/turn]\n",
      "Gaussian Luminosity with beam-beam: [8.18054467e+38 1.01786895e+35 1.05123963e+35]\n",
      "Numerical Integrator Luminosity with beam-beam: [1.59129823e+38 2.83954806e+33 2.14779069e+34]\n",
      "4.4765764239131546e+17\n",
      "analytical: 3.763750839060321e+37\n",
      "Compiling ContextCpu kernels...\n",
      "Done compiling ContextCpu kernels.\n",
      "build bb elements...\n",
      "1000\n",
      "Compiling ContextCpu kernels...\n",
      "Done compiling ContextCpu kernels.\n",
      "Compiling ContextCpu kernels...\n",
      "Done compiling ContextCpu kernels.\n",
      "Tracking...\n",
      "Compiling ContextCpu kernels...\n"
     ]
    },
    {
     "name": "stderr",
     "output_type": "stream",
     "text": [
      "ld: warning: dylib (/Users/arizakhtar/miniforge3/lib/libomp.dylib) was built for newer macOS version (11.1) than being linked (11.0)\n"
     ]
    },
    {
     "name": "stdout",
     "output_type": "stream",
     "text": [
      "Done compiling ContextCpu kernels.\n",
      "Compiling ContextCpu kernels...\n"
     ]
    },
    {
     "name": "stderr",
     "output_type": "stream",
     "text": [
      "ld: warning: dylib (/Users/arizakhtar/miniforge3/lib/libomp.dylib) was built for newer macOS version (11.1) than being linked (11.0)\n"
     ]
    },
    {
     "name": "stdout",
     "output_type": "stream",
     "text": [
      "Done compiling ContextCpu kernels.\n",
      "lumigrid_my_beam size: (20, 20)\n",
      "exchange_buffer size: (417,)\n",
      "lumigrid_my_beam size: (20, 20)\n",
      "exchange_buffer size: (417,)\n",
      "lumigrid_my_beam size: (20, 20)\n",
      "exchange_buffer size: (417,)\n",
      "lumigrid_my_beam size: (20, 20)\n",
      "exchange_buffer size: (417,)\n",
      "lumigrid_my_beam size: (20, 20)\n",
      "exchange_buffer size: (417,)\n",
      "lumigrid_my_beam size: (20, 20)\n",
      "exchange_buffer size: (417,)\n",
      "Done with tracking. 0.4310914993286133 [s/turn]\n",
      "Gaussian Luminosity with beam-beam: [8.70141972e+38 9.86963413e+34 1.02255792e+35]\n",
      "Numerical Integrator Luminosity with beam-beam: [3.41793649e+38 4.81798306e+33 3.66844142e+34]\n",
      "2.0760570602053765e+18\n",
      "analytical: 3.763750839060321e+37\n",
      "Compiling ContextCpu kernels...\n",
      "Done compiling ContextCpu kernels.\n",
      "build bb elements...\n",
      "1000\n",
      "Compiling ContextCpu kernels...\n",
      "Done compiling ContextCpu kernels.\n",
      "Compiling ContextCpu kernels...\n",
      "Done compiling ContextCpu kernels.\n",
      "Tracking...\n",
      "Compiling ContextCpu kernels...\n"
     ]
    },
    {
     "name": "stderr",
     "output_type": "stream",
     "text": [
      "ld: warning: dylib (/Users/arizakhtar/miniforge3/lib/libomp.dylib) was built for newer macOS version (11.1) than being linked (11.0)\n"
     ]
    },
    {
     "name": "stdout",
     "output_type": "stream",
     "text": [
      "Done compiling ContextCpu kernels.\n",
      "Compiling ContextCpu kernels...\n"
     ]
    },
    {
     "name": "stderr",
     "output_type": "stream",
     "text": [
      "ld: warning: dylib (/Users/arizakhtar/miniforge3/lib/libomp.dylib) was built for newer macOS version (11.1) than being linked (11.0)\n"
     ]
    },
    {
     "name": "stdout",
     "output_type": "stream",
     "text": [
      "Done compiling ContextCpu kernels.\n",
      "lumigrid_my_beam size: (50, 50)\n",
      "exchange_buffer size: (2517,)\n",
      "lumigrid_my_beam size: (50, 50)\n",
      "exchange_buffer size: (2517,)\n",
      "lumigrid_my_beam size: (50, 50)\n",
      "exchange_buffer size: (2517,)\n",
      "lumigrid_my_beam size: (50, 50)\n",
      "exchange_buffer size: (2517,)\n",
      "lumigrid_my_beam size: (50, 50)\n",
      "exchange_buffer size: (2517,)\n",
      "lumigrid_my_beam size: (50, 50)\n",
      "exchange_buffer size: (2517,)\n",
      "Done with tracking. 0.4334537982940674 [s/turn]\n",
      "Gaussian Luminosity with beam-beam: [8.27266139e+38 9.93110783e+34 1.03107986e+35]\n",
      "Numerical Integrator Luminosity with beam-beam: [3.85735903e+38 8.42435019e+33 8.17289443e+34]\n",
      "1.2104445115654975e+19\n",
      "analytical: 3.763750839060321e+37\n",
      "Compiling ContextCpu kernels...\n",
      "Done compiling ContextCpu kernels.\n",
      "build bb elements...\n",
      "1000\n",
      "Compiling ContextCpu kernels...\n",
      "Done compiling ContextCpu kernels.\n",
      "Compiling ContextCpu kernels...\n",
      "Done compiling ContextCpu kernels.\n",
      "Tracking...\n",
      "Compiling ContextCpu kernels...\n"
     ]
    },
    {
     "name": "stderr",
     "output_type": "stream",
     "text": [
      "ld: warning: dylib (/Users/arizakhtar/miniforge3/lib/libomp.dylib) was built for newer macOS version (11.1) than being linked (11.0)\n"
     ]
    },
    {
     "name": "stdout",
     "output_type": "stream",
     "text": [
      "Done compiling ContextCpu kernels.\n",
      "Compiling ContextCpu kernels...\n"
     ]
    },
    {
     "name": "stderr",
     "output_type": "stream",
     "text": [
      "ld: warning: dylib (/Users/arizakhtar/miniforge3/lib/libomp.dylib) was built for newer macOS version (11.1) than being linked (11.0)\n"
     ]
    },
    {
     "name": "stdout",
     "output_type": "stream",
     "text": [
      "Done compiling ContextCpu kernels.\n",
      "lumigrid_my_beam size: (100, 100)\n",
      "exchange_buffer size: (10017,)\n",
      "lumigrid_my_beam size: (100, 100)\n",
      "exchange_buffer size: (10017,)\n",
      "lumigrid_my_beam size: (100, 100)\n",
      "exchange_buffer size: (10017,)\n",
      "lumigrid_my_beam size: (100, 100)\n",
      "exchange_buffer size: (10017,)\n",
      "lumigrid_my_beam size: (100, 100)\n",
      "exchange_buffer size: (10017,)\n",
      "lumigrid_my_beam size: (100, 100)\n",
      "exchange_buffer size: (10017,)\n",
      "Done with tracking. 0.4391592264175415 [s/turn]\n",
      "Gaussian Luminosity with beam-beam: [8.15676489e+38 1.05803434e+35 1.09586024e+35]\n",
      "Numerical Integrator Luminosity with beam-beam: [4.09779162e+38 1.13058097e+34 1.28415562e+35]\n",
      "5.283618827029453e+19\n",
      "analytical: 3.763750839060321e+37\n",
      "Compiling ContextCpu kernels...\n",
      "Done compiling ContextCpu kernels.\n",
      "build bb elements...\n",
      "1000\n",
      "Compiling ContextCpu kernels...\n",
      "Done compiling ContextCpu kernels.\n",
      "Compiling ContextCpu kernels...\n",
      "Done compiling ContextCpu kernels.\n",
      "Tracking...\n",
      "Compiling ContextCpu kernels...\n"
     ]
    },
    {
     "name": "stderr",
     "output_type": "stream",
     "text": [
      "ld: warning: dylib (/Users/arizakhtar/miniforge3/lib/libomp.dylib) was built for newer macOS version (11.1) than being linked (11.0)\n"
     ]
    },
    {
     "name": "stdout",
     "output_type": "stream",
     "text": [
      "Done compiling ContextCpu kernels.\n",
      "Compiling ContextCpu kernels...\n"
     ]
    },
    {
     "name": "stderr",
     "output_type": "stream",
     "text": [
      "ld: warning: dylib (/Users/arizakhtar/miniforge3/lib/libomp.dylib) was built for newer macOS version (11.1) than being linked (11.0)\n"
     ]
    },
    {
     "name": "stdout",
     "output_type": "stream",
     "text": [
      "Done compiling ContextCpu kernels.\n",
      "lumigrid_my_beam size: (200, 200)\n",
      "exchange_buffer size: (40017,)\n",
      "lumigrid_my_beam size: (200, 200)\n",
      "exchange_buffer size: (40017,)\n",
      "lumigrid_my_beam size: (200, 200)\n",
      "exchange_buffer size: (40017,)\n",
      "lumigrid_my_beam size: (200, 200)\n",
      "exchange_buffer size: (40017,)\n",
      "lumigrid_my_beam size: (200, 200)\n",
      "exchange_buffer size: (40017,)\n",
      "lumigrid_my_beam size: (200, 200)\n",
      "exchange_buffer size: (40017,)\n",
      "Done with tracking. 0.4639829874038696 [s/turn]\n",
      "Gaussian Luminosity with beam-beam: [8.55029205e+38 9.26552653e+34 9.62788865e+34]\n",
      "Numerical Integrator Luminosity with beam-beam: [4.30879123e+38 1.26644623e+34 1.36926243e+35]\n",
      "2.228879369007898e+20\n",
      "analytical: 3.763750839060321e+37\n",
      "Compiling ContextCpu kernels...\n",
      "Done compiling ContextCpu kernels.\n",
      "build bb elements...\n",
      "1000\n",
      "Compiling ContextCpu kernels...\n",
      "Done compiling ContextCpu kernels.\n",
      "Compiling ContextCpu kernels...\n",
      "Done compiling ContextCpu kernels.\n",
      "Tracking...\n",
      "Compiling ContextCpu kernels...\n"
     ]
    },
    {
     "name": "stderr",
     "output_type": "stream",
     "text": [
      "ld: warning: dylib (/Users/arizakhtar/miniforge3/lib/libomp.dylib) was built for newer macOS version (11.1) than being linked (11.0)\n"
     ]
    },
    {
     "name": "stdout",
     "output_type": "stream",
     "text": [
      "Done compiling ContextCpu kernels.\n",
      "Compiling ContextCpu kernels...\n"
     ]
    },
    {
     "name": "stderr",
     "output_type": "stream",
     "text": [
      "ld: warning: dylib (/Users/arizakhtar/miniforge3/lib/libomp.dylib) was built for newer macOS version (11.1) than being linked (11.0)\n"
     ]
    },
    {
     "name": "stdout",
     "output_type": "stream",
     "text": [
      "Done compiling ContextCpu kernels.\n",
      "lumigrid_my_beam size: (300, 300)\n",
      "exchange_buffer size: (90017,)\n",
      "lumigrid_my_beam size: (300, 300)\n",
      "exchange_buffer size: (90017,)\n",
      "lumigrid_my_beam size: (300, 300)\n",
      "exchange_buffer size: (90017,)\n",
      "lumigrid_my_beam size: (300, 300)\n",
      "exchange_buffer size: (90017,)\n",
      "lumigrid_my_beam size: (300, 300)\n",
      "exchange_buffer size: (90017,)\n",
      "lumigrid_my_beam size: (300, 300)\n",
      "exchange_buffer size: (90017,)\n",
      "Done with tracking. 0.5072363138198852 [s/turn]\n",
      "Gaussian Luminosity with beam-beam: [8.23421585e+38 9.56946209e+34 9.92338476e+34]\n",
      "Numerical Integrator Luminosity with beam-beam: [4.02680621e+38 1.19180000e+34 1.42816343e+35]\n",
      "4.778310553484994e+20\n",
      "analytical: 3.763750839060321e+37\n",
      "Compiling ContextCpu kernels...\n",
      "Done compiling ContextCpu kernels.\n",
      "build bb elements...\n",
      "1000\n",
      "Compiling ContextCpu kernels...\n",
      "Done compiling ContextCpu kernels.\n",
      "Compiling ContextCpu kernels...\n",
      "Done compiling ContextCpu kernels.\n",
      "Tracking...\n",
      "Compiling ContextCpu kernels...\n"
     ]
    },
    {
     "name": "stderr",
     "output_type": "stream",
     "text": [
      "ld: warning: dylib (/Users/arizakhtar/miniforge3/lib/libomp.dylib) was built for newer macOS version (11.1) than being linked (11.0)\n"
     ]
    },
    {
     "name": "stdout",
     "output_type": "stream",
     "text": [
      "Done compiling ContextCpu kernels.\n",
      "Compiling ContextCpu kernels...\n"
     ]
    },
    {
     "name": "stderr",
     "output_type": "stream",
     "text": [
      "ld: warning: dylib (/Users/arizakhtar/miniforge3/lib/libomp.dylib) was built for newer macOS version (11.1) than being linked (11.0)\n"
     ]
    },
    {
     "name": "stdout",
     "output_type": "stream",
     "text": [
      "Done compiling ContextCpu kernels.\n",
      "lumigrid_my_beam size: (500, 500)\n",
      "exchange_buffer size: (250017,)\n",
      "lumigrid_my_beam size: (500, 500)\n",
      "exchange_buffer size: (250017,)\n",
      "lumigrid_my_beam size: (500, 500)\n",
      "exchange_buffer size: (250017,)\n",
      "lumigrid_my_beam size: (500, 500)\n",
      "exchange_buffer size: (250017,)\n",
      "lumigrid_my_beam size: (500, 500)\n",
      "exchange_buffer size: (250017,)\n",
      "lumigrid_my_beam size: (500, 500)\n",
      "exchange_buffer size: (250017,)\n",
      "Done with tracking. 0.6710782051086426 [s/turn]\n",
      "Gaussian Luminosity with beam-beam: [8.41142743e+38 1.01868858e+35 1.05265055e+35]\n",
      "Numerical Integrator Luminosity with beam-beam: [3.91204694e+38 1.58717667e+34 1.71422367e+35]\n",
      "1.3883992850235258e+21\n",
      "analytical: 3.763750839060321e+37\n",
      "Compiling ContextCpu kernels...\n",
      "Done compiling ContextCpu kernels.\n",
      "build bb elements...\n",
      "1000\n",
      "Compiling ContextCpu kernels...\n",
      "Done compiling ContextCpu kernels.\n",
      "Compiling ContextCpu kernels...\n",
      "Done compiling ContextCpu kernels.\n",
      "Tracking...\n",
      "Compiling ContextCpu kernels...\n"
     ]
    },
    {
     "name": "stderr",
     "output_type": "stream",
     "text": [
      "ld: warning: dylib (/Users/arizakhtar/miniforge3/lib/libomp.dylib) was built for newer macOS version (11.1) than being linked (11.0)\n"
     ]
    },
    {
     "name": "stdout",
     "output_type": "stream",
     "text": [
      "Done compiling ContextCpu kernels.\n",
      "Compiling ContextCpu kernels...\n"
     ]
    },
    {
     "name": "stderr",
     "output_type": "stream",
     "text": [
      "ld: warning: dylib (/Users/arizakhtar/miniforge3/lib/libomp.dylib) was built for newer macOS version (11.1) than being linked (11.0)\n"
     ]
    },
    {
     "name": "stdout",
     "output_type": "stream",
     "text": [
      "Done compiling ContextCpu kernels.\n",
      "lumigrid_my_beam size: (800, 800)\n",
      "exchange_buffer size: (640017,)\n",
      "lumigrid_my_beam size: (800, 800)\n",
      "exchange_buffer size: (640017,)\n",
      "lumigrid_my_beam size: (800, 800)\n",
      "exchange_buffer size: (640017,)\n",
      "lumigrid_my_beam size: (800, 800)\n",
      "exchange_buffer size: (640017,)\n",
      "lumigrid_my_beam size: (800, 800)\n",
      "exchange_buffer size: (640017,)\n",
      "lumigrid_my_beam size: (800, 800)\n",
      "exchange_buffer size: (640017,)\n",
      "Done with tracking. 1.0816806077957153 [s/turn]\n",
      "Gaussian Luminosity with beam-beam: [8.36473139e+38 1.02991787e+35 1.06760742e+35]\n",
      "Numerical Integrator Luminosity with beam-beam: [4.49025493e+38 1.96246544e+34 2.21981902e+35]\n",
      "3.596629735106962e+21\n",
      "analytical: 3.763750839060321e+37\n",
      "Compiling ContextCpu kernels...\n",
      "Done compiling ContextCpu kernels.\n",
      "build bb elements...\n",
      "1000\n",
      "Compiling ContextCpu kernels...\n",
      "Done compiling ContextCpu kernels.\n",
      "Compiling ContextCpu kernels...\n",
      "Done compiling ContextCpu kernels.\n",
      "Tracking...\n",
      "Compiling ContextCpu kernels...\n"
     ]
    },
    {
     "name": "stderr",
     "output_type": "stream",
     "text": [
      "ld: warning: dylib (/Users/arizakhtar/miniforge3/lib/libomp.dylib) was built for newer macOS version (11.1) than being linked (11.0)\n"
     ]
    },
    {
     "name": "stdout",
     "output_type": "stream",
     "text": [
      "Done compiling ContextCpu kernels.\n",
      "Compiling ContextCpu kernels...\n"
     ]
    },
    {
     "name": "stderr",
     "output_type": "stream",
     "text": [
      "ld: warning: dylib (/Users/arizakhtar/miniforge3/lib/libomp.dylib) was built for newer macOS version (11.1) than being linked (11.0)\n"
     ]
    },
    {
     "name": "stdout",
     "output_type": "stream",
     "text": [
      "Done compiling ContextCpu kernels.\n",
      "lumigrid_my_beam size: (1000, 1000)\n",
      "exchange_buffer size: (1000017,)\n",
      "lumigrid_my_beam size: (1000, 1000)\n",
      "exchange_buffer size: (1000017,)\n",
      "lumigrid_my_beam size: (1000, 1000)\n",
      "exchange_buffer size: (1000017,)\n",
      "lumigrid_my_beam size: (1000, 1000)\n",
      "exchange_buffer size: (1000017,)\n",
      "lumigrid_my_beam size: (1000, 1000)\n",
      "exchange_buffer size: (1000017,)\n",
      "lumigrid_my_beam size: (1000, 1000)\n",
      "exchange_buffer size: (1000017,)\n",
      "Done with tracking. 1.5400865077972412 [s/turn]\n",
      "Gaussian Luminosity with beam-beam: [8.34931202e+38 9.47545979e+34 9.84268534e+34]\n",
      "Numerical Integrator Luminosity with beam-beam: [4.25612367e+38 1.67105099e+34 1.89619512e+35]\n",
      "5.388132204692855e+21\n",
      "analytical: 3.763750839060321e+37\n",
      "Compiling ContextCpu kernels...\n",
      "Done compiling ContextCpu kernels.\n",
      "build bb elements...\n",
      "1000\n",
      "Compiling ContextCpu kernels...\n",
      "Done compiling ContextCpu kernels.\n",
      "Compiling ContextCpu kernels...\n",
      "Done compiling ContextCpu kernels.\n",
      "Tracking...\n",
      "Compiling ContextCpu kernels...\n"
     ]
    },
    {
     "name": "stderr",
     "output_type": "stream",
     "text": [
      "ld: warning: dylib (/Users/arizakhtar/miniforge3/lib/libomp.dylib) was built for newer macOS version (11.1) than being linked (11.0)\n"
     ]
    },
    {
     "name": "stdout",
     "output_type": "stream",
     "text": [
      "Done compiling ContextCpu kernels.\n",
      "Compiling ContextCpu kernels...\n"
     ]
    },
    {
     "name": "stderr",
     "output_type": "stream",
     "text": [
      "ld: warning: dylib (/Users/arizakhtar/miniforge3/lib/libomp.dylib) was built for newer macOS version (11.1) than being linked (11.0)\n"
     ]
    },
    {
     "name": "stdout",
     "output_type": "stream",
     "text": [
      "Done compiling ContextCpu kernels.\n",
      "lumigrid_my_beam size: (1500, 1500)\n",
      "exchange_buffer size: (2250017,)\n",
      "lumigrid_my_beam size: (1500, 1500)\n",
      "exchange_buffer size: (2250017,)\n",
      "lumigrid_my_beam size: (1500, 1500)\n",
      "exchange_buffer size: (2250017,)\n",
      "lumigrid_my_beam size: (1500, 1500)\n",
      "exchange_buffer size: (2250017,)\n",
      "lumigrid_my_beam size: (1500, 1500)\n",
      "exchange_buffer size: (2250017,)\n",
      "lumigrid_my_beam size: (1500, 1500)\n",
      "exchange_buffer size: (2250017,)\n",
      "Done with tracking. 3.0845391273498537 [s/turn]\n",
      "Gaussian Luminosity with beam-beam: [8.19013211e+38 9.99478638e+34 1.03134897e+35]\n",
      "Numerical Integrator Luminosity with beam-beam: [3.49501278e+38 1.28914005e+34 1.80125064e+35]\n",
      "1.2719212172477729e+22\n",
      "analytical: 3.763750839060321e+37\n",
      "Compiling ContextCpu kernels...\n",
      "Done compiling ContextCpu kernels.\n",
      "build bb elements...\n",
      "5000\n",
      "Compiling ContextCpu kernels...\n",
      "Done compiling ContextCpu kernels.\n",
      "Compiling ContextCpu kernels...\n",
      "Done compiling ContextCpu kernels.\n",
      "Tracking...\n",
      "Compiling ContextCpu kernels...\n"
     ]
    },
    {
     "name": "stderr",
     "output_type": "stream",
     "text": [
      "ld: warning: dylib (/Users/arizakhtar/miniforge3/lib/libomp.dylib) was built for newer macOS version (11.1) than being linked (11.0)\n"
     ]
    },
    {
     "name": "stdout",
     "output_type": "stream",
     "text": [
      "Done compiling ContextCpu kernels.\n",
      "Compiling ContextCpu kernels...\n"
     ]
    },
    {
     "name": "stderr",
     "output_type": "stream",
     "text": [
      "ld: warning: dylib (/Users/arizakhtar/miniforge3/lib/libomp.dylib) was built for newer macOS version (11.1) than being linked (11.0)\n"
     ]
    },
    {
     "name": "stdout",
     "output_type": "stream",
     "text": [
      "Done compiling ContextCpu kernels.\n",
      "lumigrid_my_beam size: (10, 10)\n",
      "exchange_buffer size: (117,)\n",
      "lumigrid_my_beam size: (10, 10)\n",
      "exchange_buffer size: (117,)\n",
      "lumigrid_my_beam size: (10, 10)\n",
      "exchange_buffer size: (117,)\n",
      "lumigrid_my_beam size: (10, 10)\n",
      "exchange_buffer size: (117,)\n",
      "lumigrid_my_beam size: (10, 10)\n",
      "exchange_buffer size: (117,)\n",
      "lumigrid_my_beam size: (10, 10)\n",
      "exchange_buffer size: (117,)\n",
      "Done with tracking. 0.43162081241607664 [s/turn]\n",
      "Gaussian Luminosity with beam-beam: [8.29627168e+38 9.74303803e+34 1.01087038e+35]\n",
      "Numerical Integrator Luminosity with beam-beam: [1.58200584e+38 2.70375329e+33 1.87162884e+34]\n",
      "2.196625607693739e+18\n",
      "analytical: 3.763750839060321e+37\n",
      "Compiling ContextCpu kernels...\n",
      "Done compiling ContextCpu kernels.\n",
      "build bb elements...\n",
      "5000\n",
      "Compiling ContextCpu kernels...\n",
      "Done compiling ContextCpu kernels.\n",
      "Compiling ContextCpu kernels...\n",
      "Done compiling ContextCpu kernels.\n",
      "Tracking...\n",
      "Compiling ContextCpu kernels...\n"
     ]
    },
    {
     "name": "stderr",
     "output_type": "stream",
     "text": [
      "ld: warning: dylib (/Users/arizakhtar/miniforge3/lib/libomp.dylib) was built for newer macOS version (11.1) than being linked (11.0)\n"
     ]
    },
    {
     "name": "stdout",
     "output_type": "stream",
     "text": [
      "Done compiling ContextCpu kernels.\n",
      "Compiling ContextCpu kernels...\n"
     ]
    },
    {
     "name": "stderr",
     "output_type": "stream",
     "text": [
      "ld: warning: dylib (/Users/arizakhtar/miniforge3/lib/libomp.dylib) was built for newer macOS version (11.1) than being linked (11.0)\n"
     ]
    },
    {
     "name": "stdout",
     "output_type": "stream",
     "text": [
      "Done compiling ContextCpu kernels.\n",
      "lumigrid_my_beam size: (20, 20)\n",
      "exchange_buffer size: (417,)\n",
      "lumigrid_my_beam size: (20, 20)\n",
      "exchange_buffer size: (417,)\n",
      "lumigrid_my_beam size: (20, 20)\n",
      "exchange_buffer size: (417,)\n",
      "lumigrid_my_beam size: (20, 20)\n",
      "exchange_buffer size: (417,)\n",
      "lumigrid_my_beam size: (20, 20)\n",
      "exchange_buffer size: (417,)\n",
      "lumigrid_my_beam size: (20, 20)\n",
      "exchange_buffer size: (417,)\n",
      "Done with tracking. 0.4436832904815674 [s/turn]\n",
      "Gaussian Luminosity with beam-beam: [8.25772386e+38 9.95313203e+34 1.03280512e+35]\n",
      "Numerical Integrator Luminosity with beam-beam: [3.20406855e+38 4.71067328e+33 3.81464290e+34]\n",
      "9.782631184106406e+18\n",
      "analytical: 3.763750839060321e+37\n",
      "Compiling ContextCpu kernels...\n",
      "Done compiling ContextCpu kernels.\n",
      "build bb elements...\n",
      "5000\n",
      "Compiling ContextCpu kernels...\n",
      "Done compiling ContextCpu kernels.\n",
      "Compiling ContextCpu kernels...\n",
      "Done compiling ContextCpu kernels.\n",
      "Tracking...\n",
      "Compiling ContextCpu kernels...\n"
     ]
    },
    {
     "name": "stderr",
     "output_type": "stream",
     "text": [
      "ld: warning: dylib (/Users/arizakhtar/miniforge3/lib/libomp.dylib) was built for newer macOS version (11.1) than being linked (11.0)\n"
     ]
    },
    {
     "name": "stdout",
     "output_type": "stream",
     "text": [
      "Done compiling ContextCpu kernels.\n",
      "Compiling ContextCpu kernels...\n"
     ]
    },
    {
     "name": "stderr",
     "output_type": "stream",
     "text": [
      "ld: warning: dylib (/Users/arizakhtar/miniforge3/lib/libomp.dylib) was built for newer macOS version (11.1) than being linked (11.0)\n"
     ]
    },
    {
     "name": "stdout",
     "output_type": "stream",
     "text": [
      "Done compiling ContextCpu kernels.\n",
      "lumigrid_my_beam size: (50, 50)\n",
      "exchange_buffer size: (2517,)\n",
      "lumigrid_my_beam size: (50, 50)\n",
      "exchange_buffer size: (2517,)\n",
      "lumigrid_my_beam size: (50, 50)\n",
      "exchange_buffer size: (2517,)\n",
      "lumigrid_my_beam size: (50, 50)\n",
      "exchange_buffer size: (2517,)\n",
      "lumigrid_my_beam size: (50, 50)\n",
      "exchange_buffer size: (2517,)\n",
      "lumigrid_my_beam size: (50, 50)\n",
      "exchange_buffer size: (2517,)\n",
      "Done with tracking. 0.4530565023422241 [s/turn]\n",
      "Gaussian Luminosity with beam-beam: [8.27395633e+38 9.89541426e+34 1.02449467e+35]\n",
      "Numerical Integrator Luminosity with beam-beam: [3.90182627e+38 8.25599583e+33 8.14419192e+34]\n",
      "6.4217498004097606e+19\n",
      "analytical: 3.763750839060321e+37\n",
      "Compiling ContextCpu kernels...\n",
      "Done compiling ContextCpu kernels.\n",
      "build bb elements...\n",
      "5000\n",
      "Compiling ContextCpu kernels...\n",
      "Done compiling ContextCpu kernels.\n",
      "Compiling ContextCpu kernels...\n",
      "Done compiling ContextCpu kernels.\n",
      "Tracking...\n",
      "Compiling ContextCpu kernels...\n"
     ]
    },
    {
     "name": "stderr",
     "output_type": "stream",
     "text": [
      "ld: warning: dylib (/Users/arizakhtar/miniforge3/lib/libomp.dylib) was built for newer macOS version (11.1) than being linked (11.0)\n"
     ]
    },
    {
     "name": "stdout",
     "output_type": "stream",
     "text": [
      "Done compiling ContextCpu kernels.\n",
      "Compiling ContextCpu kernels...\n"
     ]
    },
    {
     "name": "stderr",
     "output_type": "stream",
     "text": [
      "ld: warning: dylib (/Users/arizakhtar/miniforge3/lib/libomp.dylib) was built for newer macOS version (11.1) than being linked (11.0)\n"
     ]
    },
    {
     "name": "stdout",
     "output_type": "stream",
     "text": [
      "Done compiling ContextCpu kernels.\n",
      "lumigrid_my_beam size: (100, 100)\n",
      "exchange_buffer size: (10017,)\n",
      "lumigrid_my_beam size: (100, 100)\n",
      "exchange_buffer size: (10017,)\n",
      "lumigrid_my_beam size: (100, 100)\n",
      "exchange_buffer size: (10017,)\n",
      "lumigrid_my_beam size: (100, 100)\n",
      "exchange_buffer size: (10017,)\n",
      "lumigrid_my_beam size: (100, 100)\n",
      "exchange_buffer size: (10017,)\n",
      "lumigrid_my_beam size: (100, 100)\n",
      "exchange_buffer size: (10017,)\n",
      "Done with tracking. 0.45308432579040525 [s/turn]\n",
      "Gaussian Luminosity with beam-beam: [8.37659950e+38 9.68029384e+34 1.00409002e+35]\n",
      "Numerical Integrator Luminosity with beam-beam: [4.08616601e+38 1.06298630e+34 1.09249666e+35]\n",
      "2.623577432333804e+20\n",
      "analytical: 3.763750839060321e+37\n",
      "Compiling ContextCpu kernels...\n",
      "Done compiling ContextCpu kernels.\n",
      "build bb elements...\n",
      "5000\n",
      "Compiling ContextCpu kernels...\n",
      "Done compiling ContextCpu kernels.\n",
      "Compiling ContextCpu kernels...\n",
      "Done compiling ContextCpu kernels.\n",
      "Tracking...\n",
      "Compiling ContextCpu kernels...\n"
     ]
    },
    {
     "name": "stderr",
     "output_type": "stream",
     "text": [
      "ld: warning: dylib (/Users/arizakhtar/miniforge3/lib/libomp.dylib) was built for newer macOS version (11.1) than being linked (11.0)\n"
     ]
    },
    {
     "name": "stdout",
     "output_type": "stream",
     "text": [
      "Done compiling ContextCpu kernels.\n",
      "Compiling ContextCpu kernels...\n"
     ]
    },
    {
     "name": "stderr",
     "output_type": "stream",
     "text": [
      "ld: warning: dylib (/Users/arizakhtar/miniforge3/lib/libomp.dylib) was built for newer macOS version (11.1) than being linked (11.0)\n"
     ]
    },
    {
     "name": "stdout",
     "output_type": "stream",
     "text": [
      "Done compiling ContextCpu kernels.\n",
      "lumigrid_my_beam size: (200, 200)\n",
      "exchange_buffer size: (40017,)\n",
      "lumigrid_my_beam size: (200, 200)\n",
      "exchange_buffer size: (40017,)\n",
      "lumigrid_my_beam size: (200, 200)\n",
      "exchange_buffer size: (40017,)\n",
      "lumigrid_my_beam size: (200, 200)\n",
      "exchange_buffer size: (40017,)\n",
      "lumigrid_my_beam size: (200, 200)\n",
      "exchange_buffer size: (40017,)\n",
      "lumigrid_my_beam size: (200, 200)\n",
      "exchange_buffer size: (40017,)\n",
      "Done with tracking. 0.5116865158081054 [s/turn]\n",
      "Gaussian Luminosity with beam-beam: [8.27644749e+38 9.56786996e+34 9.92592983e+34]\n",
      "Numerical Integrator Luminosity with beam-beam: [4.06947858e+38 1.29136403e+34 1.38716213e+35]\n",
      "1.0500379247747666e+21\n",
      "analytical: 3.763750839060321e+37\n",
      "Compiling ContextCpu kernels...\n",
      "Done compiling ContextCpu kernels.\n",
      "build bb elements...\n",
      "5000\n",
      "Compiling ContextCpu kernels...\n",
      "Done compiling ContextCpu kernels.\n",
      "Compiling ContextCpu kernels...\n",
      "Done compiling ContextCpu kernels.\n",
      "Tracking...\n",
      "Compiling ContextCpu kernels...\n"
     ]
    },
    {
     "name": "stderr",
     "output_type": "stream",
     "text": [
      "ld: warning: dylib (/Users/arizakhtar/miniforge3/lib/libomp.dylib) was built for newer macOS version (11.1) than being linked (11.0)\n"
     ]
    },
    {
     "name": "stdout",
     "output_type": "stream",
     "text": [
      "Done compiling ContextCpu kernels.\n",
      "Compiling ContextCpu kernels...\n"
     ]
    },
    {
     "name": "stderr",
     "output_type": "stream",
     "text": [
      "ld: warning: dylib (/Users/arizakhtar/miniforge3/lib/libomp.dylib) was built for newer macOS version (11.1) than being linked (11.0)\n"
     ]
    },
    {
     "name": "stdout",
     "output_type": "stream",
     "text": [
      "Done compiling ContextCpu kernels.\n",
      "lumigrid_my_beam size: (300, 300)\n",
      "exchange_buffer size: (90017,)\n",
      "lumigrid_my_beam size: (300, 300)\n",
      "exchange_buffer size: (90017,)\n",
      "lumigrid_my_beam size: (300, 300)\n",
      "exchange_buffer size: (90017,)\n",
      "lumigrid_my_beam size: (300, 300)\n",
      "exchange_buffer size: (90017,)\n",
      "lumigrid_my_beam size: (300, 300)\n",
      "exchange_buffer size: (90017,)\n",
      "lumigrid_my_beam size: (300, 300)\n",
      "exchange_buffer size: (90017,)\n",
      "Done with tracking. 0.5102205038070678 [s/turn]\n",
      "Gaussian Luminosity with beam-beam: [8.29806665e+38 9.92515676e+34 1.02915127e+35]\n",
      "Numerical Integrator Luminosity with beam-beam: [4.09927926e+38 1.39299068e+34 1.61789320e+35]\n",
      "2.4108851464118065e+21\n",
      "analytical: 3.763750839060321e+37\n",
      "Compiling ContextCpu kernels...\n",
      "Done compiling ContextCpu kernels.\n",
      "build bb elements...\n",
      "5000\n",
      "Compiling ContextCpu kernels...\n",
      "Done compiling ContextCpu kernels.\n",
      "Compiling ContextCpu kernels...\n",
      "Done compiling ContextCpu kernels.\n",
      "Tracking...\n",
      "Compiling ContextCpu kernels...\n"
     ]
    },
    {
     "name": "stderr",
     "output_type": "stream",
     "text": [
      "ld: warning: dylib (/Users/arizakhtar/miniforge3/lib/libomp.dylib) was built for newer macOS version (11.1) than being linked (11.0)\n"
     ]
    },
    {
     "name": "stdout",
     "output_type": "stream",
     "text": [
      "Done compiling ContextCpu kernels.\n",
      "Compiling ContextCpu kernels...\n"
     ]
    },
    {
     "name": "stderr",
     "output_type": "stream",
     "text": [
      "ld: warning: dylib (/Users/arizakhtar/miniforge3/lib/libomp.dylib) was built for newer macOS version (11.1) than being linked (11.0)\n"
     ]
    },
    {
     "name": "stdout",
     "output_type": "stream",
     "text": [
      "Done compiling ContextCpu kernels.\n",
      "lumigrid_my_beam size: (500, 500)\n",
      "exchange_buffer size: (250017,)\n",
      "lumigrid_my_beam size: (500, 500)\n",
      "exchange_buffer size: (250017,)\n",
      "lumigrid_my_beam size: (500, 500)\n",
      "exchange_buffer size: (250017,)\n",
      "lumigrid_my_beam size: (500, 500)\n",
      "exchange_buffer size: (250017,)\n",
      "lumigrid_my_beam size: (500, 500)\n",
      "exchange_buffer size: (250017,)\n",
      "lumigrid_my_beam size: (500, 500)\n",
      "exchange_buffer size: (250017,)\n",
      "Done with tracking. 0.6707964181900025 [s/turn]\n",
      "Gaussian Luminosity with beam-beam: [8.42943113e+38 9.64230903e+34 9.98578922e+34]\n",
      "Numerical Integrator Luminosity with beam-beam: [4.04095050e+38 1.55432980e+34 1.73036519e+35]\n",
      "6.778497728825457e+21\n",
      "analytical: 3.763750839060321e+37\n",
      "Compiling ContextCpu kernels...\n",
      "Done compiling ContextCpu kernels.\n",
      "build bb elements...\n",
      "5000\n",
      "Compiling ContextCpu kernels...\n",
      "Done compiling ContextCpu kernels.\n",
      "Compiling ContextCpu kernels...\n",
      "Done compiling ContextCpu kernels.\n",
      "Tracking...\n",
      "Compiling ContextCpu kernels...\n"
     ]
    },
    {
     "name": "stderr",
     "output_type": "stream",
     "text": [
      "ld: warning: dylib (/Users/arizakhtar/miniforge3/lib/libomp.dylib) was built for newer macOS version (11.1) than being linked (11.0)\n"
     ]
    },
    {
     "name": "stdout",
     "output_type": "stream",
     "text": [
      "Done compiling ContextCpu kernels.\n",
      "Compiling ContextCpu kernels...\n"
     ]
    },
    {
     "name": "stderr",
     "output_type": "stream",
     "text": [
      "ld: warning: dylib (/Users/arizakhtar/miniforge3/lib/libomp.dylib) was built for newer macOS version (11.1) than being linked (11.0)\n"
     ]
    },
    {
     "name": "stdout",
     "output_type": "stream",
     "text": [
      "Done compiling ContextCpu kernels.\n",
      "lumigrid_my_beam size: (800, 800)\n",
      "exchange_buffer size: (640017,)\n",
      "lumigrid_my_beam size: (800, 800)\n",
      "exchange_buffer size: (640017,)\n",
      "lumigrid_my_beam size: (800, 800)\n",
      "exchange_buffer size: (640017,)\n",
      "lumigrid_my_beam size: (800, 800)\n",
      "exchange_buffer size: (640017,)\n",
      "lumigrid_my_beam size: (800, 800)\n",
      "exchange_buffer size: (640017,)\n",
      "lumigrid_my_beam size: (800, 800)\n",
      "exchange_buffer size: (640017,)\n",
      "Done with tracking. 1.1119756937026977 [s/turn]\n",
      "Gaussian Luminosity with beam-beam: [8.40892672e+38 9.73766675e+34 1.00958771e+35]\n",
      "Numerical Integrator Luminosity with beam-beam: [4.15094172e+38 1.65060292e+34 1.86696234e+35]\n",
      "1.7243251061157005e+22\n",
      "analytical: 3.763750839060321e+37\n",
      "Compiling ContextCpu kernels...\n",
      "Done compiling ContextCpu kernels.\n",
      "build bb elements...\n",
      "5000\n",
      "Compiling ContextCpu kernels...\n",
      "Done compiling ContextCpu kernels.\n",
      "Compiling ContextCpu kernels...\n",
      "Done compiling ContextCpu kernels.\n",
      "Tracking...\n",
      "Compiling ContextCpu kernels...\n"
     ]
    },
    {
     "name": "stderr",
     "output_type": "stream",
     "text": [
      "ld: warning: dylib (/Users/arizakhtar/miniforge3/lib/libomp.dylib) was built for newer macOS version (11.1) than being linked (11.0)\n"
     ]
    },
    {
     "name": "stdout",
     "output_type": "stream",
     "text": [
      "Done compiling ContextCpu kernels.\n",
      "Compiling ContextCpu kernels...\n"
     ]
    },
    {
     "name": "stderr",
     "output_type": "stream",
     "text": [
      "ld: warning: dylib (/Users/arizakhtar/miniforge3/lib/libomp.dylib) was built for newer macOS version (11.1) than being linked (11.0)\n"
     ]
    },
    {
     "name": "stdout",
     "output_type": "stream",
     "text": [
      "Done compiling ContextCpu kernels.\n",
      "lumigrid_my_beam size: (1000, 1000)\n",
      "exchange_buffer size: (1000017,)\n",
      "lumigrid_my_beam size: (1000, 1000)\n",
      "exchange_buffer size: (1000017,)\n",
      "lumigrid_my_beam size: (1000, 1000)\n",
      "exchange_buffer size: (1000017,)\n",
      "lumigrid_my_beam size: (1000, 1000)\n",
      "exchange_buffer size: (1000017,)\n",
      "lumigrid_my_beam size: (1000, 1000)\n",
      "exchange_buffer size: (1000017,)\n",
      "lumigrid_my_beam size: (1000, 1000)\n",
      "exchange_buffer size: (1000017,)\n",
      "Done with tracking. 1.547668719291687 [s/turn]\n",
      "Gaussian Luminosity with beam-beam: [8.41333326e+38 1.00640710e+35 1.04221761e+35]\n",
      "Numerical Integrator Luminosity with beam-beam: [4.27814911e+38 1.68643951e+34 2.01172987e+35]\n",
      "2.7864799917939827e+22\n",
      "analytical: 3.763750839060321e+37\n",
      "Compiling ContextCpu kernels...\n",
      "Done compiling ContextCpu kernels.\n",
      "build bb elements...\n",
      "5000\n",
      "Compiling ContextCpu kernels...\n",
      "Done compiling ContextCpu kernels.\n",
      "Compiling ContextCpu kernels...\n",
      "Done compiling ContextCpu kernels.\n",
      "Tracking...\n",
      "Compiling ContextCpu kernels...\n"
     ]
    },
    {
     "name": "stderr",
     "output_type": "stream",
     "text": [
      "ld: warning: dylib (/Users/arizakhtar/miniforge3/lib/libomp.dylib) was built for newer macOS version (11.1) than being linked (11.0)\n"
     ]
    },
    {
     "name": "stdout",
     "output_type": "stream",
     "text": [
      "Done compiling ContextCpu kernels.\n",
      "Compiling ContextCpu kernels...\n"
     ]
    },
    {
     "name": "stderr",
     "output_type": "stream",
     "text": [
      "ld: warning: dylib (/Users/arizakhtar/miniforge3/lib/libomp.dylib) was built for newer macOS version (11.1) than being linked (11.0)\n"
     ]
    },
    {
     "name": "stdout",
     "output_type": "stream",
     "text": [
      "Done compiling ContextCpu kernels.\n",
      "lumigrid_my_beam size: (1500, 1500)\n",
      "exchange_buffer size: (2250017,)\n",
      "lumigrid_my_beam size: (1500, 1500)\n",
      "exchange_buffer size: (2250017,)\n",
      "lumigrid_my_beam size: (1500, 1500)\n",
      "exchange_buffer size: (2250017,)\n",
      "lumigrid_my_beam size: (1500, 1500)\n",
      "exchange_buffer size: (2250017,)\n",
      "lumigrid_my_beam size: (1500, 1500)\n",
      "exchange_buffer size: (2250017,)\n",
      "lumigrid_my_beam size: (1500, 1500)\n",
      "exchange_buffer size: (2250017,)\n",
      "Done with tracking. 3.076827383041382 [s/turn]\n",
      "Gaussian Luminosity with beam-beam: [8.23382118e+38 9.65405780e+34 1.00276055e+35]\n",
      "Numerical Integrator Luminosity with beam-beam: [4.04746052e+38 1.67183447e+34 1.85978650e+35]\n",
      "5.987151319036747e+22\n",
      "analytical: 3.763750839060321e+37\n",
      "Compiling ContextCpu kernels...\n",
      "Done compiling ContextCpu kernels.\n",
      "build bb elements...\n",
      "100000\n",
      "Compiling ContextCpu kernels...\n",
      "Done compiling ContextCpu kernels.\n",
      "Compiling ContextCpu kernels...\n",
      "Done compiling ContextCpu kernels.\n",
      "Tracking...\n",
      "Compiling ContextCpu kernels...\n"
     ]
    },
    {
     "name": "stderr",
     "output_type": "stream",
     "text": [
      "ld: warning: dylib (/Users/arizakhtar/miniforge3/lib/libomp.dylib) was built for newer macOS version (11.1) than being linked (11.0)\n"
     ]
    },
    {
     "name": "stdout",
     "output_type": "stream",
     "text": [
      "Done compiling ContextCpu kernels.\n",
      "Compiling ContextCpu kernels...\n"
     ]
    },
    {
     "name": "stderr",
     "output_type": "stream",
     "text": [
      "ld: warning: dylib (/Users/arizakhtar/miniforge3/lib/libomp.dylib) was built for newer macOS version (11.1) than being linked (11.0)\n"
     ]
    },
    {
     "name": "stdout",
     "output_type": "stream",
     "text": [
      "Done compiling ContextCpu kernels.\n",
      "lumigrid_my_beam size: (10, 10)\n",
      "exchange_buffer size: (117,)\n",
      "lumigrid_my_beam size: (10, 10)\n",
      "exchange_buffer size: (117,)\n",
      "lumigrid_my_beam size: (10, 10)\n",
      "exchange_buffer size: (117,)\n",
      "lumigrid_my_beam size: (10, 10)\n",
      "exchange_buffer size: (117,)\n",
      "lumigrid_my_beam size: (10, 10)\n",
      "exchange_buffer size: (117,)\n",
      "lumigrid_my_beam size: (10, 10)\n",
      "exchange_buffer size: (117,)\n",
      "Done with tracking. 0.4580796003341675 [s/turn]\n",
      "Gaussian Luminosity with beam-beam: [8.30259350e+38 9.83339634e+34 1.01973332e+35]\n",
      "Numerical Integrator Luminosity with beam-beam: [1.59994327e+38 2.75274836e+33 1.93329273e+34]\n",
      "4.406424379063445e+19\n",
      "analytical: 3.763750839060321e+37\n",
      "Compiling ContextCpu kernels...\n",
      "Done compiling ContextCpu kernels.\n",
      "build bb elements...\n",
      "100000\n",
      "Compiling ContextCpu kernels...\n",
      "Done compiling ContextCpu kernels.\n",
      "Compiling ContextCpu kernels...\n",
      "Done compiling ContextCpu kernels.\n",
      "Tracking...\n",
      "Compiling ContextCpu kernels...\n"
     ]
    },
    {
     "name": "stderr",
     "output_type": "stream",
     "text": [
      "ld: warning: dylib (/Users/arizakhtar/miniforge3/lib/libomp.dylib) was built for newer macOS version (11.1) than being linked (11.0)\n"
     ]
    },
    {
     "name": "stdout",
     "output_type": "stream",
     "text": [
      "Done compiling ContextCpu kernels.\n",
      "Compiling ContextCpu kernels...\n"
     ]
    },
    {
     "name": "stderr",
     "output_type": "stream",
     "text": [
      "ld: warning: dylib (/Users/arizakhtar/miniforge3/lib/libomp.dylib) was built for newer macOS version (11.1) than being linked (11.0)\n"
     ]
    },
    {
     "name": "stdout",
     "output_type": "stream",
     "text": [
      "Done compiling ContextCpu kernels.\n",
      "lumigrid_my_beam size: (20, 20)\n",
      "exchange_buffer size: (417,)\n",
      "lumigrid_my_beam size: (20, 20)\n",
      "exchange_buffer size: (417,)\n",
      "lumigrid_my_beam size: (20, 20)\n",
      "exchange_buffer size: (417,)\n",
      "lumigrid_my_beam size: (20, 20)\n",
      "exchange_buffer size: (417,)\n",
      "lumigrid_my_beam size: (20, 20)\n",
      "exchange_buffer size: (417,)\n",
      "lumigrid_my_beam size: (20, 20)\n",
      "exchange_buffer size: (417,)\n",
      "Done with tracking. 0.4562538146972656 [s/turn]\n",
      "Gaussian Luminosity with beam-beam: [8.29703078e+38 9.81818876e+34 1.01768615e+35]\n",
      "Numerical Integrator Luminosity with beam-beam: [3.22153666e+38 4.63399855e+33 3.76000317e+34]\n",
      "1.952133341282713e+20\n",
      "analytical: 3.763750839060321e+37\n",
      "Compiling ContextCpu kernels...\n",
      "Done compiling ContextCpu kernels.\n",
      "build bb elements...\n",
      "100000\n",
      "Compiling ContextCpu kernels...\n",
      "Done compiling ContextCpu kernels.\n",
      "Compiling ContextCpu kernels...\n",
      "Done compiling ContextCpu kernels.\n",
      "Tracking...\n",
      "Compiling ContextCpu kernels...\n"
     ]
    },
    {
     "name": "stderr",
     "output_type": "stream",
     "text": [
      "ld: warning: dylib (/Users/arizakhtar/miniforge3/lib/libomp.dylib) was built for newer macOS version (11.1) than being linked (11.0)\n"
     ]
    },
    {
     "name": "stdout",
     "output_type": "stream",
     "text": [
      "Done compiling ContextCpu kernels.\n",
      "Compiling ContextCpu kernels...\n"
     ]
    },
    {
     "name": "stderr",
     "output_type": "stream",
     "text": [
      "ld: warning: dylib (/Users/arizakhtar/miniforge3/lib/libomp.dylib) was built for newer macOS version (11.1) than being linked (11.0)\n"
     ]
    },
    {
     "name": "stdout",
     "output_type": "stream",
     "text": [
      "Done compiling ContextCpu kernels.\n",
      "lumigrid_my_beam size: (50, 50)\n",
      "exchange_buffer size: (2517,)\n",
      "lumigrid_my_beam size: (50, 50)\n",
      "exchange_buffer size: (2517,)\n",
      "lumigrid_my_beam size: (50, 50)\n",
      "exchange_buffer size: (2517,)\n",
      "lumigrid_my_beam size: (50, 50)\n",
      "exchange_buffer size: (2517,)\n",
      "lumigrid_my_beam size: (50, 50)\n",
      "exchange_buffer size: (2517,)\n",
      "lumigrid_my_beam size: (50, 50)\n",
      "exchange_buffer size: (2517,)\n",
      "Done with tracking. 0.4560328245162964 [s/turn]\n",
      "Gaussian Luminosity with beam-beam: [8.27347106e+38 9.83038788e+34 1.01917584e+35]\n",
      "Numerical Integrator Luminosity with beam-beam: [3.94598682e+38 8.30489622e+33 8.07929829e+34]\n",
      "1.3033681071886647e+21\n",
      "analytical: 3.763750839060321e+37\n",
      "Compiling ContextCpu kernels...\n",
      "Done compiling ContextCpu kernels.\n",
      "build bb elements...\n",
      "100000\n",
      "Compiling ContextCpu kernels...\n",
      "Done compiling ContextCpu kernels.\n",
      "Compiling ContextCpu kernels...\n",
      "Done compiling ContextCpu kernels.\n",
      "Tracking...\n",
      "Compiling ContextCpu kernels...\n"
     ]
    },
    {
     "name": "stderr",
     "output_type": "stream",
     "text": [
      "ld: warning: dylib (/Users/arizakhtar/miniforge3/lib/libomp.dylib) was built for newer macOS version (11.1) than being linked (11.0)\n"
     ]
    },
    {
     "name": "stdout",
     "output_type": "stream",
     "text": [
      "Done compiling ContextCpu kernels.\n",
      "Compiling ContextCpu kernels...\n"
     ]
    },
    {
     "name": "stderr",
     "output_type": "stream",
     "text": [
      "ld: warning: dylib (/Users/arizakhtar/miniforge3/lib/libomp.dylib) was built for newer macOS version (11.1) than being linked (11.0)\n"
     ]
    },
    {
     "name": "stdout",
     "output_type": "stream",
     "text": [
      "Done compiling ContextCpu kernels.\n",
      "lumigrid_my_beam size: (100, 100)\n",
      "exchange_buffer size: (10017,)\n",
      "lumigrid_my_beam size: (100, 100)\n",
      "exchange_buffer size: (10017,)\n",
      "lumigrid_my_beam size: (100, 100)\n",
      "exchange_buffer size: (10017,)\n",
      "lumigrid_my_beam size: (100, 100)\n",
      "exchange_buffer size: (10017,)\n",
      "lumigrid_my_beam size: (100, 100)\n",
      "exchange_buffer size: (10017,)\n",
      "lumigrid_my_beam size: (100, 100)\n",
      "exchange_buffer size: (10017,)\n",
      "Done with tracking. 0.46261987686157224 [s/turn]\n",
      "Gaussian Luminosity with beam-beam: [8.28007218e+38 9.79146484e+34 1.01537419e+35]\n",
      "Numerical Integrator Luminosity with beam-beam: [4.04760188e+38 1.09458798e+34 1.15413257e+35]\n",
      "5.282414214633188e+21\n",
      "analytical: 3.763750839060321e+37\n",
      "Compiling ContextCpu kernels...\n",
      "Done compiling ContextCpu kernels.\n",
      "build bb elements...\n",
      "100000\n",
      "Compiling ContextCpu kernels...\n",
      "Done compiling ContextCpu kernels.\n",
      "Compiling ContextCpu kernels...\n",
      "Done compiling ContextCpu kernels.\n",
      "Tracking...\n",
      "Compiling ContextCpu kernels...\n"
     ]
    },
    {
     "name": "stderr",
     "output_type": "stream",
     "text": [
      "ld: warning: dylib (/Users/arizakhtar/miniforge3/lib/libomp.dylib) was built for newer macOS version (11.1) than being linked (11.0)\n"
     ]
    },
    {
     "name": "stdout",
     "output_type": "stream",
     "text": [
      "Done compiling ContextCpu kernels.\n",
      "Compiling ContextCpu kernels...\n"
     ]
    },
    {
     "name": "stderr",
     "output_type": "stream",
     "text": [
      "ld: warning: dylib (/Users/arizakhtar/miniforge3/lib/libomp.dylib) was built for newer macOS version (11.1) than being linked (11.0)\n"
     ]
    },
    {
     "name": "stdout",
     "output_type": "stream",
     "text": [
      "Done compiling ContextCpu kernels.\n",
      "lumigrid_my_beam size: (200, 200)\n",
      "exchange_buffer size: (40017,)\n",
      "lumigrid_my_beam size: (200, 200)\n",
      "exchange_buffer size: (40017,)\n",
      "lumigrid_my_beam size: (200, 200)\n",
      "exchange_buffer size: (40017,)\n",
      "lumigrid_my_beam size: (200, 200)\n",
      "exchange_buffer size: (40017,)\n",
      "lumigrid_my_beam size: (200, 200)\n",
      "exchange_buffer size: (40017,)\n",
      "lumigrid_my_beam size: (200, 200)\n",
      "exchange_buffer size: (40017,)\n",
      "Done with tracking. 0.48945231437683107 [s/turn]\n",
      "Gaussian Luminosity with beam-beam: [8.28177947e+38 9.85223050e+34 1.02148500e+35]\n",
      "Numerical Integrator Luminosity with beam-beam: [4.08271678e+38 1.33755241e+34 1.45423115e+35]\n",
      "2.1439047721429083e+22\n",
      "analytical: 3.763750839060321e+37\n",
      "Compiling ContextCpu kernels...\n",
      "Done compiling ContextCpu kernels.\n",
      "build bb elements...\n",
      "100000\n",
      "Compiling ContextCpu kernels...\n",
      "Done compiling ContextCpu kernels.\n",
      "Compiling ContextCpu kernels...\n",
      "Done compiling ContextCpu kernels.\n",
      "Tracking...\n",
      "Compiling ContextCpu kernels...\n"
     ]
    },
    {
     "name": "stderr",
     "output_type": "stream",
     "text": [
      "ld: warning: dylib (/Users/arizakhtar/miniforge3/lib/libomp.dylib) was built for newer macOS version (11.1) than being linked (11.0)\n"
     ]
    },
    {
     "name": "stdout",
     "output_type": "stream",
     "text": [
      "Done compiling ContextCpu kernels.\n",
      "Compiling ContextCpu kernels...\n"
     ]
    },
    {
     "name": "stderr",
     "output_type": "stream",
     "text": [
      "ld: warning: dylib (/Users/arizakhtar/miniforge3/lib/libomp.dylib) was built for newer macOS version (11.1) than being linked (11.0)\n"
     ]
    },
    {
     "name": "stdout",
     "output_type": "stream",
     "text": [
      "Done compiling ContextCpu kernels.\n",
      "lumigrid_my_beam size: (300, 300)\n",
      "exchange_buffer size: (90017,)\n",
      "lumigrid_my_beam size: (300, 300)\n",
      "exchange_buffer size: (90017,)\n",
      "lumigrid_my_beam size: (300, 300)\n",
      "exchange_buffer size: (90017,)\n",
      "lumigrid_my_beam size: (300, 300)\n",
      "exchange_buffer size: (90017,)\n",
      "lumigrid_my_beam size: (300, 300)\n",
      "exchange_buffer size: (90017,)\n",
      "lumigrid_my_beam size: (300, 300)\n",
      "exchange_buffer size: (90017,)\n",
      "Done with tracking. 0.5283138990402222 [s/turn]\n",
      "Gaussian Luminosity with beam-beam: [8.27623916e+38 9.83973804e+34 1.02034634e+35]\n",
      "Numerical Integrator Luminosity with beam-beam: [4.06714839e+38 1.39321277e+34 1.55277167e+35]\n",
      "4.781920942663147e+22\n",
      "analytical: 3.763750839060321e+37\n",
      "Compiling ContextCpu kernels...\n",
      "Done compiling ContextCpu kernels.\n",
      "build bb elements...\n",
      "100000\n",
      "Compiling ContextCpu kernels...\n",
      "Done compiling ContextCpu kernels.\n",
      "Compiling ContextCpu kernels...\n",
      "Done compiling ContextCpu kernels.\n",
      "Tracking...\n",
      "Compiling ContextCpu kernels...\n"
     ]
    },
    {
     "name": "stderr",
     "output_type": "stream",
     "text": [
      "ld: warning: dylib (/Users/arizakhtar/miniforge3/lib/libomp.dylib) was built for newer macOS version (11.1) than being linked (11.0)\n"
     ]
    },
    {
     "name": "stdout",
     "output_type": "stream",
     "text": [
      "Done compiling ContextCpu kernels.\n",
      "Compiling ContextCpu kernels...\n"
     ]
    },
    {
     "name": "stderr",
     "output_type": "stream",
     "text": [
      "ld: warning: dylib (/Users/arizakhtar/miniforge3/lib/libomp.dylib) was built for newer macOS version (11.1) than being linked (11.0)\n"
     ]
    },
    {
     "name": "stdout",
     "output_type": "stream",
     "text": [
      "Done compiling ContextCpu kernels.\n",
      "lumigrid_my_beam size: (500, 500)\n",
      "exchange_buffer size: (250017,)\n",
      "lumigrid_my_beam size: (500, 500)\n",
      "exchange_buffer size: (250017,)\n",
      "lumigrid_my_beam size: (500, 500)\n",
      "exchange_buffer size: (250017,)\n",
      "lumigrid_my_beam size: (500, 500)\n",
      "exchange_buffer size: (250017,)\n",
      "lumigrid_my_beam size: (500, 500)\n",
      "exchange_buffer size: (250017,)\n",
      "lumigrid_my_beam size: (500, 500)\n",
      "exchange_buffer size: (250017,)\n",
      "Done with tracking. 0.6661509037017822 [s/turn]\n",
      "Gaussian Luminosity with beam-beam: [8.30872545e+38 9.80393283e+34 1.01674665e+35]\n",
      "Numerical Integrator Luminosity with beam-beam: [4.10988252e+38 1.60012996e+34 1.84286884e+35]\n",
      "1.3500883373204348e+23\n",
      "analytical: 3.763750839060321e+37\n",
      "Compiling ContextCpu kernels...\n",
      "Done compiling ContextCpu kernels.\n",
      "build bb elements...\n",
      "100000\n",
      "Compiling ContextCpu kernels...\n",
      "Done compiling ContextCpu kernels.\n",
      "Compiling ContextCpu kernels...\n",
      "Done compiling ContextCpu kernels.\n",
      "Tracking...\n",
      "Compiling ContextCpu kernels...\n"
     ]
    },
    {
     "name": "stderr",
     "output_type": "stream",
     "text": [
      "ld: warning: dylib (/Users/arizakhtar/miniforge3/lib/libomp.dylib) was built for newer macOS version (11.1) than being linked (11.0)\n"
     ]
    },
    {
     "name": "stdout",
     "output_type": "stream",
     "text": [
      "Done compiling ContextCpu kernels.\n",
      "Compiling ContextCpu kernels...\n"
     ]
    },
    {
     "name": "stderr",
     "output_type": "stream",
     "text": [
      "ld: warning: dylib (/Users/arizakhtar/miniforge3/lib/libomp.dylib) was built for newer macOS version (11.1) than being linked (11.0)\n"
     ]
    },
    {
     "name": "stdout",
     "output_type": "stream",
     "text": [
      "Done compiling ContextCpu kernels.\n",
      "lumigrid_my_beam size: (800, 800)\n",
      "exchange_buffer size: (640017,)\n",
      "lumigrid_my_beam size: (800, 800)\n",
      "exchange_buffer size: (640017,)\n",
      "lumigrid_my_beam size: (800, 800)\n",
      "exchange_buffer size: (640017,)\n",
      "lumigrid_my_beam size: (800, 800)\n",
      "exchange_buffer size: (640017,)\n",
      "lumigrid_my_beam size: (800, 800)\n",
      "exchange_buffer size: (640017,)\n",
      "lumigrid_my_beam size: (800, 800)\n",
      "exchange_buffer size: (640017,)\n",
      "Done with tracking. 1.1110558986663819 [s/turn]\n",
      "Gaussian Luminosity with beam-beam: [8.27993736e+38 9.83178236e+34 1.01896110e+35]\n",
      "Numerical Integrator Luminosity with beam-beam: [4.07016382e+38 1.73490776e+34 1.99719781e+35]\n",
      "3.4544874744959154e+23\n",
      "analytical: 3.763750839060321e+37\n",
      "Compiling ContextCpu kernels...\n",
      "Done compiling ContextCpu kernels.\n",
      "build bb elements...\n",
      "100000\n",
      "Compiling ContextCpu kernels...\n",
      "Done compiling ContextCpu kernels.\n",
      "Compiling ContextCpu kernels...\n",
      "Done compiling ContextCpu kernels.\n",
      "Tracking...\n",
      "Compiling ContextCpu kernels...\n"
     ]
    },
    {
     "name": "stderr",
     "output_type": "stream",
     "text": [
      "ld: warning: dylib (/Users/arizakhtar/miniforge3/lib/libomp.dylib) was built for newer macOS version (11.1) than being linked (11.0)\n"
     ]
    },
    {
     "name": "stdout",
     "output_type": "stream",
     "text": [
      "Done compiling ContextCpu kernels.\n",
      "Compiling ContextCpu kernels...\n"
     ]
    },
    {
     "name": "stderr",
     "output_type": "stream",
     "text": [
      "ld: warning: dylib (/Users/arizakhtar/miniforge3/lib/libomp.dylib) was built for newer macOS version (11.1) than being linked (11.0)\n"
     ]
    },
    {
     "name": "stdout",
     "output_type": "stream",
     "text": [
      "Done compiling ContextCpu kernels.\n",
      "lumigrid_my_beam size: (1000, 1000)\n",
      "exchange_buffer size: (1000017,)\n",
      "lumigrid_my_beam size: (1000, 1000)\n",
      "exchange_buffer size: (1000017,)\n",
      "lumigrid_my_beam size: (1000, 1000)\n",
      "exchange_buffer size: (1000017,)\n",
      "lumigrid_my_beam size: (1000, 1000)\n",
      "exchange_buffer size: (1000017,)\n",
      "lumigrid_my_beam size: (1000, 1000)\n",
      "exchange_buffer size: (1000017,)\n",
      "lumigrid_my_beam size: (1000, 1000)\n",
      "exchange_buffer size: (1000017,)\n",
      "Done with tracking. 1.552087092399597 [s/turn]\n",
      "Gaussian Luminosity with beam-beam: [8.28166615e+38 9.79574149e+34 1.01570870e+35]\n",
      "Numerical Integrator Luminosity with beam-beam: [4.08335694e+38 1.81116673e+34 2.06485078e+35]\n",
      "5.358776610181174e+23\n",
      "analytical: 3.763750839060321e+37\n",
      "Compiling ContextCpu kernels...\n",
      "Done compiling ContextCpu kernels.\n",
      "build bb elements...\n",
      "100000\n",
      "Compiling ContextCpu kernels...\n",
      "Done compiling ContextCpu kernels.\n",
      "Compiling ContextCpu kernels...\n",
      "Done compiling ContextCpu kernels.\n",
      "Tracking...\n",
      "Compiling ContextCpu kernels...\n"
     ]
    },
    {
     "name": "stderr",
     "output_type": "stream",
     "text": [
      "ld: warning: dylib (/Users/arizakhtar/miniforge3/lib/libomp.dylib) was built for newer macOS version (11.1) than being linked (11.0)\n"
     ]
    },
    {
     "name": "stdout",
     "output_type": "stream",
     "text": [
      "Done compiling ContextCpu kernels.\n",
      "Compiling ContextCpu kernels...\n"
     ]
    },
    {
     "name": "stderr",
     "output_type": "stream",
     "text": [
      "ld: warning: dylib (/Users/arizakhtar/miniforge3/lib/libomp.dylib) was built for newer macOS version (11.1) than being linked (11.0)\n"
     ]
    },
    {
     "name": "stdout",
     "output_type": "stream",
     "text": [
      "Done compiling ContextCpu kernels.\n",
      "lumigrid_my_beam size: (1500, 1500)\n",
      "exchange_buffer size: (2250017,)\n",
      "lumigrid_my_beam size: (1500, 1500)\n",
      "exchange_buffer size: (2250017,)\n",
      "lumigrid_my_beam size: (1500, 1500)\n",
      "exchange_buffer size: (2250017,)\n",
      "lumigrid_my_beam size: (1500, 1500)\n",
      "exchange_buffer size: (2250017,)\n",
      "lumigrid_my_beam size: (1500, 1500)\n",
      "exchange_buffer size: (2250017,)\n",
      "lumigrid_my_beam size: (1500, 1500)\n",
      "exchange_buffer size: (2250017,)\n",
      "Done with tracking. 3.1129376173019407 [s/turn]\n",
      "Gaussian Luminosity with beam-beam: [8.30931147e+38 9.79000871e+34 1.01493550e+35]\n",
      "Numerical Integrator Luminosity with beam-beam: [4.10755087e+38 1.93334566e+34 2.12891468e+35]\n",
      "1.219179940132544e+24\n",
      "analytical: 3.763750839060321e+37\n",
      "Compiling ContextCpu kernels...\n",
      "Done compiling ContextCpu kernels.\n",
      "build bb elements...\n",
      "500000\n",
      "Compiling ContextCpu kernels...\n",
      "Done compiling ContextCpu kernels.\n",
      "Compiling ContextCpu kernels...\n",
      "Done compiling ContextCpu kernels.\n",
      "Tracking...\n",
      "Compiling ContextCpu kernels...\n"
     ]
    },
    {
     "name": "stderr",
     "output_type": "stream",
     "text": [
      "ld: warning: dylib (/Users/arizakhtar/miniforge3/lib/libomp.dylib) was built for newer macOS version (11.1) than being linked (11.0)\n"
     ]
    },
    {
     "name": "stdout",
     "output_type": "stream",
     "text": [
      "Done compiling ContextCpu kernels.\n",
      "Compiling ContextCpu kernels...\n"
     ]
    },
    {
     "name": "stderr",
     "output_type": "stream",
     "text": [
      "ld: warning: dylib (/Users/arizakhtar/miniforge3/lib/libomp.dylib) was built for newer macOS version (11.1) than being linked (11.0)\n"
     ]
    },
    {
     "name": "stdout",
     "output_type": "stream",
     "text": [
      "Done compiling ContextCpu kernels.\n",
      "lumigrid_my_beam size: (10, 10)\n",
      "exchange_buffer size: (117,)\n",
      "lumigrid_my_beam size: (10, 10)\n",
      "exchange_buffer size: (117,)\n",
      "lumigrid_my_beam size: (10, 10)\n",
      "exchange_buffer size: (117,)\n",
      "lumigrid_my_beam size: (10, 10)\n",
      "exchange_buffer size: (117,)\n",
      "lumigrid_my_beam size: (10, 10)\n",
      "exchange_buffer size: (117,)\n",
      "lumigrid_my_beam size: (10, 10)\n",
      "exchange_buffer size: (117,)\n",
      "Done with tracking. 0.5381886005401612 [s/turn]\n",
      "Gaussian Luminosity with beam-beam: [8.27607270e+38 9.84087485e+34 1.02024840e+35]\n",
      "Numerical Integrator Luminosity with beam-beam: [1.59157303e+38 2.73137186e+33 1.92303546e+34]\n",
      "2.1880221621837562e+20\n",
      "analytical: 3.763750839060321e+37\n",
      "Compiling ContextCpu kernels...\n",
      "Done compiling ContextCpu kernels.\n",
      "build bb elements...\n",
      "500000\n",
      "Compiling ContextCpu kernels...\n",
      "Done compiling ContextCpu kernels.\n",
      "Compiling ContextCpu kernels...\n",
      "Done compiling ContextCpu kernels.\n",
      "Tracking...\n",
      "Compiling ContextCpu kernels...\n"
     ]
    },
    {
     "name": "stderr",
     "output_type": "stream",
     "text": [
      "ld: warning: dylib (/Users/arizakhtar/miniforge3/lib/libomp.dylib) was built for newer macOS version (11.1) than being linked (11.0)\n"
     ]
    },
    {
     "name": "stdout",
     "output_type": "stream",
     "text": [
      "Done compiling ContextCpu kernels.\n",
      "Compiling ContextCpu kernels...\n"
     ]
    },
    {
     "name": "stderr",
     "output_type": "stream",
     "text": [
      "ld: warning: dylib (/Users/arizakhtar/miniforge3/lib/libomp.dylib) was built for newer macOS version (11.1) than being linked (11.0)\n"
     ]
    },
    {
     "name": "stdout",
     "output_type": "stream",
     "text": [
      "Done compiling ContextCpu kernels.\n",
      "lumigrid_my_beam size: (20, 20)\n",
      "exchange_buffer size: (417,)\n",
      "lumigrid_my_beam size: (20, 20)\n",
      "exchange_buffer size: (417,)\n",
      "lumigrid_my_beam size: (20, 20)\n",
      "exchange_buffer size: (417,)\n",
      "lumigrid_my_beam size: (20, 20)\n",
      "exchange_buffer size: (417,)\n",
      "lumigrid_my_beam size: (20, 20)\n",
      "exchange_buffer size: (417,)\n",
      "lumigrid_my_beam size: (20, 20)\n",
      "exchange_buffer size: (417,)\n",
      "Done with tracking. 0.5345766067504882 [s/turn]\n",
      "Gaussian Luminosity with beam-beam: [8.27903773e+38 9.86200335e+34 1.02254328e+35]\n",
      "Numerical Integrator Luminosity with beam-beam: [3.21730220e+38 4.64021233e+33 3.76562270e+34]\n",
      "9.745095455074015e+20\n",
      "analytical: 3.763750839060321e+37\n",
      "Compiling ContextCpu kernels...\n",
      "Done compiling ContextCpu kernels.\n",
      "build bb elements...\n",
      "500000\n",
      "Compiling ContextCpu kernels...\n",
      "Done compiling ContextCpu kernels.\n",
      "Compiling ContextCpu kernels...\n",
      "Done compiling ContextCpu kernels.\n",
      "Tracking...\n",
      "Compiling ContextCpu kernels...\n"
     ]
    },
    {
     "name": "stderr",
     "output_type": "stream",
     "text": [
      "ld: warning: dylib (/Users/arizakhtar/miniforge3/lib/libomp.dylib) was built for newer macOS version (11.1) than being linked (11.0)\n"
     ]
    },
    {
     "name": "stdout",
     "output_type": "stream",
     "text": [
      "Done compiling ContextCpu kernels.\n",
      "Compiling ContextCpu kernels...\n"
     ]
    },
    {
     "name": "stderr",
     "output_type": "stream",
     "text": [
      "ld: warning: dylib (/Users/arizakhtar/miniforge3/lib/libomp.dylib) was built for newer macOS version (11.1) than being linked (11.0)\n"
     ]
    },
    {
     "name": "stdout",
     "output_type": "stream",
     "text": [
      "Done compiling ContextCpu kernels.\n",
      "lumigrid_my_beam size: (50, 50)\n",
      "exchange_buffer size: (2517,)\n",
      "lumigrid_my_beam size: (50, 50)\n",
      "exchange_buffer size: (2517,)\n",
      "lumigrid_my_beam size: (50, 50)\n",
      "exchange_buffer size: (2517,)\n",
      "lumigrid_my_beam size: (50, 50)\n",
      "exchange_buffer size: (2517,)\n",
      "lumigrid_my_beam size: (50, 50)\n",
      "exchange_buffer size: (2517,)\n",
      "lumigrid_my_beam size: (50, 50)\n",
      "exchange_buffer size: (2517,)\n",
      "Done with tracking. 0.5374799966812134 [s/turn]\n",
      "Gaussian Luminosity with beam-beam: [8.29211518e+38 9.80908420e+34 1.01728732e+35]\n",
      "Numerical Integrator Luminosity with beam-beam: [3.94216807e+38 8.22806840e+33 8.01101164e+34]\n",
      "6.486611674160295e+21\n",
      "analytical: 3.763750839060321e+37\n",
      "Compiling ContextCpu kernels...\n",
      "Done compiling ContextCpu kernels.\n",
      "build bb elements...\n",
      "500000\n",
      "Compiling ContextCpu kernels...\n",
      "Done compiling ContextCpu kernels.\n",
      "Compiling ContextCpu kernels...\n",
      "Done compiling ContextCpu kernels.\n",
      "Tracking...\n",
      "Compiling ContextCpu kernels...\n"
     ]
    },
    {
     "name": "stderr",
     "output_type": "stream",
     "text": [
      "ld: warning: dylib (/Users/arizakhtar/miniforge3/lib/libomp.dylib) was built for newer macOS version (11.1) than being linked (11.0)\n"
     ]
    },
    {
     "name": "stdout",
     "output_type": "stream",
     "text": [
      "Done compiling ContextCpu kernels.\n",
      "Compiling ContextCpu kernels...\n"
     ]
    },
    {
     "name": "stderr",
     "output_type": "stream",
     "text": [
      "ld: warning: dylib (/Users/arizakhtar/miniforge3/lib/libomp.dylib) was built for newer macOS version (11.1) than being linked (11.0)\n"
     ]
    },
    {
     "name": "stdout",
     "output_type": "stream",
     "text": [
      "Done compiling ContextCpu kernels.\n",
      "lumigrid_my_beam size: (100, 100)\n",
      "exchange_buffer size: (10017,)\n",
      "lumigrid_my_beam size: (100, 100)\n",
      "exchange_buffer size: (10017,)\n",
      "lumigrid_my_beam size: (100, 100)\n",
      "exchange_buffer size: (10017,)\n",
      "lumigrid_my_beam size: (100, 100)\n",
      "exchange_buffer size: (10017,)\n",
      "lumigrid_my_beam size: (100, 100)\n",
      "exchange_buffer size: (10017,)\n",
      "lumigrid_my_beam size: (100, 100)\n",
      "exchange_buffer size: (10017,)\n",
      "Done with tracking. 0.5453471183776856 [s/turn]\n",
      "Gaussian Luminosity with beam-beam: [8.27135018e+38 9.80698729e+34 1.01695825e+35]\n",
      "Numerical Integrator Luminosity with beam-beam: [4.04116303e+38 1.09973830e+34 1.16965776e+35]\n",
      "2.646461989672955e+22\n",
      "analytical: 3.763750839060321e+37\n",
      "Compiling ContextCpu kernels...\n",
      "Done compiling ContextCpu kernels.\n",
      "build bb elements...\n",
      "500000\n",
      "Compiling ContextCpu kernels...\n",
      "Done compiling ContextCpu kernels.\n",
      "Compiling ContextCpu kernels...\n",
      "Done compiling ContextCpu kernels.\n",
      "Tracking...\n",
      "Compiling ContextCpu kernels...\n"
     ]
    },
    {
     "name": "stderr",
     "output_type": "stream",
     "text": [
      "ld: warning: dylib (/Users/arizakhtar/miniforge3/lib/libomp.dylib) was built for newer macOS version (11.1) than being linked (11.0)\n"
     ]
    },
    {
     "name": "stdout",
     "output_type": "stream",
     "text": [
      "Done compiling ContextCpu kernels.\n",
      "Compiling ContextCpu kernels...\n"
     ]
    },
    {
     "name": "stderr",
     "output_type": "stream",
     "text": [
      "ld: warning: dylib (/Users/arizakhtar/miniforge3/lib/libomp.dylib) was built for newer macOS version (11.1) than being linked (11.0)\n"
     ]
    },
    {
     "name": "stdout",
     "output_type": "stream",
     "text": [
      "Done compiling ContextCpu kernels.\n",
      "lumigrid_my_beam size: (200, 200)\n",
      "exchange_buffer size: (40017,)\n",
      "lumigrid_my_beam size: (200, 200)\n",
      "exchange_buffer size: (40017,)\n",
      "lumigrid_my_beam size: (200, 200)\n",
      "exchange_buffer size: (40017,)\n",
      "lumigrid_my_beam size: (200, 200)\n",
      "exchange_buffer size: (40017,)\n",
      "lumigrid_my_beam size: (200, 200)\n",
      "exchange_buffer size: (40017,)\n",
      "lumigrid_my_beam size: (200, 200)\n",
      "exchange_buffer size: (40017,)\n",
      "Done with tracking. 0.560456109046936 [s/turn]\n",
      "Gaussian Luminosity with beam-beam: [8.29157998e+38 9.82215434e+34 1.01847827e+35]\n",
      "Numerical Integrator Luminosity with beam-beam: [4.08292034e+38 1.33784915e+34 1.43533329e+35]\n",
      "1.0682235789332055e+23\n",
      "analytical: 3.763750839060321e+37\n",
      "Compiling ContextCpu kernels...\n",
      "Done compiling ContextCpu kernels.\n",
      "build bb elements...\n",
      "500000\n",
      "Compiling ContextCpu kernels...\n",
      "Done compiling ContextCpu kernels.\n",
      "Compiling ContextCpu kernels...\n",
      "Done compiling ContextCpu kernels.\n",
      "Tracking...\n",
      "Compiling ContextCpu kernels...\n"
     ]
    },
    {
     "name": "stderr",
     "output_type": "stream",
     "text": [
      "ld: warning: dylib (/Users/arizakhtar/miniforge3/lib/libomp.dylib) was built for newer macOS version (11.1) than being linked (11.0)\n"
     ]
    },
    {
     "name": "stdout",
     "output_type": "stream",
     "text": [
      "Done compiling ContextCpu kernels.\n",
      "Compiling ContextCpu kernels...\n"
     ]
    },
    {
     "name": "stderr",
     "output_type": "stream",
     "text": [
      "ld: warning: dylib (/Users/arizakhtar/miniforge3/lib/libomp.dylib) was built for newer macOS version (11.1) than being linked (11.0)\n"
     ]
    },
    {
     "name": "stdout",
     "output_type": "stream",
     "text": [
      "Done compiling ContextCpu kernels.\n",
      "lumigrid_my_beam size: (300, 300)\n",
      "exchange_buffer size: (90017,)\n",
      "lumigrid_my_beam size: (300, 300)\n",
      "exchange_buffer size: (90017,)\n",
      "lumigrid_my_beam size: (300, 300)\n",
      "exchange_buffer size: (90017,)\n",
      "lumigrid_my_beam size: (300, 300)\n",
      "exchange_buffer size: (90017,)\n",
      "lumigrid_my_beam size: (300, 300)\n",
      "exchange_buffer size: (90017,)\n",
      "lumigrid_my_beam size: (300, 300)\n",
      "exchange_buffer size: (90017,)\n",
      "Done with tracking. 0.6152409076690674 [s/turn]\n",
      "Gaussian Luminosity with beam-beam: [8.28619273e+38 9.83703853e+34 1.02014826e+35]\n",
      "Numerical Integrator Luminosity with beam-beam: [4.08861730e+38 1.39948230e+34 1.57392326e+35]\n",
      "2.4173524584213396e+23\n",
      "analytical: 3.763750839060321e+37\n",
      "Compiling ContextCpu kernels...\n",
      "Done compiling ContextCpu kernels.\n",
      "build bb elements...\n",
      "500000\n",
      "Compiling ContextCpu kernels...\n",
      "Done compiling ContextCpu kernels.\n",
      "Compiling ContextCpu kernels...\n",
      "Done compiling ContextCpu kernels.\n",
      "Tracking...\n",
      "Compiling ContextCpu kernels...\n"
     ]
    },
    {
     "name": "stderr",
     "output_type": "stream",
     "text": [
      "ld: warning: dylib (/Users/arizakhtar/miniforge3/lib/libomp.dylib) was built for newer macOS version (11.1) than being linked (11.0)\n"
     ]
    },
    {
     "name": "stdout",
     "output_type": "stream",
     "text": [
      "Done compiling ContextCpu kernels.\n",
      "Compiling ContextCpu kernels...\n"
     ]
    },
    {
     "name": "stderr",
     "output_type": "stream",
     "text": [
      "ld: warning: dylib (/Users/arizakhtar/miniforge3/lib/libomp.dylib) was built for newer macOS version (11.1) than being linked (11.0)\n"
     ]
    },
    {
     "name": "stdout",
     "output_type": "stream",
     "text": [
      "Done compiling ContextCpu kernels.\n",
      "lumigrid_my_beam size: (500, 500)\n",
      "exchange_buffer size: (250017,)\n",
      "lumigrid_my_beam size: (500, 500)\n",
      "exchange_buffer size: (250017,)\n",
      "lumigrid_my_beam size: (500, 500)\n",
      "exchange_buffer size: (250017,)\n",
      "lumigrid_my_beam size: (500, 500)\n",
      "exchange_buffer size: (250017,)\n",
      "lumigrid_my_beam size: (500, 500)\n",
      "exchange_buffer size: (250017,)\n",
      "lumigrid_my_beam size: (500, 500)\n",
      "exchange_buffer size: (250017,)\n",
      "Done with tracking. 0.7579484224319458 [s/turn]\n",
      "Gaussian Luminosity with beam-beam: [8.28348286e+38 9.77791140e+34 1.01395845e+35]\n",
      "Numerical Integrator Luminosity with beam-beam: [4.08982340e+38 1.62042620e+34 1.85349768e+35]\n",
      "6.735979922123131e+23\n",
      "analytical: 3.763750839060321e+37\n",
      "Compiling ContextCpu kernels...\n",
      "Done compiling ContextCpu kernels.\n",
      "build bb elements...\n",
      "500000\n",
      "Compiling ContextCpu kernels...\n",
      "Done compiling ContextCpu kernels.\n",
      "Compiling ContextCpu kernels...\n",
      "Done compiling ContextCpu kernels.\n",
      "Tracking...\n",
      "Compiling ContextCpu kernels...\n"
     ]
    },
    {
     "name": "stderr",
     "output_type": "stream",
     "text": [
      "ld: warning: dylib (/Users/arizakhtar/miniforge3/lib/libomp.dylib) was built for newer macOS version (11.1) than being linked (11.0)\n"
     ]
    },
    {
     "name": "stdout",
     "output_type": "stream",
     "text": [
      "Done compiling ContextCpu kernels.\n",
      "Compiling ContextCpu kernels...\n"
     ]
    },
    {
     "name": "stderr",
     "output_type": "stream",
     "text": [
      "ld: warning: dylib (/Users/arizakhtar/miniforge3/lib/libomp.dylib) was built for newer macOS version (11.1) than being linked (11.0)\n"
     ]
    },
    {
     "name": "stdout",
     "output_type": "stream",
     "text": [
      "Done compiling ContextCpu kernels.\n",
      "lumigrid_my_beam size: (800, 800)\n",
      "exchange_buffer size: (640017,)\n",
      "lumigrid_my_beam size: (800, 800)\n",
      "exchange_buffer size: (640017,)\n",
      "lumigrid_my_beam size: (800, 800)\n",
      "exchange_buffer size: (640017,)\n",
      "lumigrid_my_beam size: (800, 800)\n",
      "exchange_buffer size: (640017,)\n",
      "lumigrid_my_beam size: (800, 800)\n",
      "exchange_buffer size: (640017,)\n",
      "lumigrid_my_beam size: (800, 800)\n",
      "exchange_buffer size: (640017,)\n",
      "Done with tracking. 1.226705503463745 [s/turn]\n",
      "Gaussian Luminosity with beam-beam: [8.29880374e+38 9.77736792e+34 1.01380327e+35]\n",
      "Numerical Integrator Luminosity with beam-beam: [4.10339229e+38 1.72563942e+34 1.94986587e+35]\n",
      "1.726378476147164e+24\n",
      "analytical: 3.763750839060321e+37\n",
      "Compiling ContextCpu kernels...\n",
      "Done compiling ContextCpu kernels.\n",
      "build bb elements...\n",
      "500000\n",
      "Compiling ContextCpu kernels...\n",
      "Done compiling ContextCpu kernels.\n",
      "Compiling ContextCpu kernels...\n",
      "Done compiling ContextCpu kernels.\n",
      "Tracking...\n",
      "Compiling ContextCpu kernels...\n"
     ]
    },
    {
     "name": "stderr",
     "output_type": "stream",
     "text": [
      "ld: warning: dylib (/Users/arizakhtar/miniforge3/lib/libomp.dylib) was built for newer macOS version (11.1) than being linked (11.0)\n"
     ]
    },
    {
     "name": "stdout",
     "output_type": "stream",
     "text": [
      "Done compiling ContextCpu kernels.\n",
      "Compiling ContextCpu kernels...\n"
     ]
    },
    {
     "name": "stderr",
     "output_type": "stream",
     "text": [
      "ld: warning: dylib (/Users/arizakhtar/miniforge3/lib/libomp.dylib) was built for newer macOS version (11.1) than being linked (11.0)\n"
     ]
    },
    {
     "name": "stdout",
     "output_type": "stream",
     "text": [
      "Done compiling ContextCpu kernels.\n",
      "lumigrid_my_beam size: (1000, 1000)\n",
      "exchange_buffer size: (1000017,)\n",
      "lumigrid_my_beam size: (1000, 1000)\n",
      "exchange_buffer size: (1000017,)\n",
      "lumigrid_my_beam size: (1000, 1000)\n",
      "exchange_buffer size: (1000017,)\n",
      "lumigrid_my_beam size: (1000, 1000)\n",
      "exchange_buffer size: (1000017,)\n",
      "lumigrid_my_beam size: (1000, 1000)\n",
      "exchange_buffer size: (1000017,)\n",
      "lumigrid_my_beam size: (1000, 1000)\n",
      "exchange_buffer size: (1000017,)\n",
      "Done with tracking. 1.6400617361068726 [s/turn]\n",
      "Gaussian Luminosity with beam-beam: [8.29190225e+38 9.81813276e+34 1.01794932e+35]\n",
      "Numerical Integrator Luminosity with beam-beam: [4.09222087e+38 1.83780260e+34 2.07957304e+35]\n",
      "2.695294850708156e+24\n",
      "analytical: 3.763750839060321e+37\n",
      "Compiling ContextCpu kernels...\n",
      "Done compiling ContextCpu kernels.\n",
      "build bb elements...\n",
      "500000\n",
      "Compiling ContextCpu kernels...\n",
      "Done compiling ContextCpu kernels.\n",
      "Compiling ContextCpu kernels...\n",
      "Done compiling ContextCpu kernels.\n",
      "Tracking...\n",
      "Compiling ContextCpu kernels...\n"
     ]
    },
    {
     "name": "stderr",
     "output_type": "stream",
     "text": [
      "ld: warning: dylib (/Users/arizakhtar/miniforge3/lib/libomp.dylib) was built for newer macOS version (11.1) than being linked (11.0)\n"
     ]
    },
    {
     "name": "stdout",
     "output_type": "stream",
     "text": [
      "Done compiling ContextCpu kernels.\n",
      "Compiling ContextCpu kernels...\n"
     ]
    },
    {
     "name": "stderr",
     "output_type": "stream",
     "text": [
      "ld: warning: dylib (/Users/arizakhtar/miniforge3/lib/libomp.dylib) was built for newer macOS version (11.1) than being linked (11.0)\n"
     ]
    },
    {
     "name": "stdout",
     "output_type": "stream",
     "text": [
      "Done compiling ContextCpu kernels.\n",
      "lumigrid_my_beam size: (1500, 1500)\n",
      "exchange_buffer size: (2250017,)\n",
      "lumigrid_my_beam size: (1500, 1500)\n",
      "exchange_buffer size: (2250017,)\n",
      "lumigrid_my_beam size: (1500, 1500)\n",
      "exchange_buffer size: (2250017,)\n",
      "lumigrid_my_beam size: (1500, 1500)\n",
      "exchange_buffer size: (2250017,)\n",
      "lumigrid_my_beam size: (1500, 1500)\n",
      "exchange_buffer size: (2250017,)\n",
      "lumigrid_my_beam size: (1500, 1500)\n",
      "exchange_buffer size: (2250017,)\n",
      "Done with tracking. 3.3076452016830444 [s/turn]\n",
      "Gaussian Luminosity with beam-beam: [8.29784772e+38 9.80336879e+34 1.01667280e+35]\n",
      "Numerical Integrator Luminosity with beam-beam: [4.09120470e+38 1.94119154e+34 2.16045621e+35]\n",
      "6.066721323044845e+24\n",
      "analytical: 3.763750839060321e+37\n",
      "Compiling ContextCpu kernels...\n",
      "Done compiling ContextCpu kernels.\n",
      "build bb elements...\n",
      "1000000\n",
      "Compiling ContextCpu kernels...\n",
      "Done compiling ContextCpu kernels.\n",
      "Compiling ContextCpu kernels...\n",
      "Done compiling ContextCpu kernels.\n",
      "Tracking...\n",
      "Compiling ContextCpu kernels...\n"
     ]
    },
    {
     "name": "stderr",
     "output_type": "stream",
     "text": [
      "ld: warning: dylib (/Users/arizakhtar/miniforge3/lib/libomp.dylib) was built for newer macOS version (11.1) than being linked (11.0)\n"
     ]
    },
    {
     "name": "stdout",
     "output_type": "stream",
     "text": [
      "Done compiling ContextCpu kernels.\n",
      "Compiling ContextCpu kernels...\n"
     ]
    },
    {
     "name": "stderr",
     "output_type": "stream",
     "text": [
      "ld: warning: dylib (/Users/arizakhtar/miniforge3/lib/libomp.dylib) was built for newer macOS version (11.1) than being linked (11.0)\n"
     ]
    },
    {
     "name": "stdout",
     "output_type": "stream",
     "text": [
      "Done compiling ContextCpu kernels.\n",
      "lumigrid_my_beam size: (10, 10)\n",
      "exchange_buffer size: (117,)\n",
      "lumigrid_my_beam size: (10, 10)\n",
      "exchange_buffer size: (117,)\n",
      "lumigrid_my_beam size: (10, 10)\n",
      "exchange_buffer size: (117,)\n",
      "lumigrid_my_beam size: (10, 10)\n",
      "exchange_buffer size: (117,)\n",
      "lumigrid_my_beam size: (10, 10)\n",
      "exchange_buffer size: (117,)\n",
      "lumigrid_my_beam size: (10, 10)\n",
      "exchange_buffer size: (117,)\n",
      "Done with tracking. 0.6643877029418945 [s/turn]\n",
      "Gaussian Luminosity with beam-beam: [8.29179436e+38 9.80931215e+34 1.01716823e+35]\n",
      "Numerical Integrator Luminosity with beam-beam: [1.59364310e+38 2.73049598e+33 1.92791628e+34]\n",
      "4.384106966935279e+20\n",
      "analytical: 3.763750839060321e+37\n",
      "Compiling ContextCpu kernels...\n",
      "Done compiling ContextCpu kernels.\n",
      "build bb elements...\n",
      "1000000\n",
      "Compiling ContextCpu kernels...\n",
      "Done compiling ContextCpu kernels.\n",
      "Compiling ContextCpu kernels...\n",
      "Done compiling ContextCpu kernels.\n",
      "Tracking...\n",
      "Compiling ContextCpu kernels...\n"
     ]
    },
    {
     "name": "stderr",
     "output_type": "stream",
     "text": [
      "ld: warning: dylib (/Users/arizakhtar/miniforge3/lib/libomp.dylib) was built for newer macOS version (11.1) than being linked (11.0)\n"
     ]
    },
    {
     "name": "stdout",
     "output_type": "stream",
     "text": [
      "Done compiling ContextCpu kernels.\n",
      "Compiling ContextCpu kernels...\n"
     ]
    },
    {
     "name": "stderr",
     "output_type": "stream",
     "text": [
      "ld: warning: dylib (/Users/arizakhtar/miniforge3/lib/libomp.dylib) was built for newer macOS version (11.1) than being linked (11.0)\n"
     ]
    },
    {
     "name": "stdout",
     "output_type": "stream",
     "text": [
      "Done compiling ContextCpu kernels.\n",
      "lumigrid_my_beam size: (20, 20)\n",
      "exchange_buffer size: (417,)\n",
      "lumigrid_my_beam size: (20, 20)\n",
      "exchange_buffer size: (417,)\n",
      "lumigrid_my_beam size: (20, 20)\n",
      "exchange_buffer size: (417,)\n",
      "lumigrid_my_beam size: (20, 20)\n",
      "exchange_buffer size: (417,)\n",
      "lumigrid_my_beam size: (20, 20)\n",
      "exchange_buffer size: (417,)\n",
      "lumigrid_my_beam size: (20, 20)\n",
      "exchange_buffer size: (417,)\n",
      "Done with tracking. 0.6710014820098877 [s/turn]\n",
      "Gaussian Luminosity with beam-beam: [8.28742260e+38 9.81764901e+34 1.01797364e+35]\n",
      "Numerical Integrator Luminosity with beam-beam: [3.21652833e+38 4.61820771e+33 3.76973504e+34]\n",
      "1.9506600380976037e+21\n",
      "analytical: 3.763750839060321e+37\n",
      "Compiling ContextCpu kernels...\n",
      "Done compiling ContextCpu kernels.\n",
      "build bb elements...\n",
      "1000000\n",
      "Compiling ContextCpu kernels...\n",
      "Done compiling ContextCpu kernels.\n",
      "Compiling ContextCpu kernels...\n",
      "Done compiling ContextCpu kernels.\n",
      "Tracking...\n",
      "Compiling ContextCpu kernels...\n"
     ]
    },
    {
     "name": "stderr",
     "output_type": "stream",
     "text": [
      "ld: warning: dylib (/Users/arizakhtar/miniforge3/lib/libomp.dylib) was built for newer macOS version (11.1) than being linked (11.0)\n"
     ]
    },
    {
     "name": "stdout",
     "output_type": "stream",
     "text": [
      "Done compiling ContextCpu kernels.\n",
      "Compiling ContextCpu kernels...\n"
     ]
    },
    {
     "name": "stderr",
     "output_type": "stream",
     "text": [
      "ld: warning: dylib (/Users/arizakhtar/miniforge3/lib/libomp.dylib) was built for newer macOS version (11.1) than being linked (11.0)\n"
     ]
    },
    {
     "name": "stdout",
     "output_type": "stream",
     "text": [
      "Done compiling ContextCpu kernels.\n",
      "lumigrid_my_beam size: (50, 50)\n",
      "exchange_buffer size: (2517,)\n",
      "lumigrid_my_beam size: (50, 50)\n",
      "exchange_buffer size: (2517,)\n",
      "lumigrid_my_beam size: (50, 50)\n",
      "exchange_buffer size: (2517,)\n",
      "lumigrid_my_beam size: (50, 50)\n",
      "exchange_buffer size: (2517,)\n",
      "lumigrid_my_beam size: (50, 50)\n",
      "exchange_buffer size: (2517,)\n",
      "lumigrid_my_beam size: (50, 50)\n",
      "exchange_buffer size: (2517,)\n",
      "Done with tracking. 0.6442277908325196 [s/turn]\n",
      "Gaussian Luminosity with beam-beam: [8.28897779e+38 9.79253124e+34 1.01552047e+35]\n",
      "Numerical Integrator Luminosity with beam-beam: [3.93854354e+38 8.25074920e+33 8.05019852e+34]\n",
      "1.2999391888129835e+22\n",
      "analytical: 3.763750839060321e+37\n",
      "Compiling ContextCpu kernels...\n",
      "Done compiling ContextCpu kernels.\n",
      "build bb elements...\n",
      "1000000\n",
      "Compiling ContextCpu kernels...\n",
      "Done compiling ContextCpu kernels.\n",
      "Compiling ContextCpu kernels...\n",
      "Done compiling ContextCpu kernels.\n",
      "Tracking...\n",
      "Compiling ContextCpu kernels...\n"
     ]
    },
    {
     "name": "stderr",
     "output_type": "stream",
     "text": [
      "ld: warning: dylib (/Users/arizakhtar/miniforge3/lib/libomp.dylib) was built for newer macOS version (11.1) than being linked (11.0)\n"
     ]
    },
    {
     "name": "stdout",
     "output_type": "stream",
     "text": [
      "Done compiling ContextCpu kernels.\n",
      "Compiling ContextCpu kernels...\n"
     ]
    },
    {
     "name": "stderr",
     "output_type": "stream",
     "text": [
      "ld: warning: dylib (/Users/arizakhtar/miniforge3/lib/libomp.dylib) was built for newer macOS version (11.1) than being linked (11.0)\n"
     ]
    },
    {
     "name": "stdout",
     "output_type": "stream",
     "text": [
      "Done compiling ContextCpu kernels.\n",
      "lumigrid_my_beam size: (100, 100)\n",
      "exchange_buffer size: (10017,)\n",
      "lumigrid_my_beam size: (100, 100)\n",
      "exchange_buffer size: (10017,)\n",
      "lumigrid_my_beam size: (100, 100)\n",
      "exchange_buffer size: (10017,)\n",
      "lumigrid_my_beam size: (100, 100)\n",
      "exchange_buffer size: (10017,)\n",
      "lumigrid_my_beam size: (100, 100)\n",
      "exchange_buffer size: (10017,)\n",
      "lumigrid_my_beam size: (100, 100)\n",
      "exchange_buffer size: (10017,)\n",
      "Done with tracking. 0.6550137996673584 [s/turn]\n",
      "Gaussian Luminosity with beam-beam: [8.29116451e+38 9.82308519e+34 1.01869918e+35]\n",
      "Numerical Integrator Luminosity with beam-beam: [4.05675931e+38 1.09838818e+34 1.16542675e+35]\n",
      "5.293191783859694e+22\n",
      "analytical: 3.763750839060321e+37\n",
      "Compiling ContextCpu kernels...\n",
      "Done compiling ContextCpu kernels.\n",
      "build bb elements...\n",
      "1000000\n",
      "Compiling ContextCpu kernels...\n",
      "Done compiling ContextCpu kernels.\n",
      "Compiling ContextCpu kernels...\n",
      "Done compiling ContextCpu kernels.\n",
      "Tracking...\n",
      "Compiling ContextCpu kernels...\n"
     ]
    },
    {
     "name": "stderr",
     "output_type": "stream",
     "text": [
      "ld: warning: dylib (/Users/arizakhtar/miniforge3/lib/libomp.dylib) was built for newer macOS version (11.1) than being linked (11.0)\n"
     ]
    },
    {
     "name": "stdout",
     "output_type": "stream",
     "text": [
      "Done compiling ContextCpu kernels.\n",
      "Compiling ContextCpu kernels...\n"
     ]
    },
    {
     "name": "stderr",
     "output_type": "stream",
     "text": [
      "ld: warning: dylib (/Users/arizakhtar/miniforge3/lib/libomp.dylib) was built for newer macOS version (11.1) than being linked (11.0)\n"
     ]
    },
    {
     "name": "stdout",
     "output_type": "stream",
     "text": [
      "Done compiling ContextCpu kernels.\n",
      "lumigrid_my_beam size: (200, 200)\n",
      "exchange_buffer size: (40017,)\n",
      "lumigrid_my_beam size: (200, 200)\n",
      "exchange_buffer size: (40017,)\n",
      "lumigrid_my_beam size: (200, 200)\n",
      "exchange_buffer size: (40017,)\n",
      "lumigrid_my_beam size: (200, 200)\n",
      "exchange_buffer size: (40017,)\n",
      "lumigrid_my_beam size: (200, 200)\n",
      "exchange_buffer size: (40017,)\n",
      "lumigrid_my_beam size: (200, 200)\n",
      "exchange_buffer size: (40017,)\n",
      "Done with tracking. 0.6706542015075684 [s/turn]\n",
      "Gaussian Luminosity with beam-beam: [8.28350429e+38 9.80726444e+34 1.01698482e+35]\n",
      "Numerical Integrator Luminosity with beam-beam: [4.08009497e+38 1.33380020e+34 1.44532748e+35]\n",
      "2.1387421124227434e+23\n",
      "analytical: 3.763750839060321e+37\n",
      "Compiling ContextCpu kernels...\n",
      "Done compiling ContextCpu kernels.\n",
      "build bb elements...\n",
      "1000000\n",
      "Compiling ContextCpu kernels...\n",
      "Done compiling ContextCpu kernels.\n",
      "Compiling ContextCpu kernels...\n",
      "Done compiling ContextCpu kernels.\n",
      "Tracking...\n",
      "Compiling ContextCpu kernels...\n"
     ]
    },
    {
     "name": "stderr",
     "output_type": "stream",
     "text": [
      "ld: warning: dylib (/Users/arizakhtar/miniforge3/lib/libomp.dylib) was built for newer macOS version (11.1) than being linked (11.0)\n"
     ]
    },
    {
     "name": "stdout",
     "output_type": "stream",
     "text": [
      "Done compiling ContextCpu kernels.\n",
      "Compiling ContextCpu kernels...\n"
     ]
    },
    {
     "name": "stderr",
     "output_type": "stream",
     "text": [
      "ld: warning: dylib (/Users/arizakhtar/miniforge3/lib/libomp.dylib) was built for newer macOS version (11.1) than being linked (11.0)\n"
     ]
    },
    {
     "name": "stdout",
     "output_type": "stream",
     "text": [
      "Done compiling ContextCpu kernels.\n",
      "lumigrid_my_beam size: (300, 300)\n",
      "exchange_buffer size: (90017,)\n",
      "lumigrid_my_beam size: (300, 300)\n",
      "exchange_buffer size: (90017,)\n",
      "lumigrid_my_beam size: (300, 300)\n",
      "exchange_buffer size: (90017,)\n",
      "lumigrid_my_beam size: (300, 300)\n",
      "exchange_buffer size: (90017,)\n",
      "lumigrid_my_beam size: (300, 300)\n",
      "exchange_buffer size: (90017,)\n",
      "lumigrid_my_beam size: (300, 300)\n",
      "exchange_buffer size: (90017,)\n",
      "Done with tracking. 0.71476731300354 [s/turn]\n",
      "Gaussian Luminosity with beam-beam: [8.29580802e+38 9.79421481e+34 1.01543863e+35]\n",
      "Numerical Integrator Luminosity with beam-beam: [4.09638080e+38 1.39188451e+34 1.55746070e+35]\n",
      "4.834837678559693e+23\n",
      "analytical: 3.763750839060321e+37\n",
      "Compiling ContextCpu kernels...\n",
      "Done compiling ContextCpu kernels.\n",
      "build bb elements...\n",
      "1000000\n",
      "Compiling ContextCpu kernels...\n",
      "Done compiling ContextCpu kernels.\n",
      "Compiling ContextCpu kernels...\n",
      "Done compiling ContextCpu kernels.\n",
      "Tracking...\n",
      "Compiling ContextCpu kernels...\n"
     ]
    },
    {
     "name": "stderr",
     "output_type": "stream",
     "text": [
      "ld: warning: dylib (/Users/arizakhtar/miniforge3/lib/libomp.dylib) was built for newer macOS version (11.1) than being linked (11.0)\n"
     ]
    },
    {
     "name": "stdout",
     "output_type": "stream",
     "text": [
      "Done compiling ContextCpu kernels.\n",
      "Compiling ContextCpu kernels...\n"
     ]
    },
    {
     "name": "stderr",
     "output_type": "stream",
     "text": [
      "ld: warning: dylib (/Users/arizakhtar/miniforge3/lib/libomp.dylib) was built for newer macOS version (11.1) than being linked (11.0)\n"
     ]
    },
    {
     "name": "stdout",
     "output_type": "stream",
     "text": [
      "Done compiling ContextCpu kernels.\n",
      "lumigrid_my_beam size: (500, 500)\n",
      "exchange_buffer size: (250017,)\n",
      "lumigrid_my_beam size: (500, 500)\n",
      "exchange_buffer size: (250017,)\n",
      "lumigrid_my_beam size: (500, 500)\n",
      "exchange_buffer size: (250017,)\n",
      "lumigrid_my_beam size: (500, 500)\n",
      "exchange_buffer size: (250017,)\n",
      "lumigrid_my_beam size: (500, 500)\n",
      "exchange_buffer size: (250017,)\n",
      "lumigrid_my_beam size: (500, 500)\n",
      "exchange_buffer size: (250017,)\n",
      "Done with tracking. 0.8895729064941407 [s/turn]\n",
      "Gaussian Luminosity with beam-beam: [8.28488358e+38 9.81686578e+34 1.01796089e+35]\n",
      "Numerical Integrator Luminosity with beam-beam: [4.08890628e+38 1.61745184e+34 1.85285132e+35]\n",
      "1.3433248655759523e+24\n",
      "analytical: 3.763750839060321e+37\n",
      "Compiling ContextCpu kernels...\n",
      "Done compiling ContextCpu kernels.\n",
      "build bb elements...\n",
      "1000000\n",
      "Compiling ContextCpu kernels...\n",
      "Done compiling ContextCpu kernels.\n",
      "Compiling ContextCpu kernels...\n",
      "Done compiling ContextCpu kernels.\n",
      "Tracking...\n",
      "Compiling ContextCpu kernels...\n"
     ]
    },
    {
     "name": "stderr",
     "output_type": "stream",
     "text": [
      "ld: warning: dylib (/Users/arizakhtar/miniforge3/lib/libomp.dylib) was built for newer macOS version (11.1) than being linked (11.0)\n"
     ]
    },
    {
     "name": "stdout",
     "output_type": "stream",
     "text": [
      "Done compiling ContextCpu kernels.\n",
      "Compiling ContextCpu kernels...\n"
     ]
    },
    {
     "name": "stderr",
     "output_type": "stream",
     "text": [
      "ld: warning: dylib (/Users/arizakhtar/miniforge3/lib/libomp.dylib) was built for newer macOS version (11.1) than being linked (11.0)\n"
     ]
    },
    {
     "name": "stdout",
     "output_type": "stream",
     "text": [
      "Done compiling ContextCpu kernels.\n",
      "lumigrid_my_beam size: (800, 800)\n",
      "exchange_buffer size: (640017,)\n",
      "lumigrid_my_beam size: (800, 800)\n",
      "exchange_buffer size: (640017,)\n",
      "lumigrid_my_beam size: (800, 800)\n",
      "exchange_buffer size: (640017,)\n",
      "lumigrid_my_beam size: (800, 800)\n",
      "exchange_buffer size: (640017,)\n",
      "lumigrid_my_beam size: (800, 800)\n",
      "exchange_buffer size: (640017,)\n",
      "lumigrid_my_beam size: (800, 800)\n",
      "exchange_buffer size: (640017,)\n",
      "Done with tracking. 1.3750726938247682 [s/turn]\n",
      "Gaussian Luminosity with beam-beam: [8.29461371e+38 9.78587721e+34 1.01483565e+35]\n",
      "Numerical Integrator Luminosity with beam-beam: [4.09881379e+38 1.72960590e+34 1.95812078e+35]\n",
      "3.4492112202323425e+24\n",
      "analytical: 3.763750839060321e+37\n",
      "Compiling ContextCpu kernels...\n",
      "Done compiling ContextCpu kernels.\n",
      "build bb elements...\n",
      "1000000\n",
      "Compiling ContextCpu kernels...\n",
      "Done compiling ContextCpu kernels.\n",
      "Compiling ContextCpu kernels...\n",
      "Done compiling ContextCpu kernels.\n",
      "Tracking...\n",
      "Compiling ContextCpu kernels...\n"
     ]
    },
    {
     "name": "stderr",
     "output_type": "stream",
     "text": [
      "ld: warning: dylib (/Users/arizakhtar/miniforge3/lib/libomp.dylib) was built for newer macOS version (11.1) than being linked (11.0)\n"
     ]
    },
    {
     "name": "stdout",
     "output_type": "stream",
     "text": [
      "Done compiling ContextCpu kernels.\n",
      "Compiling ContextCpu kernels...\n"
     ]
    },
    {
     "name": "stderr",
     "output_type": "stream",
     "text": [
      "ld: warning: dylib (/Users/arizakhtar/miniforge3/lib/libomp.dylib) was built for newer macOS version (11.1) than being linked (11.0)\n"
     ]
    },
    {
     "name": "stdout",
     "output_type": "stream",
     "text": [
      "Done compiling ContextCpu kernels.\n",
      "lumigrid_my_beam size: (1000, 1000)\n",
      "exchange_buffer size: (1000017,)\n",
      "lumigrid_my_beam size: (1000, 1000)\n",
      "exchange_buffer size: (1000017,)\n",
      "lumigrid_my_beam size: (1000, 1000)\n",
      "exchange_buffer size: (1000017,)\n",
      "lumigrid_my_beam size: (1000, 1000)\n",
      "exchange_buffer size: (1000017,)\n",
      "lumigrid_my_beam size: (1000, 1000)\n",
      "exchange_buffer size: (1000017,)\n",
      "lumigrid_my_beam size: (1000, 1000)\n",
      "exchange_buffer size: (1000017,)\n",
      "Done with tracking. 1.7753257989883422 [s/turn]\n",
      "Gaussian Luminosity with beam-beam: [8.29202522e+38 9.80924865e+34 1.01707437e+35]\n",
      "Numerical Integrator Luminosity with beam-beam: [4.09432739e+38 1.84238263e+34 2.07631406e+35]\n",
      "5.390114219624572e+24\n",
      "analytical: 3.763750839060321e+37\n",
      "Compiling ContextCpu kernels...\n",
      "Done compiling ContextCpu kernels.\n",
      "build bb elements...\n",
      "1000000\n",
      "Compiling ContextCpu kernels...\n",
      "Done compiling ContextCpu kernels.\n",
      "Compiling ContextCpu kernels...\n",
      "Done compiling ContextCpu kernels.\n",
      "Tracking...\n",
      "Compiling ContextCpu kernels...\n"
     ]
    },
    {
     "name": "stderr",
     "output_type": "stream",
     "text": [
      "ld: warning: dylib (/Users/arizakhtar/miniforge3/lib/libomp.dylib) was built for newer macOS version (11.1) than being linked (11.0)\n"
     ]
    },
    {
     "name": "stdout",
     "output_type": "stream",
     "text": [
      "Done compiling ContextCpu kernels.\n",
      "Compiling ContextCpu kernels...\n"
     ]
    },
    {
     "name": "stderr",
     "output_type": "stream",
     "text": [
      "ld: warning: dylib (/Users/arizakhtar/miniforge3/lib/libomp.dylib) was built for newer macOS version (11.1) than being linked (11.0)\n"
     ]
    },
    {
     "name": "stdout",
     "output_type": "stream",
     "text": [
      "Done compiling ContextCpu kernels.\n",
      "lumigrid_my_beam size: (1500, 1500)\n",
      "exchange_buffer size: (2250017,)\n",
      "lumigrid_my_beam size: (1500, 1500)\n",
      "exchange_buffer size: (2250017,)\n",
      "lumigrid_my_beam size: (1500, 1500)\n",
      "exchange_buffer size: (2250017,)\n",
      "lumigrid_my_beam size: (1500, 1500)\n",
      "exchange_buffer size: (2250017,)\n",
      "lumigrid_my_beam size: (1500, 1500)\n",
      "exchange_buffer size: (2250017,)\n",
      "lumigrid_my_beam size: (1500, 1500)\n",
      "exchange_buffer size: (2250017,)\n",
      "Done with tracking. 3.491713619232178 [s/turn]\n",
      "Gaussian Luminosity with beam-beam: [8.29451361e+38 9.78733425e+34 1.01477758e+35]\n",
      "Numerical Integrator Luminosity with beam-beam: [4.09285184e+38 1.96217832e+34 2.16493119e+35]\n",
      "1.215385618417393e+25\n",
      "analytical: 3.763750839060321e+37\n"
     ]
    },
    {
     "data": {
      "image/png": "[encoded data removed]",
      "text/plain": [
       "<Figure size 800x600 with 2 Axes>"
      ]
     },
     "metadata": {},
     "output_type": "display_data"
    }
   ],
   "source": [
    "#Attempting to delete all hardcoding from beambeam3d.py and having variables as inputs instead\n",
    "import numpy as np\n",
    "from matplotlib import pyplot as plt\n",
    "import xobjects as xo\n",
    "import xtrack as xt\n",
    "import xfieldsdevlumi as xf\n",
    "import xpart as xp\n",
    "import time\n",
    "# Generating sequences\n",
    "        \n",
    "n_macroparticles_list = [100, 200, 300, 500, 800, 1000, 5000, 100000, 500000, 1000000]  \n",
    "n_lumigrid_cells_list = [10, 20, 50, 100, 200, 300, 500, 800, 1000, 1500]\n",
    "#n_macroparticles_list = [100, 200, 300, 500]\n",
    "#n_lumigrid_cells_list = [10, 20, 50, 100]\n",
    "lumi_results = []     \n",
    "        \n",
    "for n_macroparticles in n_macroparticles_list:\n",
    "    for n_lumigrid_cells in n_lumigrid_cells_list:\n",
    "                \n",
    "        context = xo.ContextCpu(omp_num_threads=8)\n",
    "        \n",
    "        p0c = 182.5e9\n",
    "        bunch_intensity = 2.3E11\n",
    "        physemit_x = (1.46E-9*xp.PROTON_MASS_EV)/p0c #does this need the times proton mass/p0c?\n",
    "        physemit_y = (2.9E-12*xp.PROTON_MASS_EV)/p0c #does this need the times proton mass/p0c?\n",
    "        beta_x = 1.0\n",
    "        beta_y = 1.6e-3\n",
    "        sigma_z = 0.002\n",
    "        sigma_delta = 1.3E-3\n",
    "        beta_s = sigma_z/sigma_delta\n",
    "        Qx = 0.47\n",
    "        Qy = 0.57\n",
    "        Qs = 0.11\n",
    "        frev = 2991\n",
    "        nTurn = 3\n",
    "        \n",
    "        #n_macroparticles = int(100000)\n",
    "        xs_b1 = []\n",
    "        ys_b1 = []\n",
    "        xs_b2 = []\n",
    "        ys_b2 = []\n",
    "        pxs_b1 = []\n",
    "        pys_b1 = []\n",
    "        pxs_b2 = []\n",
    "        pys_b2 = []\n",
    "        \n",
    "        pipeline_manager = xt.PipelineManager()\n",
    "        pipeline_manager.add_particles('b1',0)\n",
    "        pipeline_manager.add_particles('b2',0)\n",
    "        pipeline_manager.add_element('IP1')\n",
    "        pipeline_manager.add_element('IP2')\n",
    "        \n",
    "        particles_b1 = xp.Particles(_context=context,\n",
    "            p0c=p0c,\n",
    "            x=np.sqrt(physemit_x*beta_x)*(np.random.randn(n_macroparticles)),\n",
    "            px=np.sqrt(physemit_x/beta_x)*np.random.randn(n_macroparticles),\n",
    "            y=np.sqrt(physemit_y*beta_y)*(np.random.randn(n_macroparticles)),\n",
    "            py=np.sqrt(physemit_y/beta_y)*np.random.randn(n_macroparticles),\n",
    "            zeta=sigma_z*np.random.randn(n_macroparticles),\n",
    "            delta=sigma_delta*np.random.randn(n_macroparticles),\n",
    "            weight=bunch_intensity/n_macroparticles\n",
    "        )\n",
    "        particles_b1.init_pipeline('b1')\n",
    "        particles_b2 = xp.Particles(_context=context,\n",
    "            p0c=p0c,\n",
    "            x=np.sqrt(physemit_x*beta_x)*(np.random.randn(n_macroparticles)),\n",
    "            px=np.sqrt(physemit_x/beta_x)*np.random.randn(n_macroparticles),\n",
    "            y=np.sqrt(physemit_y*beta_y)*(np.random.randn(n_macroparticles)),\n",
    "            py=np.sqrt(physemit_y/beta_y)*np.random.randn(n_macroparticles),\n",
    "            zeta=sigma_z*np.random.randn(n_macroparticles),\n",
    "            delta=sigma_delta*np.random.randn(n_macroparticles),\n",
    "            weight=bunch_intensity/n_macroparticles\n",
    "        )\n",
    "        particles_b2.init_pipeline('b2')\n",
    "        \n",
    "        #############\n",
    "        # Beam-beam #\n",
    "        #############\n",
    "        slicer = xf.TempSlicer(sigma_z=sigma_z, n_slices=1, mode = 'shatilov')\n",
    "        config_for_update_b1 = xf.ConfigForUpdateBeamBeamBiGaussian3D(\n",
    "        pipeline_manager=pipeline_manager,\n",
    "        element_name='IP1',\n",
    "        partner_particles_name = 'b2',\n",
    "        slicer=slicer,\n",
    "        update_every=1,\n",
    "        )\n",
    "        config_for_update_b2 = xf.ConfigForUpdateBeamBeamBiGaussian3D(\n",
    "        pipeline_manager=pipeline_manager,\n",
    "        element_name='IP1',\n",
    "        partner_particles_name = 'b1',\n",
    "        slicer=slicer,\n",
    "        update_every=1,\n",
    "        )\n",
    "        \n",
    "        IP2_config_for_update_b1 = xf.ConfigForUpdateBeamBeamBiGaussian3D(\n",
    "        pipeline_manager=pipeline_manager,\n",
    "        element_name='IP2',\n",
    "        partner_particles_name = 'b2',\n",
    "        slicer=slicer,\n",
    "        update_every=1,\n",
    "        )\n",
    "        IP2_config_for_update_b2 = xf.ConfigForUpdateBeamBeamBiGaussian3D(\n",
    "        pipeline_manager=pipeline_manager,\n",
    "        element_name='IP2',\n",
    "        partner_particles_name = 'b1',\n",
    "        slicer=slicer,\n",
    "        update_every=1,\n",
    "        )\n",
    "        \n",
    "        print('build bb elements...')\n",
    "        bbeam_b1 = xf.BeamBeamBiGaussian3D(\n",
    "                    _context=context,\n",
    "                    other_beam_q0 = particles_b2.q0,\n",
    "                    phi = 0,alpha=0,\n",
    "                    config_for_update = config_for_update_b1,\n",
    "                    flag_numerical_luminosity = 1,\n",
    "                    flag_luminosity = 1,\n",
    "                    n_lumigrid_cells=n_lumigrid_cells,\n",
    "                    sig_lumigrid_cells=np.sqrt(physemit_x*beta_x),\n",
    "                    range_lumigrid_cells = 24,\n",
    "                    n_macroparticles=n_macroparticles,\n",
    "                    nTurn = nTurn,\n",
    "                    update_lumigrid_sum=1\n",
    "                    )\n",
    "        bbeam_b2 = xf.BeamBeamBiGaussian3D(\n",
    "                    _context=context,\n",
    "                    other_beam_q0 = particles_b1.q0,\n",
    "                    phi = 0,alpha=0,\n",
    "                    config_for_update = config_for_update_b2,\n",
    "                    flag_numerical_luminosity = 1,\n",
    "                    flag_luminosity = 1,\n",
    "                    n_lumigrid_cells=n_lumigrid_cells,\n",
    "                    sig_lumigrid_cells=np.sqrt(physemit_x*beta_x),\n",
    "                    range_lumigrid_cells = 24,\n",
    "                    n_macroparticles=n_macroparticles,\n",
    "                    nTurn = nTurn,\n",
    "                    update_lumigrid_sum=1\n",
    "                    )\n",
    "        print(n_macroparticles)\n",
    "        IP2_bbeam_b1 = xf.BeamBeamBiGaussian3D(\n",
    "                    _context=context,\n",
    "                    other_beam_q0 = particles_b2.q0,\n",
    "                    phi = 0,alpha=0,\n",
    "                    config_for_update = IP2_config_for_update_b1,\n",
    "                    flag_numerical_luminosity = 0,\n",
    "                    flag_luminosity = 1,\n",
    "                    update_lumigrid_sum=1)\n",
    "        IP2_bbeam_b2 = xf.BeamBeamBiGaussian3D(\n",
    "                    _context=context,\n",
    "                    other_beam_q0 = particles_b1.q0,\n",
    "                    phi = 0,alpha=0,\n",
    "                    config_for_update = IP2_config_for_update_b2,\n",
    "                    flag_numerical_luminosity= 0,\n",
    "                    flag_luminosity = 1,\n",
    "                    update_lumigrid_sum=1)\n",
    "        \n",
    "        \n",
    "        #################################################################\n",
    "        # arcs (here they are all the same with half the phase advance) #\n",
    "        #################################################################\n",
    "        \n",
    "        arc = xt.LineSegmentMap(\n",
    "                betx = beta_x,bety = beta_y,\n",
    "                qx = Qx/2, qy = Qy/2,bets = beta_s, qs=Qs)\n",
    "        #################################################################\n",
    "        # Tracker                                                       #\n",
    "        #################################################################\n",
    "        '''\n",
    "        elements_b1 = [bbeam_b1,arc]\n",
    "        elements_b2 = [bbeam_b2,arc]\n",
    "        element_names_b1 = ['bbeam_b1','arc']\n",
    "        element_names_b2 = ['bbeam_b2','arc']\n",
    "        '''\n",
    "        elements_b1 = [bbeam_b1,arc, IP2_bbeam_b1]\n",
    "        elements_b2 = [bbeam_b2,arc, IP2_bbeam_b2]\n",
    "        \n",
    "        line_b1 = xt.Line(elements=elements_b1)\n",
    "        line_b2 = xt.Line(elements=elements_b2)\n",
    "        line_b1.build_tracker()\n",
    "        line_b2.build_tracker()\n",
    "        branch_b1 = xt.PipelineBranch(line_b1,particles_b1)\n",
    "        branch_b2 = xt.PipelineBranch(line_b2,particles_b2)\n",
    "        \n",
    "        \n",
    "        multitracker = xt.PipelineMultiTracker(branches=[branch_b1,branch_b2])\n",
    "        \n",
    "        \n",
    "        record_qss_b1 = line_b1.start_internal_logging_for_elements_of_type(xf.BeamBeamBiGaussian3D, \n",
    "                                                                capacity={\n",
    "                                                                    \"beamstrahlungtable\": int(0),\n",
    "                                                                    \"bhabhatable\": int(0),\n",
    "                                                                    \"lumitable\": nTurn,\n",
    "                                                                    \"numlumitable\": nTurn\n",
    "                                                                })\n",
    "        \n",
    "        \n",
    "        print('Tracking...')\n",
    "        time0 = time.time()\n",
    "        \n",
    "        multitracker.track(num_turns=nTurn,turn_by_turn_monitor=True)\n",
    "        print('Done with tracking.',(time.time()-time0)/10,'[s/turn]')\n",
    "        line_b1.stop_internal_logging_for_elements_of_type(xf.BeamBeamBiGaussian3D)\n",
    "        \n",
    "        record_qss_b1.move(_context=xo.context_default)\n",
    "        \n",
    "        \n",
    "        lumi_b1_beambeam = record_qss_b1.lumitable.luminosity\n",
    "        num_lumi_b1_beambeam = bbeam_b1.numlumitable.numerical_luminosity\n",
    "        grid = bbeam_b1.lumigrid_sum\n",
    "        lumi_results.append([n_macroparticles, n_lumigrid_cells, num_lumi_b1_beambeam[0]])\n",
    "        print('Gaussian Luminosity with beam-beam:',frev*lumi_b1_beambeam)\n",
    "        print('Numerical Integrator Luminosity with beam-beam:',num_lumi_b1_beambeam)\n",
    "        print(np.sum(grid))\n",
    "        def Lumi_analytical(Nb, N1, N2, frev, Delta_i, sig_i, sig_x, sig_y):\n",
    "            W = np.exp(-Delta_i**2/(4*sig_i**2))\n",
    "            return ((Nb * N1 * N2 * frev * W)/(4 * np.pi * sig_x * sig_y))\n",
    "        \n",
    "        print('analytical:',Lumi_analytical(1, bunch_intensity, bunch_intensity, frev, 0,np.sqrt(physemit_x*beta_x), np.sqrt(physemit_x*beta_x), np.sqrt(physemit_y*beta_x)))\n",
    "\n",
    "\n",
    "analytical_lumi = Lumi_analytical(1, bunch_intensity, bunch_intensity, frev, \n",
    "                                  0, np.sqrt(physemit_x * beta_x), \n",
    "                                  np.sqrt(physemit_x * beta_x), \n",
    "                                  np.sqrt(physemit_y * beta_y)) #changed from * beta_x to * beta_y\n",
    "\n",
    "# Extract values from the results table\n",
    "lumi_results = np.array(lumi_results)\n",
    "n_macroparticles = lumi_results[:, 0]\n",
    "n_lumigrid_cells = lumi_results[:, 1]\n",
    "luminosities = lumi_results[:, 2]\n",
    "\n",
    "# Normalize luminosities\n",
    "normalised_lumis = luminosities / analytical_lumi  # Ensures no 0s\n",
    "\n",
    "# Define log-scaled bins\n",
    "bins_x = np.logspace(np.log10(n_macroparticles.min()), np.log10(n_macroparticles.max()), 10)\n",
    "bins_y = np.logspace(np.log10(n_lumigrid_cells.min()), np.log10(n_lumigrid_cells.max()), 10)\n",
    "\n",
    "# Create the 2D histogram\n",
    "plt.figure(figsize=(8, 6), facecolor='white')\n",
    "#plt.gca().set_facecolor(\"white\")\n",
    "\n",
    "hist, xedges, yedges, img = plt.hist2d(\n",
    "    n_macroparticles, \n",
    "    n_lumigrid_cells, \n",
    "    bins=[bins_x, bins_y], \n",
    "    weights=normalised_lumis,  # Use normalised values\n",
    "    cmap=\"plasma\", \n",
    "    norm=plt.Normalize(vmin=0.1, vmax=1.5)  # Adjusted scale for visibility\n",
    ")\n",
    "\n",
    "hist_masked = np.ma.masked_where(hist == 0, hist)\n",
    "img.set_array(hist_masked.ravel())\n",
    "\n",
    "\n",
    "# Add colorbar\n",
    "cbar = plt.colorbar(img)\n",
    "cbar.set_label(\"Normalized Numerical Luminosity (Analytical = 1.0)\")\n",
    "\n",
    "# Set axis labels and scaling\n",
    "plt.xlabel(\"Number of Macroparticles\")\n",
    "plt.ylabel(\"Number of Lumi Grid Cells\")\n",
    "plt.xscale(\"log\")\n",
    "plt.yscale(\"log\")\n",
    "plt.title(\"Fixed Normalized 2D Histogram of Luminosity\")\n",
    "plt.show()\n",
    "\n",
    "# # Convert to Numpy Array for Plotting\n",
    "# lumi_results = np.array(lumi_results)\n",
    "\n",
    "# # ==========================\n",
    "# # 2D Histogram Visualization\n",
    "# # ==========================\n",
    "# plt.figure(figsize=(8, 6))\n",
    "# plt.hist2d(lumi_results[:, 0], lumi_results[:, 1], weights=lumi_results[:, 2], \n",
    "#            bins=(len(n_macroparticles_list), len(n_lumigrid_cells_list)), cmap='plasma')\n",
    "\n",
    "# plt.colorbar(label=\"Numerical Luminosity\")\n",
    "# plt.xlabel(\"Number of Macroparticles\")\n",
    "# plt.ylabel(\"Number of Lumi Grid Cells\")\n",
    "# plt.xscale(\"log\")  \n",
    "# plt.yscale(\"log\")  \n",
    "# plt.title(\"2D Histogram of Luminosity vs Macroparticles & Lumi Grid Cells\")\n",
    "# plt.show()"
   ]
  },
  {
   "cell_type": "code",
   "execution_count": 4,
   "id": "e3fb68f3-0d2b-479a-91ec-843d9804d6bc",
   "metadata": {},
   "outputs": [
    {
     "data": {
      "text/plain": [
       "array([[1.00000000e+02, 1.00000000e+01, 2.73900856e+32],\n",
       "       [1.00000000e+02, 2.00000000e+01, 4.14284936e+32],\n",
       "       [1.00000000e+02, 5.00000000e+01, 6.70270062e+32],\n",
       "       [1.00000000e+02, 1.00000000e+02, 7.91865242e+32],\n",
       "       [2.00000000e+02, 1.00000000e+01, 2.37100756e+32],\n",
       "       [2.00000000e+02, 2.00000000e+01, 5.39393328e+32],\n",
       "       [2.00000000e+02, 5.00000000e+01, 6.84686494e+32],\n",
       "       [2.00000000e+02, 1.00000000e+02, 7.40696449e+32],\n",
       "       [3.00000000e+02, 1.00000000e+01, 2.59044638e+32],\n",
       "       [3.00000000e+02, 2.00000000e+01, 5.74095043e+32],\n",
       "       [3.00000000e+02, 5.00000000e+01, 6.12319982e+32],\n",
       "       [3.00000000e+02, 1.00000000e+02, 6.61811535e+32],\n",
       "       [5.00000000e+02, 1.00000000e+01, 2.73645147e+32],\n",
       "       [5.00000000e+02, 2.00000000e+01, 5.22065246e+32],\n",
       "       [5.00000000e+02, 5.00000000e+01, 6.68379503e+32],\n",
       "       [5.00000000e+02, 1.00000000e+02, 7.05891673e+32]])"
      ]
     },
     "execution_count": 4,
     "metadata": {},
     "output_type": "execute_result"
    }
   ],
   "source": [
    "lumi_results"
   ]
  },
  {
   "cell_type": "code",
   "execution_count": 2,
   "id": "37013195-9cc6-4b40-8f9d-4ee20711649a",
   "metadata": {},
   "outputs": [
    {
     "data": {
      "image/png": "[encoded data removed]",
      "text/plain": [
       "<Figure size 800x600 with 2 Axes>"
      ]
     },
     "metadata": {},
     "output_type": "display_data"
    }
   ],
   "source": [
    "import numpy as np\n",
    "from matplotlib import pyplot as plt\n",
    "from matplotlib.colors import LinearSegmentedColormap\n",
    "from matplotlib.colors import LogNorm\n",
    "import scipy.interpolate as interp\n",
    "\n",
    "\n",
    "# Create your histogram as before\n",
    "bins_x = np.logspace(np.log10(n_macroparticles.min()), np.log10(n_macroparticles.max()), 1000)\n",
    "bins_y = np.logspace(np.log10(n_lumigrid_cells.min()), np.log10(n_lumigrid_cells.max()), 1000)\n",
    "\n",
    "# Create the 2D histogram with normalized luminosities\n",
    "plt.figure(figsize=(8, 6), facecolor='white')\n",
    "\n",
    "# Create histogram\n",
    "hist, xedges, yedges, img = plt.hist2d(\n",
    "    n_macroparticles, \n",
    "    n_lumigrid_cells, \n",
    "    bins=[bins_x, bins_y], \n",
    "    weights=normalised_lumis,  # Use normalized values\n",
    "    cmap=\"plasma\",# Red color map\n",
    "    norm=LogNorm()\n",
    "    #norm=plt.Normalize(vmin=0, vmax=1)  # Normalize color scaling\n",
    ")\n",
    "\n",
    "# Mask the zero values (empty bins) in the histogram\n",
    "hist_masked = np.ma.masked_where(hist == 0, hist)\n",
    "\n",
    "# Coordinates of the non-zero bins\n",
    "x_non_zero, y_non_zero = np.where(hist > 0)\n",
    "\n",
    "# Coordinates of the empty bins\n",
    "x_empty, y_empty = np.where(hist == 0)\n",
    "\n",
    "# Prepare the grid for interpolation\n",
    "x_grid, y_grid = np.meshgrid(np.arange(hist.shape[1]), np.arange(hist.shape[0]))\n",
    "\n",
    "# Flatten the grid for interpolation purposes\n",
    "x_flat = x_grid.flatten()\n",
    "y_flat = y_grid.flatten()\n",
    "\n",
    "# Use scipy's griddata to perform interpolation\n",
    "points = np.array([x_non_zero, y_non_zero]).T  # Non-zero points as (x, y) pairs\n",
    "values = hist[x_non_zero, y_non_zero]  # Values at the non-zero points\n",
    "\n",
    "# Perform interpolation for the empty bins\n",
    "interpolated_values = interp.griddata(points, values, (x_flat, y_flat), method='linear', fill_value=0)\n",
    "\n",
    "# Reshape the interpolated values back to the 2D grid\n",
    "hist_interpolated = interpolated_values.reshape(hist.shape)\n",
    "\n",
    "# Mask any remaining zeros after interpolation\n",
    "hist_masked = np.ma.masked_where(hist_interpolated == 0, hist_interpolated)\n",
    "\n",
    "# Update the plot with the filled histogram data\n",
    "img.set_array(hist_masked.T)  # Transpose to match the plotting direction\n",
    "\n",
    "# Add colorbar\n",
    "cbar = plt.colorbar(img)\n",
    "cbar.set_label(\"Normalized Numerical Luminosity (Analytical = 1.0)\")\n",
    "\n",
    "# Set axis labels and scaling\n",
    "plt.xlabel(\"Number of Macroparticles\")\n",
    "plt.ylabel(\"Number of Lumi Grid Cells\")\n",
    "plt.xscale(\"log\")\n",
    "plt.yscale(\"log\")\n",
    "plt.title(\"Fixed Normalized 2D Histogram of Luminosity\")\n",
    "\n",
    "# Show the plot\n",
    "plt.show()\n"
   ]
  },
  {
   "cell_type": "code",
   "execution_count": null,
   "id": "ba763940-6bb9-43be-89f4-8c135b9f29fa",
   "metadata": {},
   "outputs": [],
   "source": []
  }
 ],
 "metadata": {
  "kernelspec": {
   "display_name": "Python 3 (ipykernel)",
   "language": "python",
   "name": "python3"
  },
  "language_info": {
   "codemirror_mode": {
    "name": "ipython",
    "version": 3
   },
   "file_extension": ".py",
   "mimetype": "text/x-python",
   "name": "python",
   "nbconvert_exporter": "python",
   "pygments_lexer": "ipython3",
   "version": "3.12.8"
  }
 },
 "nbformat": 4,
 "nbformat_minor": 5
}
